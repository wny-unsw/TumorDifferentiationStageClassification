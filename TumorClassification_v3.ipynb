{
  "cells": [
    {
      "cell_type": "markdown",
      "metadata": {
        "colab_type": "text",
        "id": "view-in-github"
      },
      "source": [
        "<a href=\"https://colab.research.google.com/github/wny-unsw/TumorDifferentiationStageClassification/blob/main/TumorClassification_v3.ipynb\" target=\"_parent\"><img src=\"https://colab.research.google.com/assets/colab-badge.svg\" alt=\"Open In Colab\"/></a>"
      ]
    },
    {
      "cell_type": "markdown",
      "metadata": {
        "id": "tn-XJHYE0Sii"
      },
      "source": [
        "# Tumor Classification V3"
      ]
    },
    {
      "cell_type": "markdown",
      "metadata": {
        "id": "u6mTf-pF0iap"
      },
      "source": [
        "**Author:** Ningyuan WANG   \n",
        "**Date:** April 2025  \n",
        "**Description:**  \n",
        "This notebook examines the performance of several existing models and proposes a new method for tumor differentiation stage classification on the [EBHI dataset](https://figshare.com/articles/dataset/EBH-HE-IDS/16999363/1).\n",
        "\n",
        "First, we fine-tune six [pretrained models](https://pytorch.org/vision/stable/models.html) (VGG16, AlexNet, GoogLeNet, DenseNet161, ResNet50, and MobileNet). The baseline models are fine-tuned by freezing the feature extraction layers and minimally modifying the classifiers to preserve the learned representations while adapting to the new task.\n",
        "\n",
        "Next, we select three models with strong performance and adjust their classifiers. After retraining these classifiers with several improvements, we apply soft voting ensembling. The proposed ensemble significantly improves performance.\n",
        "\n",
        "The weights and graphs are [available here](https://drive.google.com/drive/folders/1wwa705CJ7JJQWga8efDHNo3pa-Nii9Om?usp=drive_link).\n"
      ]
    },
    {
      "cell_type": "code",
      "execution_count": 1,
      "metadata": {
        "colab": {
          "base_uri": "https://localhost:8080/"
        },
        "id": "dKQ0LVPLqdwS",
        "outputId": "19892af5-8582-44f4-f46a-127f5b46747b"
      },
      "outputs": [
        {
          "name": "stdout",
          "output_type": "stream",
          "text": [
            "Wed Apr 16 02:52:59 2025       \n",
            "+-----------------------------------------------------------------------------------------+\n",
            "| NVIDIA-SMI 550.54.15              Driver Version: 550.54.15      CUDA Version: 12.4     |\n",
            "|-----------------------------------------+------------------------+----------------------+\n",
            "| GPU  Name                 Persistence-M | Bus-Id          Disp.A | Volatile Uncorr. ECC |\n",
            "| Fan  Temp   Perf          Pwr:Usage/Cap |           Memory-Usage | GPU-Util  Compute M. |\n",
            "|                                         |                        |               MIG M. |\n",
            "|=========================================+========================+======================|\n",
            "|   0  Tesla T4                       Off |   00000000:00:04.0 Off |                    0 |\n",
            "| N/A   45C    P8             12W /   70W |       0MiB /  15360MiB |      0%      Default |\n",
            "|                                         |                        |                  N/A |\n",
            "+-----------------------------------------+------------------------+----------------------+\n",
            "                                                                                         \n",
            "+-----------------------------------------------------------------------------------------+\n",
            "| Processes:                                                                              |\n",
            "|  GPU   GI   CI        PID   Type   Process name                              GPU Memory |\n",
            "|        ID   ID                                                               Usage      |\n",
            "|=========================================================================================|\n",
            "|  No running processes found                                                             |\n",
            "+-----------------------------------------------------------------------------------------+\n"
          ]
        }
      ],
      "source": [
        "!nvidia-smi"
      ]
    },
    {
      "cell_type": "code",
      "execution_count": 2,
      "metadata": {
        "colab": {
          "base_uri": "https://localhost:8080/"
        },
        "id": "a4YAj578vyIl",
        "outputId": "80555139-df2b-4c33-dbf2-7146f6d3ec17"
      },
      "outputs": [
        {
          "name": "stdout",
          "output_type": "stream",
          "text": [
            "Mounted at /content/drive\n"
          ]
        }
      ],
      "source": [
        "from google.colab import drive\n",
        "drive.mount('/content/drive',force_remount=True)"
      ]
    },
    {
      "cell_type": "code",
      "execution_count": 3,
      "metadata": {
        "colab": {
          "base_uri": "https://localhost:8080/"
        },
        "id": "-IucIeI5zHJd",
        "outputId": "534b60d2-d57c-4b41-8d95-ca73155c10a5"
      },
      "outputs": [
        {
          "name": "stdout",
          "output_type": "stream",
          "text": [
            "Collecting torch-summary==1.4.4\n",
            "  Downloading torch_summary-1.4.4-py3-none-any.whl.metadata (17 kB)\n",
            "Downloading torch_summary-1.4.4-py3-none-any.whl (15 kB)\n",
            "Installing collected packages: torch-summary\n",
            "Successfully installed torch-summary-1.4.4\n"
          ]
        }
      ],
      "source": [
        "!pip install torch-summary==1.4.4"
      ]
    },
    {
      "cell_type": "code",
      "execution_count": 4,
      "metadata": {
        "id": "0L4qzCOz0dfr"
      },
      "outputs": [],
      "source": [
        "import torch\n",
        "import pandas as pd\n",
        "from torchvision import datasets, transforms, models\n",
        "from torch.utils.data import random_split, DataLoader\n",
        "import torch.nn as nn\n",
        "import torch.optim as optim\n",
        "from torchsummary import summary"
      ]
    },
    {
      "cell_type": "code",
      "execution_count": 5,
      "metadata": {
        "id": "FFrrZ71eXe2A"
      },
      "outputs": [],
      "source": [
        "from sklearn.metrics import accuracy_score, precision_score, recall_score, f1_score, confusion_matrix\n",
        "import seaborn as sns\n",
        "import matplotlib.pyplot as plt\n",
        "import numpy as np"
      ]
    },
    {
      "cell_type": "code",
      "execution_count": 6,
      "metadata": {
        "collapsed": true,
        "id": "_w6_Ybj5GLI1"
      },
      "outputs": [],
      "source": [
        "%%capture\n",
        "# Move dataset to VM disk to significantly speed up I/O\n",
        "!unzip '/content/drive/MyDrive/ColHis-IDS_restructured_mag200.zip' -d \"/content\""
      ]
    },
    {
      "cell_type": "markdown",
      "metadata": {
        "id": "O02P95e_Xzfh"
      },
      "source": [
        "## Baseline Models"
      ]
    },
    {
      "cell_type": "markdown",
      "metadata": {
        "id": "S94laUqr1lfX"
      },
      "source": [
        "In this part, we fine-tune six baseline models from pretrained networks and compare their performance during the training. These base models, provided by Torchvision, have undergone extensive training on the IMAGENET1K classification task, making them an ideal starting point for our study."
      ]
    },
    {
      "cell_type": "markdown",
      "metadata": {
        "id": "4-pqJqO-4Mfh"
      },
      "source": [
        "### Training"
      ]
    },
    {
      "cell_type": "code",
      "execution_count": 7,
      "metadata": {
        "id": "gN4MWdjr-fcR"
      },
      "outputs": [],
      "source": [
        "class TumorClassification:\n",
        "  transform = None\n",
        "  dataset = None\n",
        "\n",
        "  train_dataset = None\n",
        "  val_dataset = None\n",
        "  test_dataset = None\n",
        "\n",
        "  train_dataloader = None\n",
        "  val_dataloader = None\n",
        "  test_dataloader = None\n",
        "\n",
        "  device = None\n",
        "  model = None\n",
        "\n",
        "  def __init__(self, data_path, transform):\n",
        "    self.transform = transform\n",
        "    print('Loading dataset...\\n')\n",
        "    self.dataset = datasets.ImageFolder(root=data_path, transform=transform)\n",
        "    print('Dataset Loaded.\\n')\n",
        "    self.dataset_summary()\n",
        "    self.device = torch.device(\"cuda\" if torch.cuda.is_available() else \"cpu\")\n",
        "    print('Initialized.')\n",
        "\n",
        "  def dataset_summary(self):\n",
        "    print(f\"Total images: {len(self.dataset)}\")\n",
        "    print(f\"Number of classes: {len(self.dataset.classes)}\")\n",
        "    print(f\"Class names: {self.dataset.classes}\")\n",
        "    print(f\"Class-to-index mapping: {self.dataset.class_to_idx}\\n\")\n",
        "\n",
        "  def split_dataset(self, train_portion = 0.7, val_portion = 0.15, _seed=42):\n",
        "    total_size = len(self.dataset)\n",
        "    train_size = int(train_portion * total_size)\n",
        "    val_size = int(val_portion * total_size)\n",
        "    test_size = total_size - train_size - val_size\n",
        "\n",
        "    self.train_dataset, self.val_dataset, self.test_dataset = random_split(\n",
        "        self.dataset,\n",
        "        [train_size, val_size, test_size],\n",
        "        generator=torch.Generator().manual_seed(_seed)\n",
        "    )\n",
        "\n",
        "  def prepare_dataloaders(self):\n",
        "    self.train_dataloader = DataLoader(self.train_dataset, batch_size=1024, shuffle=True, pin_memory=True, drop_last=True)\n",
        "    self.val_dataloader = DataLoader(self.val_dataset, batch_size=128, shuffle=False, pin_memory=True, drop_last=True)\n",
        "    self.test_dataloader = DataLoader(self.test_dataset, batch_size=64, shuffle=False, pin_memory=True, drop_last=True)\n",
        "\n",
        "  def init_model(self, model):\n",
        "    self.model = model\n",
        "    self.model = self.model.to(self.device)\n",
        "\n",
        "  def train_model(\n",
        "      self,\n",
        "      weights_save_path,\n",
        "      matrics_save_path,\n",
        "      epochs = 10,\n",
        "      lr = 0.0001,\n",
        "      criterion = None,\n",
        "      optimizer = None,\n",
        "      ):\n",
        "\n",
        "    if criterion is None:\n",
        "      criterion = nn.CrossEntropyLoss()\n",
        "    if optimizer is None:\n",
        "      optimizer = optim.Adam(self.model.classifier.parameters(), lr=lr)\n",
        "\n",
        "    train_losses = []\n",
        "    train_accuracies = []\n",
        "    val_accuracies = []\n",
        "\n",
        "    # keep track of weights of highest val acc\n",
        "    best_val_acc = 0.0\n",
        "    best_model_wts = None\n",
        "\n",
        "    for epoch in range(epochs):\n",
        "      # Training\n",
        "      self.model.train()\n",
        "      running_loss = 0.0\n",
        "      correct = 0\n",
        "      for images, labels in self.train_dataloader:\n",
        "        images, labels = images.to(self.device), labels.to(self.device)\n",
        "\n",
        "        optimizer.zero_grad()\n",
        "        outputs = self.model(images)\n",
        "        loss = criterion(outputs, labels)\n",
        "        loss.backward()\n",
        "        optimizer.step()\n",
        "\n",
        "        running_loss += loss.item()\n",
        "        _, preds = torch.max(outputs, 1)\n",
        "        correct += (preds == labels).sum().item()\n",
        "\n",
        "      avg_loss = running_loss / len(self.train_dataloader)\n",
        "      accuracy = correct / len(self.train_dataset)\n",
        "\n",
        "      train_losses.append(avg_loss)\n",
        "      train_accuracies.append(accuracy)\n",
        "\n",
        "      print(f\"Epoch {epoch+1}, Avg Loss: {avg_loss:.4f}, Train Accuracy: {accuracy:.4f}\")\n",
        "\n",
        "      # Validation\n",
        "      self.model.eval()\n",
        "      correct = 0\n",
        "      with torch.no_grad():\n",
        "        for images, labels in self.val_dataloader:\n",
        "          images, labels = images.to(self.device), labels.to(self.device)\n",
        "          outputs = self.model(images)\n",
        "          _, preds = torch.max(outputs, 1)\n",
        "          correct += (preds == labels).sum().item()\n",
        "\n",
        "      val_acc = correct / len(self.val_dataset)\n",
        "      val_accuracies.append(val_acc)\n",
        "\n",
        "      print(f\"Validation Accuracy: {val_acc:.4f}\")\n",
        "\n",
        "      if val_acc > best_val_acc:\n",
        "        best_val_acc = val_acc\n",
        "        best_model_wts = model.state_dict()\n",
        "\n",
        "    self.train_losses = train_losses\n",
        "    self.train_accuracies = train_accuracies\n",
        "    self.val_accuracies = val_accuracies\n",
        "\n",
        "    torch.save(best_model_wts, weights_save_path)\n",
        "    print(\"Best model saved with validation accuracy:\", best_val_acc)\n",
        "\n",
        "    self.save_metrics(epochs,matrics_save_path)\n",
        "\n",
        "  def save_metrics(self, epochs, matrics_save_path):\n",
        "    # Save the metrics as a CSV file\n",
        "    metrics_df = pd.DataFrame({\n",
        "        'Epoch': range(1, epochs + 1),\n",
        "        'Train Loss': self.train_losses,\n",
        "        'Train Accuracy': self.train_accuracies,\n",
        "        'Validation Accuracy': self.val_accuracies\n",
        "    })\n",
        "\n",
        "    # Save the DataFrame to a CSV file\n",
        "    metrics_df.to_csv(matrics_save_path, index=False)\n",
        "\n",
        "    print(\"Training metrics saved.\")\n",
        "\n",
        "  def evaluate_model(self):\n",
        "    \"\"\"\n",
        "    Evaluates the trained model on the test dataset and calculates Accuracy, Precision,\n",
        "    Recall, F1 Score, and Confusion Matrix for a multiclass classification problem.\n",
        "    \"\"\"\n",
        "    self.model.eval()  # Set the model to evaluation mode\n",
        "    all_preds = []\n",
        "    all_labels = []\n",
        "\n",
        "    with torch.no_grad():  # No need to compute gradients during evaluation\n",
        "      for images, labels in self.test_dataloader:\n",
        "        images, labels = images.to(self.device), labels.to(self.device)\n",
        "        outputs = self.model(images)\n",
        "        _, preds = torch.max(outputs, 1)\n",
        "\n",
        "        all_preds.extend(preds.cpu().numpy())\n",
        "        all_labels.extend(labels.cpu().numpy())\n",
        "\n",
        "    # Convert to numpy arrays for easier handling\n",
        "    all_preds = np.array(all_preds)\n",
        "    all_labels = np.array(all_labels)\n",
        "\n",
        "    # Calculate Accuracy\n",
        "    accuracy = accuracy_score(all_labels, all_preds)\n",
        "    print(f\"Accuracy: {accuracy:.4f}\")\n",
        "\n",
        "    # Calculate Precision, Recall, and F1 Score for multiclass classification\n",
        "    precision = precision_score(all_labels, all_preds, average='macro', labels=np.unique(all_labels))\n",
        "    recall = recall_score(all_labels, all_preds, average='macro', labels=np.unique(all_labels))\n",
        "    f1 = f1_score(all_labels, all_preds, average='macro', labels=np.unique(all_labels))\n",
        "\n",
        "    print(f\"Precision (Macro-average): {precision:.4f}\")\n",
        "    print(f\"Recall (Macro-average): {recall:.4f}\")\n",
        "    print(f\"F1 Score (Macro-average): {f1:.4f}\")\n",
        "\n",
        "    # Generate Confusion Matrix\n",
        "    cm = confusion_matrix(all_labels, all_preds)\n",
        "\n",
        "    # Print confusion matrix\n",
        "    print(\"Confusion Matrix:\\n\", cm)\n",
        "\n",
        "    # Plot Confusion Matrix\n",
        "    plt.figure(figsize=(8, 6))\n",
        "    sns.heatmap(cm, annot=True, fmt='d', cmap='Blues',\n",
        "                xticklabels=self.dataset.classes, yticklabels=self.dataset.classes)\n",
        "    plt.xlabel('Predicted')\n",
        "    plt.ylabel('True')\n",
        "    plt.title('Confusion Matrix')\n",
        "    plt.show()\n",
        "\n",
        "    # Return metrics for possible further usage\n",
        "    return accuracy, precision, recall, f1, cm"
      ]
    },
    {
      "cell_type": "code",
      "execution_count": 8,
      "metadata": {
        "id": "z_DHiSpSJCIO"
      },
      "outputs": [],
      "source": [
        "data_path = '/content/200'"
      ]
    },
    {
      "cell_type": "markdown",
      "metadata": {
        "id": "aESoqbmBIZDm"
      },
      "source": [
        "#### VGG16"
      ]
    },
    {
      "cell_type": "code",
      "execution_count": null,
      "metadata": {
        "id": "4QZyPdYZyOo0"
      },
      "outputs": [],
      "source": [
        "from torchvision.models import VGG16_Weights"
      ]
    },
    {
      "cell_type": "code",
      "execution_count": null,
      "metadata": {
        "id": "sCcZo7W-1Vx8"
      },
      "outputs": [],
      "source": [
        "# For VGG16_Weights.IMAGENET1K_V1:\n",
        "# https://pytorch.org/vision/stable/models/generated/torchvision.models.vgg16.html#torchvision.models.VGG16_Weights\n",
        "transform = transforms.Compose([\n",
        "    transforms.Resize(256),\n",
        "    transforms.CenterCrop(224),\n",
        "    transforms.ToTensor(),\n",
        "    transforms.Normalize((0.485, 0.456, 0.406),(0.229, 0.224, 0.225))\n",
        "])"
      ]
    },
    {
      "cell_type": "code",
      "execution_count": null,
      "metadata": {
        "colab": {
          "base_uri": "https://localhost:8080/"
        },
        "id": "96aTLzGVJF-K",
        "outputId": "0f297edb-6b87-4eb2-bfe8-5a3c37ec9513"
      },
      "outputs": [
        {
          "name": "stdout",
          "output_type": "stream",
          "text": [
            "Loading dataset...\n",
            "\n",
            "Dataset Loaded.\n",
            "\n",
            "Total images: 1838\n",
            "Number of classes: 5\n",
            "Class names: ['Adenocarcinoma', 'High-grade IN', 'Low-grade IN', 'Normal', 'Polyp']\n",
            "Class-to-index mapping: {'Adenocarcinoma': 0, 'High-grade IN': 1, 'Low-grade IN': 2, 'Normal': 3, 'Polyp': 4}\n",
            "\n",
            "Initialized.\n"
          ]
        }
      ],
      "source": [
        "tc = TumorClassification(data_path,transform)"
      ]
    },
    {
      "cell_type": "code",
      "execution_count": null,
      "metadata": {
        "id": "Ei-80TMMJPvl"
      },
      "outputs": [],
      "source": [
        "tc.split_dataset()"
      ]
    },
    {
      "cell_type": "code",
      "execution_count": null,
      "metadata": {
        "id": "a8NX1unLJc2C"
      },
      "outputs": [],
      "source": [
        "tc.prepare_dataloaders()"
      ]
    },
    {
      "cell_type": "code",
      "execution_count": null,
      "metadata": {
        "id": "otqD0wG5Jit5"
      },
      "outputs": [],
      "source": [
        "# Load pretrained model\n",
        "model = models.vgg16(weights=VGG16_Weights.IMAGENET1K_V1)\n",
        "# Freeze feature extractor layers\n",
        "for param in model.features.parameters():\n",
        "  param.requires_grad = False\n",
        "model.classifier[6] = nn.Linear(4096, 5) # adjust final layer for ImageNet\n",
        "tc.init_model(model)"
      ]
    },
    {
      "cell_type": "code",
      "execution_count": null,
      "metadata": {
        "colab": {
          "base_uri": "https://localhost:8080/"
        },
        "collapsed": true,
        "id": "W70Ur0w-J7V1",
        "outputId": "2b76827f-7825-4f27-e949-2555616d5696"
      },
      "outputs": [
        {
          "name": "stdout",
          "output_type": "stream",
          "text": [
            "----------------------------------------------------------------\n",
            "        Layer (type)               Output Shape         Param #\n",
            "================================================================\n",
            "            Conv2d-1         [-1, 64, 224, 224]           1,792\n",
            "              ReLU-2         [-1, 64, 224, 224]               0\n",
            "            Conv2d-3         [-1, 64, 224, 224]          36,928\n",
            "              ReLU-4         [-1, 64, 224, 224]               0\n",
            "         MaxPool2d-5         [-1, 64, 112, 112]               0\n",
            "            Conv2d-6        [-1, 128, 112, 112]          73,856\n",
            "              ReLU-7        [-1, 128, 112, 112]               0\n",
            "            Conv2d-8        [-1, 128, 112, 112]         147,584\n",
            "              ReLU-9        [-1, 128, 112, 112]               0\n",
            "        MaxPool2d-10          [-1, 128, 56, 56]               0\n",
            "           Conv2d-11          [-1, 256, 56, 56]         295,168\n",
            "             ReLU-12          [-1, 256, 56, 56]               0\n",
            "           Conv2d-13          [-1, 256, 56, 56]         590,080\n",
            "             ReLU-14          [-1, 256, 56, 56]               0\n",
            "           Conv2d-15          [-1, 256, 56, 56]         590,080\n",
            "             ReLU-16          [-1, 256, 56, 56]               0\n",
            "        MaxPool2d-17          [-1, 256, 28, 28]               0\n",
            "           Conv2d-18          [-1, 512, 28, 28]       1,180,160\n",
            "             ReLU-19          [-1, 512, 28, 28]               0\n",
            "           Conv2d-20          [-1, 512, 28, 28]       2,359,808\n",
            "             ReLU-21          [-1, 512, 28, 28]               0\n",
            "           Conv2d-22          [-1, 512, 28, 28]       2,359,808\n",
            "             ReLU-23          [-1, 512, 28, 28]               0\n",
            "        MaxPool2d-24          [-1, 512, 14, 14]               0\n",
            "           Conv2d-25          [-1, 512, 14, 14]       2,359,808\n",
            "             ReLU-26          [-1, 512, 14, 14]               0\n",
            "           Conv2d-27          [-1, 512, 14, 14]       2,359,808\n",
            "             ReLU-28          [-1, 512, 14, 14]               0\n",
            "           Conv2d-29          [-1, 512, 14, 14]       2,359,808\n",
            "             ReLU-30          [-1, 512, 14, 14]               0\n",
            "        MaxPool2d-31            [-1, 512, 7, 7]               0\n",
            "AdaptiveAvgPool2d-32            [-1, 512, 7, 7]               0\n",
            "           Linear-33                 [-1, 4096]     102,764,544\n",
            "             ReLU-34                 [-1, 4096]               0\n",
            "          Dropout-35                 [-1, 4096]               0\n",
            "           Linear-36                 [-1, 4096]      16,781,312\n",
            "             ReLU-37                 [-1, 4096]               0\n",
            "          Dropout-38                 [-1, 4096]               0\n",
            "           Linear-39                    [-1, 5]          20,485\n",
            "================================================================\n",
            "Total params: 134,281,029\n",
            "Trainable params: 119,566,341\n",
            "Non-trainable params: 14,714,688\n",
            "----------------------------------------------------------------\n",
            "Input size (MB): 0.57\n",
            "Forward/backward pass size (MB): 218.77\n",
            "Params size (MB): 512.24\n",
            "Estimated Total Size (MB): 731.59\n",
            "----------------------------------------------------------------\n"
          ]
        }
      ],
      "source": [
        "summary(tc.model, input_size=(3, 224, 224),device=tc.device.type)"
      ]
    },
    {
      "cell_type": "code",
      "execution_count": null,
      "metadata": {
        "colab": {
          "base_uri": "https://localhost:8080/"
        },
        "id": "dgzP6Pg7Lats",
        "outputId": "2654500b-e310-401f-c8ff-2e0f1e534a05"
      },
      "outputs": [
        {
          "name": "stdout",
          "output_type": "stream",
          "text": [
            "Epoch 1, Avg Loss: 0.9346, Train Accuracy: 0.6672\n",
            "Validation Accuracy: 0.7200\n",
            "Epoch 2, Avg Loss: 0.4461, Train Accuracy: 0.8421\n",
            "Validation Accuracy: 0.7782\n",
            "Epoch 3, Avg Loss: 0.2937, Train Accuracy: 0.8981\n",
            "Validation Accuracy: 0.7818\n",
            "Epoch 4, Avg Loss: 0.1909, Train Accuracy: 0.9269\n",
            "Validation Accuracy: 0.7855\n",
            "Epoch 5, Avg Loss: 0.1302, Train Accuracy: 0.9495\n",
            "Validation Accuracy: 0.8000\n",
            "Epoch 6, Avg Loss: 0.0773, Train Accuracy: 0.9712\n",
            "Validation Accuracy: 0.7927\n",
            "Epoch 7, Avg Loss: 0.0510, Train Accuracy: 0.9806\n",
            "Validation Accuracy: 0.7964\n",
            "Epoch 8, Avg Loss: 0.0315, Train Accuracy: 0.9868\n",
            "Validation Accuracy: 0.7927\n",
            "Epoch 9, Avg Loss: 0.0168, Train Accuracy: 0.9930\n",
            "Validation Accuracy: 0.7927\n",
            "Epoch 10, Avg Loss: 0.0088, Train Accuracy: 0.9953\n",
            "Validation Accuracy: 0.7927\n",
            "Best model saved with validation accuracy: 0.8\n",
            "Training metrics saved.\n"
          ]
        }
      ],
      "source": [
        "tc.train_model(\n",
        "    './drive/MyDrive/Models/vgg16_EBHI_mag_200.pth',\n",
        "    './drive/MyDrive/Models/vgg16_metrics_EBHI_mag_200.csv',\n",
        "    epochs = 10,\n",
        "    lr = 0.0001\n",
        "    )"
      ]
    },
    {
      "cell_type": "markdown",
      "metadata": {
        "id": "EuhYF_-hN-bW"
      },
      "source": [
        "#### AlexNet"
      ]
    },
    {
      "cell_type": "code",
      "execution_count": null,
      "metadata": {
        "id": "NUC6uDCRQxcv"
      },
      "outputs": [],
      "source": [
        "from torchvision.models import AlexNet_Weights"
      ]
    },
    {
      "cell_type": "code",
      "execution_count": null,
      "metadata": {
        "id": "JzZ8TlrxQJLj"
      },
      "outputs": [],
      "source": [
        "# For AlexNet_Weights.IMAGENET1K_V1:\n",
        "# https://pytorch.org/vision/stable/models/generated/torchvision.models.alexnet.html#torchvision.models.AlexNet_Weights\n",
        "transform = transforms.Compose([\n",
        "    transforms.Resize(256),\n",
        "    transforms.CenterCrop(224),\n",
        "    transforms.ToTensor(),\n",
        "    transforms.Normalize((0.485, 0.456, 0.406),(0.229, 0.224, 0.225))\n",
        "])"
      ]
    },
    {
      "cell_type": "code",
      "execution_count": null,
      "metadata": {
        "colab": {
          "base_uri": "https://localhost:8080/"
        },
        "id": "0b5_HXj3QEqr",
        "outputId": "f4c3e246-0112-4679-e7e0-6170811dd0f7"
      },
      "outputs": [
        {
          "name": "stdout",
          "output_type": "stream",
          "text": [
            "Loading dataset...\n",
            "\n",
            "Dataset Loaded.\n",
            "\n",
            "Total images: 1838\n",
            "Number of classes: 5\n",
            "Class names: ['Adenocarcinoma', 'High-grade IN', 'Low-grade IN', 'Normal', 'Polyp']\n",
            "Class-to-index mapping: {'Adenocarcinoma': 0, 'High-grade IN': 1, 'Low-grade IN': 2, 'Normal': 3, 'Polyp': 4}\n",
            "\n",
            "Initialized.\n"
          ]
        }
      ],
      "source": [
        "tc = TumorClassification(data_path,transform)\n",
        "tc.split_dataset()\n",
        "tc.prepare_dataloaders()"
      ]
    },
    {
      "cell_type": "code",
      "execution_count": null,
      "metadata": {
        "colab": {
          "base_uri": "https://localhost:8080/"
        },
        "id": "OjmqkkAeQhQz",
        "outputId": "49307e59-0c08-4c71-959d-c6825a5bdbbc"
      },
      "outputs": [
        {
          "name": "stderr",
          "output_type": "stream",
          "text": [
            "Downloading: \"https://download.pytorch.org/models/alexnet-owt-7be5be79.pth\" to /root/.cache/torch/hub/checkpoints/alexnet-owt-7be5be79.pth\n",
            "100%|██████████| 233M/233M [00:01<00:00, 134MB/s]\n"
          ]
        }
      ],
      "source": [
        "# Load pretrained model\n",
        "model = models.alexnet(weights=AlexNet_Weights.IMAGENET1K_V1)\n",
        "# Freeze feature extractor layers\n",
        "for param in model.features.parameters():\n",
        "  param.requires_grad = False\n",
        "model.classifier[6] = nn.Linear(4096, 5) # adjust final layer for ImageNet\n",
        "tc.init_model(model)"
      ]
    },
    {
      "cell_type": "code",
      "execution_count": null,
      "metadata": {
        "colab": {
          "base_uri": "https://localhost:8080/"
        },
        "collapsed": true,
        "id": "swEKgIoSSRtH",
        "outputId": "252ebc06-67a2-4152-d2c4-d48614f9eec8"
      },
      "outputs": [
        {
          "name": "stdout",
          "output_type": "stream",
          "text": [
            "----------------------------------------------------------------\n",
            "        Layer (type)               Output Shape         Param #\n",
            "================================================================\n",
            "            Conv2d-1           [-1, 64, 55, 55]          23,296\n",
            "              ReLU-2           [-1, 64, 55, 55]               0\n",
            "         MaxPool2d-3           [-1, 64, 27, 27]               0\n",
            "            Conv2d-4          [-1, 192, 27, 27]         307,392\n",
            "              ReLU-5          [-1, 192, 27, 27]               0\n",
            "         MaxPool2d-6          [-1, 192, 13, 13]               0\n",
            "            Conv2d-7          [-1, 384, 13, 13]         663,936\n",
            "              ReLU-8          [-1, 384, 13, 13]               0\n",
            "            Conv2d-9          [-1, 256, 13, 13]         884,992\n",
            "             ReLU-10          [-1, 256, 13, 13]               0\n",
            "           Conv2d-11          [-1, 256, 13, 13]         590,080\n",
            "             ReLU-12          [-1, 256, 13, 13]               0\n",
            "        MaxPool2d-13            [-1, 256, 6, 6]               0\n",
            "AdaptiveAvgPool2d-14            [-1, 256, 6, 6]               0\n",
            "          Dropout-15                 [-1, 9216]               0\n",
            "           Linear-16                 [-1, 4096]      37,752,832\n",
            "             ReLU-17                 [-1, 4096]               0\n",
            "          Dropout-18                 [-1, 4096]               0\n",
            "           Linear-19                 [-1, 4096]      16,781,312\n",
            "             ReLU-20                 [-1, 4096]               0\n",
            "           Linear-21                    [-1, 5]          20,485\n",
            "================================================================\n",
            "Total params: 57,024,325\n",
            "Trainable params: 54,554,629\n",
            "Non-trainable params: 2,469,696\n",
            "----------------------------------------------------------------\n",
            "Input size (MB): 0.57\n",
            "Forward/backward pass size (MB): 8.37\n",
            "Params size (MB): 217.53\n",
            "Estimated Total Size (MB): 226.48\n",
            "----------------------------------------------------------------\n"
          ]
        }
      ],
      "source": [
        "summary(tc.model, input_size=(3, 224, 224),device=tc.device.type)"
      ]
    },
    {
      "cell_type": "code",
      "execution_count": null,
      "metadata": {
        "colab": {
          "base_uri": "https://localhost:8080/"
        },
        "id": "3IJv1CCgSSXy",
        "outputId": "2f049670-4c09-4693-dc31-edbacf12a5e7"
      },
      "outputs": [
        {
          "name": "stdout",
          "output_type": "stream",
          "text": [
            "Epoch 1, Avg Loss: 1.0366, Train Accuracy: 0.6252\n",
            "Validation Accuracy: 0.6982\n",
            "Epoch 2, Avg Loss: 0.5927, Train Accuracy: 0.7994\n",
            "Validation Accuracy: 0.7345\n",
            "Epoch 3, Avg Loss: 0.4491, Train Accuracy: 0.8328\n",
            "Validation Accuracy: 0.7782\n",
            "Epoch 4, Avg Loss: 0.3833, Train Accuracy: 0.8616\n",
            "Validation Accuracy: 0.7891\n",
            "Epoch 5, Avg Loss: 0.3369, Train Accuracy: 0.8795\n",
            "Validation Accuracy: 0.7855\n",
            "Epoch 6, Avg Loss: 0.2837, Train Accuracy: 0.8989\n",
            "Validation Accuracy: 0.7818\n",
            "Epoch 7, Avg Loss: 0.2169, Train Accuracy: 0.9230\n",
            "Validation Accuracy: 0.7927\n",
            "Epoch 8, Avg Loss: 0.2031, Train Accuracy: 0.9238\n",
            "Validation Accuracy: 0.8145\n",
            "Epoch 9, Avg Loss: 0.1497, Train Accuracy: 0.9502\n",
            "Validation Accuracy: 0.8109\n",
            "Epoch 10, Avg Loss: 0.1257, Train Accuracy: 0.9533\n",
            "Validation Accuracy: 0.8109\n",
            "Best model saved with validation accuracy: 0.8145454545454546\n",
            "Training metrics saved.\n"
          ]
        }
      ],
      "source": [
        "tc.train_model(\n",
        "    './drive/MyDrive/Models/alexnet_EBHI_mag_200.pth',\n",
        "    './drive/MyDrive/Models/alexnet_metrics_EBHI_mag_200.csv',\n",
        "    epochs = 10,\n",
        "    lr = 0.0001\n",
        "    )"
      ]
    },
    {
      "cell_type": "markdown",
      "metadata": {
        "id": "4VgZapieTLlz"
      },
      "source": [
        "#### GoogLeNet"
      ]
    },
    {
      "cell_type": "code",
      "execution_count": null,
      "metadata": {
        "id": "dxpeH1Z5TYLE"
      },
      "outputs": [],
      "source": [
        "from torchvision.models import GoogLeNet_Weights"
      ]
    },
    {
      "cell_type": "code",
      "execution_count": null,
      "metadata": {
        "id": "9Lk14IeKTo5m"
      },
      "outputs": [],
      "source": [
        "# For GoogLeNet_Weights.IMAGENET1K_V1:\n",
        "# https://pytorch.org/vision/stable/models/generated/torchvision.models.googlenet.html#torchvision.models.GoogLeNet_Weights\n",
        "transform = transforms.Compose([\n",
        "    transforms.Resize(256),\n",
        "    transforms.CenterCrop(224),\n",
        "    transforms.ToTensor(),\n",
        "    transforms.Normalize((0.485, 0.456, 0.406),(0.229, 0.224, 0.225))\n",
        "])"
      ]
    },
    {
      "cell_type": "code",
      "execution_count": null,
      "metadata": {
        "colab": {
          "base_uri": "https://localhost:8080/"
        },
        "id": "CsiRRAj4T-Uz",
        "outputId": "dff0ca29-bc74-458c-cc22-c67840a7264c"
      },
      "outputs": [
        {
          "name": "stdout",
          "output_type": "stream",
          "text": [
            "Loading dataset...\n",
            "\n",
            "Dataset Loaded.\n",
            "\n",
            "Total images: 1838\n",
            "Number of classes: 5\n",
            "Class names: ['Adenocarcinoma', 'High-grade IN', 'Low-grade IN', 'Normal', 'Polyp']\n",
            "Class-to-index mapping: {'Adenocarcinoma': 0, 'High-grade IN': 1, 'Low-grade IN': 2, 'Normal': 3, 'Polyp': 4}\n",
            "\n",
            "Initialized.\n"
          ]
        }
      ],
      "source": [
        "tc = TumorClassification(data_path,transform)\n",
        "tc.split_dataset()\n",
        "tc.prepare_dataloaders()"
      ]
    },
    {
      "cell_type": "code",
      "execution_count": null,
      "metadata": {
        "id": "B4E6NVsuTtjY"
      },
      "outputs": [],
      "source": [
        "# Load pretrained model\n",
        "model = models.googlenet(weights=GoogLeNet_Weights.IMAGENET1K_V1)\n",
        "# Freeze feature extractor layers\n",
        "for param in model.parameters():\n",
        "    param.requires_grad = False\n",
        "for param in model.fc.parameters():\n",
        "    param.requires_grad = True\n",
        "model.fc = nn.Linear(1024, 5) # adjust final layer for ImageNet\n",
        "tc.init_model(model)"
      ]
    },
    {
      "cell_type": "code",
      "execution_count": null,
      "metadata": {
        "colab": {
          "base_uri": "https://localhost:8080/"
        },
        "collapsed": true,
        "id": "16XLK5RAVB61",
        "outputId": "cfbfff9f-bc4f-47e1-af81-bf9c63026948"
      },
      "outputs": [
        {
          "name": "stdout",
          "output_type": "stream",
          "text": [
            "----------------------------------------------------------------\n",
            "        Layer (type)               Output Shape         Param #\n",
            "================================================================\n",
            "            Conv2d-1         [-1, 64, 112, 112]           9,408\n",
            "       BatchNorm2d-2         [-1, 64, 112, 112]             128\n",
            "       BasicConv2d-3         [-1, 64, 112, 112]               0\n",
            "         MaxPool2d-4           [-1, 64, 56, 56]               0\n",
            "            Conv2d-5           [-1, 64, 56, 56]           4,096\n",
            "       BatchNorm2d-6           [-1, 64, 56, 56]             128\n",
            "       BasicConv2d-7           [-1, 64, 56, 56]               0\n",
            "            Conv2d-8          [-1, 192, 56, 56]         110,592\n",
            "       BatchNorm2d-9          [-1, 192, 56, 56]             384\n",
            "      BasicConv2d-10          [-1, 192, 56, 56]               0\n",
            "        MaxPool2d-11          [-1, 192, 28, 28]               0\n",
            "           Conv2d-12           [-1, 64, 28, 28]          12,288\n",
            "      BatchNorm2d-13           [-1, 64, 28, 28]             128\n",
            "      BasicConv2d-14           [-1, 64, 28, 28]               0\n",
            "           Conv2d-15           [-1, 96, 28, 28]          18,432\n",
            "      BatchNorm2d-16           [-1, 96, 28, 28]             192\n",
            "      BasicConv2d-17           [-1, 96, 28, 28]               0\n",
            "           Conv2d-18          [-1, 128, 28, 28]         110,592\n",
            "      BatchNorm2d-19          [-1, 128, 28, 28]             256\n",
            "      BasicConv2d-20          [-1, 128, 28, 28]               0\n",
            "           Conv2d-21           [-1, 16, 28, 28]           3,072\n",
            "      BatchNorm2d-22           [-1, 16, 28, 28]              32\n",
            "      BasicConv2d-23           [-1, 16, 28, 28]               0\n",
            "           Conv2d-24           [-1, 32, 28, 28]           4,608\n",
            "      BatchNorm2d-25           [-1, 32, 28, 28]              64\n",
            "      BasicConv2d-26           [-1, 32, 28, 28]               0\n",
            "        MaxPool2d-27          [-1, 192, 28, 28]               0\n",
            "           Conv2d-28           [-1, 32, 28, 28]           6,144\n",
            "      BatchNorm2d-29           [-1, 32, 28, 28]              64\n",
            "      BasicConv2d-30           [-1, 32, 28, 28]               0\n",
            "        Inception-31          [-1, 256, 28, 28]               0\n",
            "           Conv2d-32          [-1, 128, 28, 28]          32,768\n",
            "      BatchNorm2d-33          [-1, 128, 28, 28]             256\n",
            "      BasicConv2d-34          [-1, 128, 28, 28]               0\n",
            "           Conv2d-35          [-1, 128, 28, 28]          32,768\n",
            "      BatchNorm2d-36          [-1, 128, 28, 28]             256\n",
            "      BasicConv2d-37          [-1, 128, 28, 28]               0\n",
            "           Conv2d-38          [-1, 192, 28, 28]         221,184\n",
            "      BatchNorm2d-39          [-1, 192, 28, 28]             384\n",
            "      BasicConv2d-40          [-1, 192, 28, 28]               0\n",
            "           Conv2d-41           [-1, 32, 28, 28]           8,192\n",
            "      BatchNorm2d-42           [-1, 32, 28, 28]              64\n",
            "      BasicConv2d-43           [-1, 32, 28, 28]               0\n",
            "           Conv2d-44           [-1, 96, 28, 28]          27,648\n",
            "      BatchNorm2d-45           [-1, 96, 28, 28]             192\n",
            "      BasicConv2d-46           [-1, 96, 28, 28]               0\n",
            "        MaxPool2d-47          [-1, 256, 28, 28]               0\n",
            "           Conv2d-48           [-1, 64, 28, 28]          16,384\n",
            "      BatchNorm2d-49           [-1, 64, 28, 28]             128\n",
            "      BasicConv2d-50           [-1, 64, 28, 28]               0\n",
            "        Inception-51          [-1, 480, 28, 28]               0\n",
            "        MaxPool2d-52          [-1, 480, 14, 14]               0\n",
            "           Conv2d-53          [-1, 192, 14, 14]          92,160\n",
            "      BatchNorm2d-54          [-1, 192, 14, 14]             384\n",
            "      BasicConv2d-55          [-1, 192, 14, 14]               0\n",
            "           Conv2d-56           [-1, 96, 14, 14]          46,080\n",
            "      BatchNorm2d-57           [-1, 96, 14, 14]             192\n",
            "      BasicConv2d-58           [-1, 96, 14, 14]               0\n",
            "           Conv2d-59          [-1, 208, 14, 14]         179,712\n",
            "      BatchNorm2d-60          [-1, 208, 14, 14]             416\n",
            "      BasicConv2d-61          [-1, 208, 14, 14]               0\n",
            "           Conv2d-62           [-1, 16, 14, 14]           7,680\n",
            "      BatchNorm2d-63           [-1, 16, 14, 14]              32\n",
            "      BasicConv2d-64           [-1, 16, 14, 14]               0\n",
            "           Conv2d-65           [-1, 48, 14, 14]           6,912\n",
            "      BatchNorm2d-66           [-1, 48, 14, 14]              96\n",
            "      BasicConv2d-67           [-1, 48, 14, 14]               0\n",
            "        MaxPool2d-68          [-1, 480, 14, 14]               0\n",
            "           Conv2d-69           [-1, 64, 14, 14]          30,720\n",
            "      BatchNorm2d-70           [-1, 64, 14, 14]             128\n",
            "      BasicConv2d-71           [-1, 64, 14, 14]               0\n",
            "        Inception-72          [-1, 512, 14, 14]               0\n",
            "           Conv2d-73          [-1, 160, 14, 14]          81,920\n",
            "      BatchNorm2d-74          [-1, 160, 14, 14]             320\n",
            "      BasicConv2d-75          [-1, 160, 14, 14]               0\n",
            "           Conv2d-76          [-1, 112, 14, 14]          57,344\n",
            "      BatchNorm2d-77          [-1, 112, 14, 14]             224\n",
            "      BasicConv2d-78          [-1, 112, 14, 14]               0\n",
            "           Conv2d-79          [-1, 224, 14, 14]         225,792\n",
            "      BatchNorm2d-80          [-1, 224, 14, 14]             448\n",
            "      BasicConv2d-81          [-1, 224, 14, 14]               0\n",
            "           Conv2d-82           [-1, 24, 14, 14]          12,288\n",
            "      BatchNorm2d-83           [-1, 24, 14, 14]              48\n",
            "      BasicConv2d-84           [-1, 24, 14, 14]               0\n",
            "           Conv2d-85           [-1, 64, 14, 14]          13,824\n",
            "      BatchNorm2d-86           [-1, 64, 14, 14]             128\n",
            "      BasicConv2d-87           [-1, 64, 14, 14]               0\n",
            "        MaxPool2d-88          [-1, 512, 14, 14]               0\n",
            "           Conv2d-89           [-1, 64, 14, 14]          32,768\n",
            "      BatchNorm2d-90           [-1, 64, 14, 14]             128\n",
            "      BasicConv2d-91           [-1, 64, 14, 14]               0\n",
            "        Inception-92          [-1, 512, 14, 14]               0\n",
            "           Conv2d-93          [-1, 128, 14, 14]          65,536\n",
            "      BatchNorm2d-94          [-1, 128, 14, 14]             256\n",
            "      BasicConv2d-95          [-1, 128, 14, 14]               0\n",
            "           Conv2d-96          [-1, 128, 14, 14]          65,536\n",
            "      BatchNorm2d-97          [-1, 128, 14, 14]             256\n",
            "      BasicConv2d-98          [-1, 128, 14, 14]               0\n",
            "           Conv2d-99          [-1, 256, 14, 14]         294,912\n",
            "     BatchNorm2d-100          [-1, 256, 14, 14]             512\n",
            "     BasicConv2d-101          [-1, 256, 14, 14]               0\n",
            "          Conv2d-102           [-1, 24, 14, 14]          12,288\n",
            "     BatchNorm2d-103           [-1, 24, 14, 14]              48\n",
            "     BasicConv2d-104           [-1, 24, 14, 14]               0\n",
            "          Conv2d-105           [-1, 64, 14, 14]          13,824\n",
            "     BatchNorm2d-106           [-1, 64, 14, 14]             128\n",
            "     BasicConv2d-107           [-1, 64, 14, 14]               0\n",
            "       MaxPool2d-108          [-1, 512, 14, 14]               0\n",
            "          Conv2d-109           [-1, 64, 14, 14]          32,768\n",
            "     BatchNorm2d-110           [-1, 64, 14, 14]             128\n",
            "     BasicConv2d-111           [-1, 64, 14, 14]               0\n",
            "       Inception-112          [-1, 512, 14, 14]               0\n",
            "          Conv2d-113          [-1, 112, 14, 14]          57,344\n",
            "     BatchNorm2d-114          [-1, 112, 14, 14]             224\n",
            "     BasicConv2d-115          [-1, 112, 14, 14]               0\n",
            "          Conv2d-116          [-1, 144, 14, 14]          73,728\n",
            "     BatchNorm2d-117          [-1, 144, 14, 14]             288\n",
            "     BasicConv2d-118          [-1, 144, 14, 14]               0\n",
            "          Conv2d-119          [-1, 288, 14, 14]         373,248\n",
            "     BatchNorm2d-120          [-1, 288, 14, 14]             576\n",
            "     BasicConv2d-121          [-1, 288, 14, 14]               0\n",
            "          Conv2d-122           [-1, 32, 14, 14]          16,384\n",
            "     BatchNorm2d-123           [-1, 32, 14, 14]              64\n",
            "     BasicConv2d-124           [-1, 32, 14, 14]               0\n",
            "          Conv2d-125           [-1, 64, 14, 14]          18,432\n",
            "     BatchNorm2d-126           [-1, 64, 14, 14]             128\n",
            "     BasicConv2d-127           [-1, 64, 14, 14]               0\n",
            "       MaxPool2d-128          [-1, 512, 14, 14]               0\n",
            "          Conv2d-129           [-1, 64, 14, 14]          32,768\n",
            "     BatchNorm2d-130           [-1, 64, 14, 14]             128\n",
            "     BasicConv2d-131           [-1, 64, 14, 14]               0\n",
            "       Inception-132          [-1, 528, 14, 14]               0\n",
            "          Conv2d-133          [-1, 256, 14, 14]         135,168\n",
            "     BatchNorm2d-134          [-1, 256, 14, 14]             512\n",
            "     BasicConv2d-135          [-1, 256, 14, 14]               0\n",
            "          Conv2d-136          [-1, 160, 14, 14]          84,480\n",
            "     BatchNorm2d-137          [-1, 160, 14, 14]             320\n",
            "     BasicConv2d-138          [-1, 160, 14, 14]               0\n",
            "          Conv2d-139          [-1, 320, 14, 14]         460,800\n",
            "     BatchNorm2d-140          [-1, 320, 14, 14]             640\n",
            "     BasicConv2d-141          [-1, 320, 14, 14]               0\n",
            "          Conv2d-142           [-1, 32, 14, 14]          16,896\n",
            "     BatchNorm2d-143           [-1, 32, 14, 14]              64\n",
            "     BasicConv2d-144           [-1, 32, 14, 14]               0\n",
            "          Conv2d-145          [-1, 128, 14, 14]          36,864\n",
            "     BatchNorm2d-146          [-1, 128, 14, 14]             256\n",
            "     BasicConv2d-147          [-1, 128, 14, 14]               0\n",
            "       MaxPool2d-148          [-1, 528, 14, 14]               0\n",
            "          Conv2d-149          [-1, 128, 14, 14]          67,584\n",
            "     BatchNorm2d-150          [-1, 128, 14, 14]             256\n",
            "     BasicConv2d-151          [-1, 128, 14, 14]               0\n",
            "       Inception-152          [-1, 832, 14, 14]               0\n",
            "       MaxPool2d-153            [-1, 832, 7, 7]               0\n",
            "          Conv2d-154            [-1, 256, 7, 7]         212,992\n",
            "     BatchNorm2d-155            [-1, 256, 7, 7]             512\n",
            "     BasicConv2d-156            [-1, 256, 7, 7]               0\n",
            "          Conv2d-157            [-1, 160, 7, 7]         133,120\n",
            "     BatchNorm2d-158            [-1, 160, 7, 7]             320\n",
            "     BasicConv2d-159            [-1, 160, 7, 7]               0\n",
            "          Conv2d-160            [-1, 320, 7, 7]         460,800\n",
            "     BatchNorm2d-161            [-1, 320, 7, 7]             640\n",
            "     BasicConv2d-162            [-1, 320, 7, 7]               0\n",
            "          Conv2d-163             [-1, 32, 7, 7]          26,624\n",
            "     BatchNorm2d-164             [-1, 32, 7, 7]              64\n",
            "     BasicConv2d-165             [-1, 32, 7, 7]               0\n",
            "          Conv2d-166            [-1, 128, 7, 7]          36,864\n",
            "     BatchNorm2d-167            [-1, 128, 7, 7]             256\n",
            "     BasicConv2d-168            [-1, 128, 7, 7]               0\n",
            "       MaxPool2d-169            [-1, 832, 7, 7]               0\n",
            "          Conv2d-170            [-1, 128, 7, 7]         106,496\n",
            "     BatchNorm2d-171            [-1, 128, 7, 7]             256\n",
            "     BasicConv2d-172            [-1, 128, 7, 7]               0\n",
            "       Inception-173            [-1, 832, 7, 7]               0\n",
            "          Conv2d-174            [-1, 384, 7, 7]         319,488\n",
            "     BatchNorm2d-175            [-1, 384, 7, 7]             768\n",
            "     BasicConv2d-176            [-1, 384, 7, 7]               0\n",
            "          Conv2d-177            [-1, 192, 7, 7]         159,744\n",
            "     BatchNorm2d-178            [-1, 192, 7, 7]             384\n",
            "     BasicConv2d-179            [-1, 192, 7, 7]               0\n",
            "          Conv2d-180            [-1, 384, 7, 7]         663,552\n",
            "     BatchNorm2d-181            [-1, 384, 7, 7]             768\n",
            "     BasicConv2d-182            [-1, 384, 7, 7]               0\n",
            "          Conv2d-183             [-1, 48, 7, 7]          39,936\n",
            "     BatchNorm2d-184             [-1, 48, 7, 7]              96\n",
            "     BasicConv2d-185             [-1, 48, 7, 7]               0\n",
            "          Conv2d-186            [-1, 128, 7, 7]          55,296\n",
            "     BatchNorm2d-187            [-1, 128, 7, 7]             256\n",
            "     BasicConv2d-188            [-1, 128, 7, 7]               0\n",
            "       MaxPool2d-189            [-1, 832, 7, 7]               0\n",
            "          Conv2d-190            [-1, 128, 7, 7]         106,496\n",
            "     BatchNorm2d-191            [-1, 128, 7, 7]             256\n",
            "     BasicConv2d-192            [-1, 128, 7, 7]               0\n",
            "       Inception-193           [-1, 1024, 7, 7]               0\n",
            "AdaptiveAvgPool2d-194           [-1, 1024, 1, 1]               0\n",
            "         Dropout-195                 [-1, 1024]               0\n",
            "          Linear-196                    [-1, 5]           5,125\n",
            "================================================================\n",
            "Total params: 5,605,029\n",
            "Trainable params: 5,125\n",
            "Non-trainable params: 5,599,904\n",
            "----------------------------------------------------------------\n",
            "Input size (MB): 0.57\n",
            "Forward/backward pass size (MB): 94.10\n",
            "Params size (MB): 21.38\n",
            "Estimated Total Size (MB): 116.05\n",
            "----------------------------------------------------------------\n"
          ]
        }
      ],
      "source": [
        "summary(tc.model, input_size=(3, 224, 224),device=tc.device.type)"
      ]
    },
    {
      "cell_type": "code",
      "execution_count": null,
      "metadata": {
        "colab": {
          "base_uri": "https://localhost:8080/"
        },
        "id": "-aQKHsoxVCXy",
        "outputId": "56428b31-9fa8-42e0-a077-84b68ca2036d"
      },
      "outputs": [
        {
          "name": "stdout",
          "output_type": "stream",
          "text": [
            "Epoch 1, Avg Loss: 1.3618, Train Accuracy: 0.3834\n",
            "Validation Accuracy: 0.3782\n",
            "Epoch 2, Avg Loss: 1.0570, Train Accuracy: 0.6431\n",
            "Validation Accuracy: 0.7091\n",
            "Epoch 3, Avg Loss: 0.8744, Train Accuracy: 0.7628\n",
            "Validation Accuracy: 0.6764\n",
            "Epoch 4, Avg Loss: 0.7736, Train Accuracy: 0.7597\n",
            "Validation Accuracy: 0.7309\n",
            "Epoch 5, Avg Loss: 0.7008, Train Accuracy: 0.8033\n",
            "Validation Accuracy: 0.7309\n",
            "Epoch 6, Avg Loss: 0.6329, Train Accuracy: 0.8002\n",
            "Validation Accuracy: 0.7491\n",
            "Epoch 7, Avg Loss: 0.5962, Train Accuracy: 0.8196\n",
            "Validation Accuracy: 0.7382\n",
            "Epoch 8, Avg Loss: 0.5551, Train Accuracy: 0.8289\n",
            "Validation Accuracy: 0.7564\n",
            "Epoch 9, Avg Loss: 0.5368, Train Accuracy: 0.8227\n",
            "Validation Accuracy: 0.7564\n",
            "Epoch 10, Avg Loss: 0.5135, Train Accuracy: 0.8250\n",
            "Validation Accuracy: 0.7673\n",
            "Epoch 11, Avg Loss: 0.4898, Train Accuracy: 0.8421\n",
            "Validation Accuracy: 0.7673\n",
            "Epoch 12, Avg Loss: 0.4773, Train Accuracy: 0.8398\n",
            "Validation Accuracy: 0.7745\n",
            "Epoch 13, Avg Loss: 0.4534, Train Accuracy: 0.8484\n",
            "Validation Accuracy: 0.7709\n",
            "Epoch 14, Avg Loss: 0.4446, Train Accuracy: 0.8484\n",
            "Validation Accuracy: 0.7745\n",
            "Epoch 15, Avg Loss: 0.4248, Train Accuracy: 0.8647\n",
            "Validation Accuracy: 0.7745\n",
            "Epoch 16, Avg Loss: 0.4191, Train Accuracy: 0.8631\n",
            "Validation Accuracy: 0.7745\n",
            "Epoch 17, Avg Loss: 0.4199, Train Accuracy: 0.8499\n",
            "Validation Accuracy: 0.7782\n",
            "Epoch 18, Avg Loss: 0.3999, Train Accuracy: 0.8569\n",
            "Validation Accuracy: 0.7782\n",
            "Epoch 19, Avg Loss: 0.4039, Train Accuracy: 0.8608\n",
            "Validation Accuracy: 0.7745\n",
            "Epoch 20, Avg Loss: 0.3896, Train Accuracy: 0.8678\n",
            "Validation Accuracy: 0.7782\n",
            "Best model saved with validation accuracy: 0.7781818181818182\n",
            "Training metrics saved.\n"
          ]
        }
      ],
      "source": [
        "tc.train_model(\n",
        "    './drive/MyDrive/Models/googlenet_EBHI_mag_200.pth',\n",
        "    './drive/MyDrive/Models/googlenet_metrics_EBHI_mag_200.csv',\n",
        "    epochs = 20,\n",
        "    lr = 0.001,\n",
        "    criterion = nn.CrossEntropyLoss(),\n",
        "    optimizer = optim.Adam(model.fc.parameters(), lr=0.001)\n",
        "    )"
      ]
    },
    {
      "cell_type": "markdown",
      "metadata": {
        "id": "YkhCLaf2XKax"
      },
      "source": [
        "#### DenseNet161"
      ]
    },
    {
      "cell_type": "code",
      "execution_count": null,
      "metadata": {
        "id": "S3DoOQxCXjOn"
      },
      "outputs": [],
      "source": [
        "from torchvision.models import DenseNet161_Weights"
      ]
    },
    {
      "cell_type": "code",
      "execution_count": null,
      "metadata": {
        "id": "QVjoMH-MYh49"
      },
      "outputs": [],
      "source": [
        "# For DenseNet161_Weights.IMAGENET1K_V1:\n",
        "# https://pytorch.org/vision/stable/models/generated/torchvision.models.densenet161.html#torchvision.models.DenseNet161_Weights\n",
        "transform = transforms.Compose([\n",
        "    transforms.Resize(256),\n",
        "    transforms.CenterCrop(224),\n",
        "    transforms.ToTensor(),\n",
        "    transforms.Normalize((0.485, 0.456, 0.406),(0.229, 0.224, 0.225))\n",
        "])"
      ]
    },
    {
      "cell_type": "code",
      "execution_count": null,
      "metadata": {
        "colab": {
          "base_uri": "https://localhost:8080/"
        },
        "id": "uUjxZQEhYxsh",
        "outputId": "7097febe-0660-4391-b7f8-96cae3a4907b"
      },
      "outputs": [
        {
          "name": "stdout",
          "output_type": "stream",
          "text": [
            "Loading dataset...\n",
            "\n",
            "Dataset Loaded.\n",
            "\n",
            "Total images: 1838\n",
            "Number of classes: 5\n",
            "Class names: ['Adenocarcinoma', 'High-grade IN', 'Low-grade IN', 'Normal', 'Polyp']\n",
            "Class-to-index mapping: {'Adenocarcinoma': 0, 'High-grade IN': 1, 'Low-grade IN': 2, 'Normal': 3, 'Polyp': 4}\n",
            "\n",
            "Initialized.\n"
          ]
        }
      ],
      "source": [
        "tc = TumorClassification(data_path,transform)\n",
        "tc.split_dataset()\n",
        "tc.prepare_dataloaders()"
      ]
    },
    {
      "cell_type": "code",
      "execution_count": null,
      "metadata": {
        "id": "lgkMbAx8Y6K5"
      },
      "outputs": [],
      "source": [
        "# Load pretrained model\n",
        "model = models.densenet161(weights=DenseNet161_Weights.IMAGENET1K_V1)\n",
        "# Freeze feature extractor layers\n",
        "for param in model.parameters():\n",
        "    param.requires_grad = False\n",
        "model.classifier = nn.Linear(2208, 5) # adjust final layer for ImageNet\n",
        "tc.init_model(model)"
      ]
    },
    {
      "cell_type": "code",
      "execution_count": null,
      "metadata": {
        "colab": {
          "base_uri": "https://localhost:8080/"
        },
        "collapsed": true,
        "id": "1mn4c6kVbdOA",
        "outputId": "bf76c388-e1ff-428d-fefc-67eb2973528a"
      },
      "outputs": [
        {
          "name": "stdout",
          "output_type": "stream",
          "text": [
            "=================================================================\n",
            "Layer (type:depth-idx)                   Param #\n",
            "=================================================================\n",
            "├─Sequential: 1-1                        --\n",
            "|    └─Conv2d: 2-1                       (14,112)\n",
            "|    └─BatchNorm2d: 2-2                  (192)\n",
            "|    └─ReLU: 2-3                         --\n",
            "|    └─MaxPool2d: 2-4                    --\n",
            "|    └─_DenseBlock: 2-5                  --\n",
            "|    |    └─_DenseLayer: 3-1             (101,952)\n",
            "|    |    └─_DenseLayer: 3-2             (111,264)\n",
            "|    |    └─_DenseLayer: 3-3             (120,576)\n",
            "|    |    └─_DenseLayer: 3-4             (129,888)\n",
            "|    |    └─_DenseLayer: 3-5             (139,200)\n",
            "|    |    └─_DenseLayer: 3-6             (148,512)\n",
            "|    └─_Transition: 2-6                  --\n",
            "|    |    └─BatchNorm2d: 3-7             (768)\n",
            "|    |    └─ReLU: 3-8                    --\n",
            "|    |    └─Conv2d: 3-9                  (73,728)\n",
            "|    |    └─AvgPool2d: 3-10              --\n",
            "|    └─_DenseBlock: 2-7                  --\n",
            "|    |    └─_DenseLayer: 3-11            (120,576)\n",
            "|    |    └─_DenseLayer: 3-12            (129,888)\n",
            "|    |    └─_DenseLayer: 3-13            (139,200)\n",
            "|    |    └─_DenseLayer: 3-14            (148,512)\n",
            "|    |    └─_DenseLayer: 3-15            (157,824)\n",
            "|    |    └─_DenseLayer: 3-16            (167,136)\n",
            "|    |    └─_DenseLayer: 3-17            (176,448)\n",
            "|    |    └─_DenseLayer: 3-18            (185,760)\n",
            "|    |    └─_DenseLayer: 3-19            (195,072)\n",
            "|    |    └─_DenseLayer: 3-20            (204,384)\n",
            "|    |    └─_DenseLayer: 3-21            (213,696)\n",
            "|    |    └─_DenseLayer: 3-22            (223,008)\n",
            "|    └─_Transition: 2-8                  --\n",
            "|    |    └─BatchNorm2d: 3-23            (1,536)\n",
            "|    |    └─ReLU: 3-24                   --\n",
            "|    |    └─Conv2d: 3-25                 (294,912)\n",
            "|    |    └─AvgPool2d: 3-26              --\n",
            "|    └─_DenseBlock: 2-9                  --\n",
            "|    |    └─_DenseLayer: 3-27            (157,824)\n",
            "|    |    └─_DenseLayer: 3-28            (167,136)\n",
            "|    |    └─_DenseLayer: 3-29            (176,448)\n",
            "|    |    └─_DenseLayer: 3-30            (185,760)\n",
            "|    |    └─_DenseLayer: 3-31            (195,072)\n",
            "|    |    └─_DenseLayer: 3-32            (204,384)\n",
            "|    |    └─_DenseLayer: 3-33            (213,696)\n",
            "|    |    └─_DenseLayer: 3-34            (223,008)\n",
            "|    |    └─_DenseLayer: 3-35            (232,320)\n",
            "|    |    └─_DenseLayer: 3-36            (241,632)\n",
            "|    |    └─_DenseLayer: 3-37            (250,944)\n",
            "|    |    └─_DenseLayer: 3-38            (260,256)\n",
            "|    |    └─_DenseLayer: 3-39            (269,568)\n",
            "|    |    └─_DenseLayer: 3-40            (278,880)\n",
            "|    |    └─_DenseLayer: 3-41            (288,192)\n",
            "|    |    └─_DenseLayer: 3-42            (297,504)\n",
            "|    |    └─_DenseLayer: 3-43            (306,816)\n",
            "|    |    └─_DenseLayer: 3-44            (316,128)\n",
            "|    |    └─_DenseLayer: 3-45            (325,440)\n",
            "|    |    └─_DenseLayer: 3-46            (334,752)\n",
            "|    |    └─_DenseLayer: 3-47            (344,064)\n",
            "|    |    └─_DenseLayer: 3-48            (353,376)\n",
            "|    |    └─_DenseLayer: 3-49            (362,688)\n",
            "|    |    └─_DenseLayer: 3-50            (372,000)\n",
            "|    |    └─_DenseLayer: 3-51            (381,312)\n",
            "|    |    └─_DenseLayer: 3-52            (390,624)\n",
            "|    |    └─_DenseLayer: 3-53            (399,936)\n",
            "|    |    └─_DenseLayer: 3-54            (409,248)\n",
            "|    |    └─_DenseLayer: 3-55            (418,560)\n",
            "|    |    └─_DenseLayer: 3-56            (427,872)\n",
            "|    |    └─_DenseLayer: 3-57            (437,184)\n",
            "|    |    └─_DenseLayer: 3-58            (446,496)\n",
            "|    |    └─_DenseLayer: 3-59            (455,808)\n",
            "|    |    └─_DenseLayer: 3-60            (465,120)\n",
            "|    |    └─_DenseLayer: 3-61            (474,432)\n",
            "|    |    └─_DenseLayer: 3-62            (483,744)\n",
            "|    └─_Transition: 2-10                 --\n",
            "|    |    └─BatchNorm2d: 3-63            (4,224)\n",
            "|    |    └─ReLU: 3-64                   --\n",
            "|    |    └─Conv2d: 3-65                 (2,230,272)\n",
            "|    |    └─AvgPool2d: 3-66              --\n",
            "|    └─_DenseBlock: 2-11                 --\n",
            "|    |    └─_DenseLayer: 3-67            (288,192)\n",
            "|    |    └─_DenseLayer: 3-68            (297,504)\n",
            "|    |    └─_DenseLayer: 3-69            (306,816)\n",
            "|    |    └─_DenseLayer: 3-70            (316,128)\n",
            "|    |    └─_DenseLayer: 3-71            (325,440)\n",
            "|    |    └─_DenseLayer: 3-72            (334,752)\n",
            "|    |    └─_DenseLayer: 3-73            (344,064)\n",
            "|    |    └─_DenseLayer: 3-74            (353,376)\n",
            "|    |    └─_DenseLayer: 3-75            (362,688)\n",
            "|    |    └─_DenseLayer: 3-76            (372,000)\n",
            "|    |    └─_DenseLayer: 3-77            (381,312)\n",
            "|    |    └─_DenseLayer: 3-78            (390,624)\n",
            "|    |    └─_DenseLayer: 3-79            (399,936)\n",
            "|    |    └─_DenseLayer: 3-80            (409,248)\n",
            "|    |    └─_DenseLayer: 3-81            (418,560)\n",
            "|    |    └─_DenseLayer: 3-82            (427,872)\n",
            "|    |    └─_DenseLayer: 3-83            (437,184)\n",
            "|    |    └─_DenseLayer: 3-84            (446,496)\n",
            "|    |    └─_DenseLayer: 3-85            (455,808)\n",
            "|    |    └─_DenseLayer: 3-86            (465,120)\n",
            "|    |    └─_DenseLayer: 3-87            (474,432)\n",
            "|    |    └─_DenseLayer: 3-88            (483,744)\n",
            "|    |    └─_DenseLayer: 3-89            (493,056)\n",
            "|    |    └─_DenseLayer: 3-90            (502,368)\n",
            "|    └─BatchNorm2d: 2-12                 (4,416)\n",
            "├─Linear: 1-2                            11,045\n",
            "=================================================================\n",
            "Total params: 26,483,045\n",
            "Trainable params: 11,045\n",
            "Non-trainable params: 26,472,000\n",
            "=================================================================\n"
          ]
        },
        {
          "data": {
            "text/plain": [
              "=================================================================\n",
              "Layer (type:depth-idx)                   Param #\n",
              "=================================================================\n",
              "├─Sequential: 1-1                        --\n",
              "|    └─Conv2d: 2-1                       (14,112)\n",
              "|    └─BatchNorm2d: 2-2                  (192)\n",
              "|    └─ReLU: 2-3                         --\n",
              "|    └─MaxPool2d: 2-4                    --\n",
              "|    └─_DenseBlock: 2-5                  --\n",
              "|    |    └─_DenseLayer: 3-1             (101,952)\n",
              "|    |    └─_DenseLayer: 3-2             (111,264)\n",
              "|    |    └─_DenseLayer: 3-3             (120,576)\n",
              "|    |    └─_DenseLayer: 3-4             (129,888)\n",
              "|    |    └─_DenseLayer: 3-5             (139,200)\n",
              "|    |    └─_DenseLayer: 3-6             (148,512)\n",
              "|    └─_Transition: 2-6                  --\n",
              "|    |    └─BatchNorm2d: 3-7             (768)\n",
              "|    |    └─ReLU: 3-8                    --\n",
              "|    |    └─Conv2d: 3-9                  (73,728)\n",
              "|    |    └─AvgPool2d: 3-10              --\n",
              "|    └─_DenseBlock: 2-7                  --\n",
              "|    |    └─_DenseLayer: 3-11            (120,576)\n",
              "|    |    └─_DenseLayer: 3-12            (129,888)\n",
              "|    |    └─_DenseLayer: 3-13            (139,200)\n",
              "|    |    └─_DenseLayer: 3-14            (148,512)\n",
              "|    |    └─_DenseLayer: 3-15            (157,824)\n",
              "|    |    └─_DenseLayer: 3-16            (167,136)\n",
              "|    |    └─_DenseLayer: 3-17            (176,448)\n",
              "|    |    └─_DenseLayer: 3-18            (185,760)\n",
              "|    |    └─_DenseLayer: 3-19            (195,072)\n",
              "|    |    └─_DenseLayer: 3-20            (204,384)\n",
              "|    |    └─_DenseLayer: 3-21            (213,696)\n",
              "|    |    └─_DenseLayer: 3-22            (223,008)\n",
              "|    └─_Transition: 2-8                  --\n",
              "|    |    └─BatchNorm2d: 3-23            (1,536)\n",
              "|    |    └─ReLU: 3-24                   --\n",
              "|    |    └─Conv2d: 3-25                 (294,912)\n",
              "|    |    └─AvgPool2d: 3-26              --\n",
              "|    └─_DenseBlock: 2-9                  --\n",
              "|    |    └─_DenseLayer: 3-27            (157,824)\n",
              "|    |    └─_DenseLayer: 3-28            (167,136)\n",
              "|    |    └─_DenseLayer: 3-29            (176,448)\n",
              "|    |    └─_DenseLayer: 3-30            (185,760)\n",
              "|    |    └─_DenseLayer: 3-31            (195,072)\n",
              "|    |    └─_DenseLayer: 3-32            (204,384)\n",
              "|    |    └─_DenseLayer: 3-33            (213,696)\n",
              "|    |    └─_DenseLayer: 3-34            (223,008)\n",
              "|    |    └─_DenseLayer: 3-35            (232,320)\n",
              "|    |    └─_DenseLayer: 3-36            (241,632)\n",
              "|    |    └─_DenseLayer: 3-37            (250,944)\n",
              "|    |    └─_DenseLayer: 3-38            (260,256)\n",
              "|    |    └─_DenseLayer: 3-39            (269,568)\n",
              "|    |    └─_DenseLayer: 3-40            (278,880)\n",
              "|    |    └─_DenseLayer: 3-41            (288,192)\n",
              "|    |    └─_DenseLayer: 3-42            (297,504)\n",
              "|    |    └─_DenseLayer: 3-43            (306,816)\n",
              "|    |    └─_DenseLayer: 3-44            (316,128)\n",
              "|    |    └─_DenseLayer: 3-45            (325,440)\n",
              "|    |    └─_DenseLayer: 3-46            (334,752)\n",
              "|    |    └─_DenseLayer: 3-47            (344,064)\n",
              "|    |    └─_DenseLayer: 3-48            (353,376)\n",
              "|    |    └─_DenseLayer: 3-49            (362,688)\n",
              "|    |    └─_DenseLayer: 3-50            (372,000)\n",
              "|    |    └─_DenseLayer: 3-51            (381,312)\n",
              "|    |    └─_DenseLayer: 3-52            (390,624)\n",
              "|    |    └─_DenseLayer: 3-53            (399,936)\n",
              "|    |    └─_DenseLayer: 3-54            (409,248)\n",
              "|    |    └─_DenseLayer: 3-55            (418,560)\n",
              "|    |    └─_DenseLayer: 3-56            (427,872)\n",
              "|    |    └─_DenseLayer: 3-57            (437,184)\n",
              "|    |    └─_DenseLayer: 3-58            (446,496)\n",
              "|    |    └─_DenseLayer: 3-59            (455,808)\n",
              "|    |    └─_DenseLayer: 3-60            (465,120)\n",
              "|    |    └─_DenseLayer: 3-61            (474,432)\n",
              "|    |    └─_DenseLayer: 3-62            (483,744)\n",
              "|    └─_Transition: 2-10                 --\n",
              "|    |    └─BatchNorm2d: 3-63            (4,224)\n",
              "|    |    └─ReLU: 3-64                   --\n",
              "|    |    └─Conv2d: 3-65                 (2,230,272)\n",
              "|    |    └─AvgPool2d: 3-66              --\n",
              "|    └─_DenseBlock: 2-11                 --\n",
              "|    |    └─_DenseLayer: 3-67            (288,192)\n",
              "|    |    └─_DenseLayer: 3-68            (297,504)\n",
              "|    |    └─_DenseLayer: 3-69            (306,816)\n",
              "|    |    └─_DenseLayer: 3-70            (316,128)\n",
              "|    |    └─_DenseLayer: 3-71            (325,440)\n",
              "|    |    └─_DenseLayer: 3-72            (334,752)\n",
              "|    |    └─_DenseLayer: 3-73            (344,064)\n",
              "|    |    └─_DenseLayer: 3-74            (353,376)\n",
              "|    |    └─_DenseLayer: 3-75            (362,688)\n",
              "|    |    └─_DenseLayer: 3-76            (372,000)\n",
              "|    |    └─_DenseLayer: 3-77            (381,312)\n",
              "|    |    └─_DenseLayer: 3-78            (390,624)\n",
              "|    |    └─_DenseLayer: 3-79            (399,936)\n",
              "|    |    └─_DenseLayer: 3-80            (409,248)\n",
              "|    |    └─_DenseLayer: 3-81            (418,560)\n",
              "|    |    └─_DenseLayer: 3-82            (427,872)\n",
              "|    |    └─_DenseLayer: 3-83            (437,184)\n",
              "|    |    └─_DenseLayer: 3-84            (446,496)\n",
              "|    |    └─_DenseLayer: 3-85            (455,808)\n",
              "|    |    └─_DenseLayer: 3-86            (465,120)\n",
              "|    |    └─_DenseLayer: 3-87            (474,432)\n",
              "|    |    └─_DenseLayer: 3-88            (483,744)\n",
              "|    |    └─_DenseLayer: 3-89            (493,056)\n",
              "|    |    └─_DenseLayer: 3-90            (502,368)\n",
              "|    └─BatchNorm2d: 2-12                 (4,416)\n",
              "├─Linear: 1-2                            11,045\n",
              "=================================================================\n",
              "Total params: 26,483,045\n",
              "Trainable params: 11,045\n",
              "Non-trainable params: 26,472,000\n",
              "================================================================="
            ]
          },
          "execution_count": 9,
          "metadata": {},
          "output_type": "execute_result"
        }
      ],
      "source": [
        "summary(tc.model, input_size=(3, 224, 224),device=tc.device.type)"
      ]
    },
    {
      "cell_type": "code",
      "execution_count": null,
      "metadata": {
        "colab": {
          "base_uri": "https://localhost:8080/"
        },
        "collapsed": true,
        "id": "1f_pZwqFbnsH",
        "outputId": "d4cfc3a0-74e3-4fe4-8b1e-4a684aa975d8"
      },
      "outputs": [
        {
          "name": "stdout",
          "output_type": "stream",
          "text": [
            "Epoch 1, Avg Loss: 1.1521, Train Accuracy: 0.5918\n",
            "Validation Accuracy: 0.7382\n",
            "Epoch 2, Avg Loss: 0.7690, Train Accuracy: 0.7994\n",
            "Validation Accuracy: 0.7455\n",
            "Epoch 3, Avg Loss: 0.5970, Train Accuracy: 0.8165\n",
            "Validation Accuracy: 0.7564\n",
            "Epoch 4, Avg Loss: 0.5221, Train Accuracy: 0.8336\n",
            "Validation Accuracy: 0.7782\n",
            "Epoch 5, Avg Loss: 0.4537, Train Accuracy: 0.8507\n",
            "Validation Accuracy: 0.7673\n",
            "Epoch 6, Avg Loss: 0.4139, Train Accuracy: 0.8631\n",
            "Validation Accuracy: 0.7782\n",
            "Epoch 7, Avg Loss: 0.3889, Train Accuracy: 0.8748\n",
            "Validation Accuracy: 0.7673\n",
            "Epoch 8, Avg Loss: 0.3555, Train Accuracy: 0.8802\n",
            "Validation Accuracy: 0.7891\n",
            "Epoch 9, Avg Loss: 0.3319, Train Accuracy: 0.8997\n",
            "Validation Accuracy: 0.7745\n",
            "Epoch 10, Avg Loss: 0.3236, Train Accuracy: 0.8950\n",
            "Validation Accuracy: 0.7927\n",
            "Epoch 11, Avg Loss: 0.3118, Train Accuracy: 0.9129\n",
            "Validation Accuracy: 0.7818\n",
            "Epoch 12, Avg Loss: 0.2912, Train Accuracy: 0.9145\n",
            "Validation Accuracy: 0.7927\n",
            "Epoch 13, Avg Loss: 0.2810, Train Accuracy: 0.9114\n",
            "Validation Accuracy: 0.7891\n",
            "Epoch 14, Avg Loss: 0.2722, Train Accuracy: 0.9160\n",
            "Validation Accuracy: 0.7927\n",
            "Epoch 15, Avg Loss: 0.2689, Train Accuracy: 0.9129\n",
            "Validation Accuracy: 0.7964\n",
            "Epoch 16, Avg Loss: 0.2554, Train Accuracy: 0.9207\n",
            "Validation Accuracy: 0.8000\n",
            "Epoch 17, Avg Loss: 0.2475, Train Accuracy: 0.9222\n",
            "Validation Accuracy: 0.8036\n",
            "Epoch 18, Avg Loss: 0.2321, Train Accuracy: 0.9308\n",
            "Validation Accuracy: 0.8036\n",
            "Epoch 19, Avg Loss: 0.2246, Train Accuracy: 0.9339\n",
            "Validation Accuracy: 0.8036\n",
            "Epoch 20, Avg Loss: 0.2228, Train Accuracy: 0.9409\n",
            "Validation Accuracy: 0.8000\n",
            "Best model saved with validation accuracy: 0.8036363636363636\n",
            "Training metrics saved.\n"
          ]
        }
      ],
      "source": [
        "tc.train_model(\n",
        "    './drive/MyDrive/Models/densenet161_EBHI_mag_200.pth',\n",
        "    './drive/MyDrive/Models/densenet161_metrics_EBHI_mag_200.csv',\n",
        "    epochs = 20,\n",
        "    lr = 0.001\n",
        "    )"
      ]
    },
    {
      "cell_type": "markdown",
      "metadata": {
        "id": "0SvRqwCgh94D"
      },
      "source": [
        "#### ResNet50"
      ]
    },
    {
      "cell_type": "code",
      "execution_count": null,
      "metadata": {
        "id": "GxdGVIlziQZT"
      },
      "outputs": [],
      "source": [
        "from torchvision.models import ResNet50_Weights"
      ]
    },
    {
      "cell_type": "code",
      "execution_count": null,
      "metadata": {
        "id": "pX3AB_xYiUmK"
      },
      "outputs": [],
      "source": [
        "# For ResNet50_Weights.IMAGENET1K_V2:\n",
        "# https://pytorch.org/vision/stable/models/generated/torchvision.models.resnet50.html#torchvision.models.ResNet50_Weights\n",
        "transform = transforms.Compose([\n",
        "    transforms.Resize(232),\n",
        "    transforms.CenterCrop(224),\n",
        "    transforms.ToTensor(),\n",
        "    transforms.Normalize((0.485, 0.456, 0.406),(0.229, 0.224, 0.225))\n",
        "])"
      ]
    },
    {
      "cell_type": "code",
      "execution_count": null,
      "metadata": {
        "colab": {
          "base_uri": "https://localhost:8080/"
        },
        "id": "JzlCu8ODihFy",
        "outputId": "5c889c92-2917-474c-dfe3-db11c60b4f8f"
      },
      "outputs": [
        {
          "name": "stdout",
          "output_type": "stream",
          "text": [
            "Loading dataset...\n",
            "\n",
            "Dataset Loaded.\n",
            "\n",
            "Total images: 1838\n",
            "Number of classes: 5\n",
            "Class names: ['Adenocarcinoma', 'High-grade IN', 'Low-grade IN', 'Normal', 'Polyp']\n",
            "Class-to-index mapping: {'Adenocarcinoma': 0, 'High-grade IN': 1, 'Low-grade IN': 2, 'Normal': 3, 'Polyp': 4}\n",
            "\n",
            "Initialized.\n"
          ]
        }
      ],
      "source": [
        "tc = TumorClassification(data_path,transform)\n",
        "tc.split_dataset()\n",
        "tc.prepare_dataloaders()"
      ]
    },
    {
      "cell_type": "code",
      "execution_count": null,
      "metadata": {
        "id": "yjcGKMGhim8N"
      },
      "outputs": [],
      "source": [
        "# Load pretrained model\n",
        "model = models.resnet50(weights=ResNet50_Weights.IMAGENET1K_V2)\n",
        "# Freeze feature extractor layers\n",
        "for param in model.parameters():\n",
        "    param.requires_grad = False\n",
        "for param in model.fc.parameters():\n",
        "    param.requires_grad = True\n",
        "model.fc = nn.Linear(model.fc.in_features, 5) # adjust final layer for ImageNet\n",
        "tc.init_model(model)"
      ]
    },
    {
      "cell_type": "code",
      "execution_count": null,
      "metadata": {
        "colab": {
          "base_uri": "https://localhost:8080/"
        },
        "collapsed": true,
        "id": "-FHhfYy7iyH5",
        "outputId": "e98f5ec3-2bf0-4ca6-f4e2-2ac3de6c21e5"
      },
      "outputs": [
        {
          "name": "stdout",
          "output_type": "stream",
          "text": [
            "----------------------------------------------------------------\n",
            "        Layer (type)               Output Shape         Param #\n",
            "================================================================\n",
            "            Conv2d-1         [-1, 64, 112, 112]           9,408\n",
            "       BatchNorm2d-2         [-1, 64, 112, 112]             128\n",
            "              ReLU-3         [-1, 64, 112, 112]               0\n",
            "         MaxPool2d-4           [-1, 64, 56, 56]               0\n",
            "            Conv2d-5           [-1, 64, 56, 56]           4,096\n",
            "       BatchNorm2d-6           [-1, 64, 56, 56]             128\n",
            "              ReLU-7           [-1, 64, 56, 56]               0\n",
            "            Conv2d-8           [-1, 64, 56, 56]          36,864\n",
            "       BatchNorm2d-9           [-1, 64, 56, 56]             128\n",
            "             ReLU-10           [-1, 64, 56, 56]               0\n",
            "           Conv2d-11          [-1, 256, 56, 56]          16,384\n",
            "      BatchNorm2d-12          [-1, 256, 56, 56]             512\n",
            "           Conv2d-13          [-1, 256, 56, 56]          16,384\n",
            "      BatchNorm2d-14          [-1, 256, 56, 56]             512\n",
            "             ReLU-15          [-1, 256, 56, 56]               0\n",
            "       Bottleneck-16          [-1, 256, 56, 56]               0\n",
            "           Conv2d-17           [-1, 64, 56, 56]          16,384\n",
            "      BatchNorm2d-18           [-1, 64, 56, 56]             128\n",
            "             ReLU-19           [-1, 64, 56, 56]               0\n",
            "           Conv2d-20           [-1, 64, 56, 56]          36,864\n",
            "      BatchNorm2d-21           [-1, 64, 56, 56]             128\n",
            "             ReLU-22           [-1, 64, 56, 56]               0\n",
            "           Conv2d-23          [-1, 256, 56, 56]          16,384\n",
            "      BatchNorm2d-24          [-1, 256, 56, 56]             512\n",
            "             ReLU-25          [-1, 256, 56, 56]               0\n",
            "       Bottleneck-26          [-1, 256, 56, 56]               0\n",
            "           Conv2d-27           [-1, 64, 56, 56]          16,384\n",
            "      BatchNorm2d-28           [-1, 64, 56, 56]             128\n",
            "             ReLU-29           [-1, 64, 56, 56]               0\n",
            "           Conv2d-30           [-1, 64, 56, 56]          36,864\n",
            "      BatchNorm2d-31           [-1, 64, 56, 56]             128\n",
            "             ReLU-32           [-1, 64, 56, 56]               0\n",
            "           Conv2d-33          [-1, 256, 56, 56]          16,384\n",
            "      BatchNorm2d-34          [-1, 256, 56, 56]             512\n",
            "             ReLU-35          [-1, 256, 56, 56]               0\n",
            "       Bottleneck-36          [-1, 256, 56, 56]               0\n",
            "           Conv2d-37          [-1, 128, 56, 56]          32,768\n",
            "      BatchNorm2d-38          [-1, 128, 56, 56]             256\n",
            "             ReLU-39          [-1, 128, 56, 56]               0\n",
            "           Conv2d-40          [-1, 128, 28, 28]         147,456\n",
            "      BatchNorm2d-41          [-1, 128, 28, 28]             256\n",
            "             ReLU-42          [-1, 128, 28, 28]               0\n",
            "           Conv2d-43          [-1, 512, 28, 28]          65,536\n",
            "      BatchNorm2d-44          [-1, 512, 28, 28]           1,024\n",
            "           Conv2d-45          [-1, 512, 28, 28]         131,072\n",
            "      BatchNorm2d-46          [-1, 512, 28, 28]           1,024\n",
            "             ReLU-47          [-1, 512, 28, 28]               0\n",
            "       Bottleneck-48          [-1, 512, 28, 28]               0\n",
            "           Conv2d-49          [-1, 128, 28, 28]          65,536\n",
            "      BatchNorm2d-50          [-1, 128, 28, 28]             256\n",
            "             ReLU-51          [-1, 128, 28, 28]               0\n",
            "           Conv2d-52          [-1, 128, 28, 28]         147,456\n",
            "      BatchNorm2d-53          [-1, 128, 28, 28]             256\n",
            "             ReLU-54          [-1, 128, 28, 28]               0\n",
            "           Conv2d-55          [-1, 512, 28, 28]          65,536\n",
            "      BatchNorm2d-56          [-1, 512, 28, 28]           1,024\n",
            "             ReLU-57          [-1, 512, 28, 28]               0\n",
            "       Bottleneck-58          [-1, 512, 28, 28]               0\n",
            "           Conv2d-59          [-1, 128, 28, 28]          65,536\n",
            "      BatchNorm2d-60          [-1, 128, 28, 28]             256\n",
            "             ReLU-61          [-1, 128, 28, 28]               0\n",
            "           Conv2d-62          [-1, 128, 28, 28]         147,456\n",
            "      BatchNorm2d-63          [-1, 128, 28, 28]             256\n",
            "             ReLU-64          [-1, 128, 28, 28]               0\n",
            "           Conv2d-65          [-1, 512, 28, 28]          65,536\n",
            "      BatchNorm2d-66          [-1, 512, 28, 28]           1,024\n",
            "             ReLU-67          [-1, 512, 28, 28]               0\n",
            "       Bottleneck-68          [-1, 512, 28, 28]               0\n",
            "           Conv2d-69          [-1, 128, 28, 28]          65,536\n",
            "      BatchNorm2d-70          [-1, 128, 28, 28]             256\n",
            "             ReLU-71          [-1, 128, 28, 28]               0\n",
            "           Conv2d-72          [-1, 128, 28, 28]         147,456\n",
            "      BatchNorm2d-73          [-1, 128, 28, 28]             256\n",
            "             ReLU-74          [-1, 128, 28, 28]               0\n",
            "           Conv2d-75          [-1, 512, 28, 28]          65,536\n",
            "      BatchNorm2d-76          [-1, 512, 28, 28]           1,024\n",
            "             ReLU-77          [-1, 512, 28, 28]               0\n",
            "       Bottleneck-78          [-1, 512, 28, 28]               0\n",
            "           Conv2d-79          [-1, 256, 28, 28]         131,072\n",
            "      BatchNorm2d-80          [-1, 256, 28, 28]             512\n",
            "             ReLU-81          [-1, 256, 28, 28]               0\n",
            "           Conv2d-82          [-1, 256, 14, 14]         589,824\n",
            "      BatchNorm2d-83          [-1, 256, 14, 14]             512\n",
            "             ReLU-84          [-1, 256, 14, 14]               0\n",
            "           Conv2d-85         [-1, 1024, 14, 14]         262,144\n",
            "      BatchNorm2d-86         [-1, 1024, 14, 14]           2,048\n",
            "           Conv2d-87         [-1, 1024, 14, 14]         524,288\n",
            "      BatchNorm2d-88         [-1, 1024, 14, 14]           2,048\n",
            "             ReLU-89         [-1, 1024, 14, 14]               0\n",
            "       Bottleneck-90         [-1, 1024, 14, 14]               0\n",
            "           Conv2d-91          [-1, 256, 14, 14]         262,144\n",
            "      BatchNorm2d-92          [-1, 256, 14, 14]             512\n",
            "             ReLU-93          [-1, 256, 14, 14]               0\n",
            "           Conv2d-94          [-1, 256, 14, 14]         589,824\n",
            "      BatchNorm2d-95          [-1, 256, 14, 14]             512\n",
            "             ReLU-96          [-1, 256, 14, 14]               0\n",
            "           Conv2d-97         [-1, 1024, 14, 14]         262,144\n",
            "      BatchNorm2d-98         [-1, 1024, 14, 14]           2,048\n",
            "             ReLU-99         [-1, 1024, 14, 14]               0\n",
            "      Bottleneck-100         [-1, 1024, 14, 14]               0\n",
            "          Conv2d-101          [-1, 256, 14, 14]         262,144\n",
            "     BatchNorm2d-102          [-1, 256, 14, 14]             512\n",
            "            ReLU-103          [-1, 256, 14, 14]               0\n",
            "          Conv2d-104          [-1, 256, 14, 14]         589,824\n",
            "     BatchNorm2d-105          [-1, 256, 14, 14]             512\n",
            "            ReLU-106          [-1, 256, 14, 14]               0\n",
            "          Conv2d-107         [-1, 1024, 14, 14]         262,144\n",
            "     BatchNorm2d-108         [-1, 1024, 14, 14]           2,048\n",
            "            ReLU-109         [-1, 1024, 14, 14]               0\n",
            "      Bottleneck-110         [-1, 1024, 14, 14]               0\n",
            "          Conv2d-111          [-1, 256, 14, 14]         262,144\n",
            "     BatchNorm2d-112          [-1, 256, 14, 14]             512\n",
            "            ReLU-113          [-1, 256, 14, 14]               0\n",
            "          Conv2d-114          [-1, 256, 14, 14]         589,824\n",
            "     BatchNorm2d-115          [-1, 256, 14, 14]             512\n",
            "            ReLU-116          [-1, 256, 14, 14]               0\n",
            "          Conv2d-117         [-1, 1024, 14, 14]         262,144\n",
            "     BatchNorm2d-118         [-1, 1024, 14, 14]           2,048\n",
            "            ReLU-119         [-1, 1024, 14, 14]               0\n",
            "      Bottleneck-120         [-1, 1024, 14, 14]               0\n",
            "          Conv2d-121          [-1, 256, 14, 14]         262,144\n",
            "     BatchNorm2d-122          [-1, 256, 14, 14]             512\n",
            "            ReLU-123          [-1, 256, 14, 14]               0\n",
            "          Conv2d-124          [-1, 256, 14, 14]         589,824\n",
            "     BatchNorm2d-125          [-1, 256, 14, 14]             512\n",
            "            ReLU-126          [-1, 256, 14, 14]               0\n",
            "          Conv2d-127         [-1, 1024, 14, 14]         262,144\n",
            "     BatchNorm2d-128         [-1, 1024, 14, 14]           2,048\n",
            "            ReLU-129         [-1, 1024, 14, 14]               0\n",
            "      Bottleneck-130         [-1, 1024, 14, 14]               0\n",
            "          Conv2d-131          [-1, 256, 14, 14]         262,144\n",
            "     BatchNorm2d-132          [-1, 256, 14, 14]             512\n",
            "            ReLU-133          [-1, 256, 14, 14]               0\n",
            "          Conv2d-134          [-1, 256, 14, 14]         589,824\n",
            "     BatchNorm2d-135          [-1, 256, 14, 14]             512\n",
            "            ReLU-136          [-1, 256, 14, 14]               0\n",
            "          Conv2d-137         [-1, 1024, 14, 14]         262,144\n",
            "     BatchNorm2d-138         [-1, 1024, 14, 14]           2,048\n",
            "            ReLU-139         [-1, 1024, 14, 14]               0\n",
            "      Bottleneck-140         [-1, 1024, 14, 14]               0\n",
            "          Conv2d-141          [-1, 512, 14, 14]         524,288\n",
            "     BatchNorm2d-142          [-1, 512, 14, 14]           1,024\n",
            "            ReLU-143          [-1, 512, 14, 14]               0\n",
            "          Conv2d-144            [-1, 512, 7, 7]       2,359,296\n",
            "     BatchNorm2d-145            [-1, 512, 7, 7]           1,024\n",
            "            ReLU-146            [-1, 512, 7, 7]               0\n",
            "          Conv2d-147           [-1, 2048, 7, 7]       1,048,576\n",
            "     BatchNorm2d-148           [-1, 2048, 7, 7]           4,096\n",
            "          Conv2d-149           [-1, 2048, 7, 7]       2,097,152\n",
            "     BatchNorm2d-150           [-1, 2048, 7, 7]           4,096\n",
            "            ReLU-151           [-1, 2048, 7, 7]               0\n",
            "      Bottleneck-152           [-1, 2048, 7, 7]               0\n",
            "          Conv2d-153            [-1, 512, 7, 7]       1,048,576\n",
            "     BatchNorm2d-154            [-1, 512, 7, 7]           1,024\n",
            "            ReLU-155            [-1, 512, 7, 7]               0\n",
            "          Conv2d-156            [-1, 512, 7, 7]       2,359,296\n",
            "     BatchNorm2d-157            [-1, 512, 7, 7]           1,024\n",
            "            ReLU-158            [-1, 512, 7, 7]               0\n",
            "          Conv2d-159           [-1, 2048, 7, 7]       1,048,576\n",
            "     BatchNorm2d-160           [-1, 2048, 7, 7]           4,096\n",
            "            ReLU-161           [-1, 2048, 7, 7]               0\n",
            "      Bottleneck-162           [-1, 2048, 7, 7]               0\n",
            "          Conv2d-163            [-1, 512, 7, 7]       1,048,576\n",
            "     BatchNorm2d-164            [-1, 512, 7, 7]           1,024\n",
            "            ReLU-165            [-1, 512, 7, 7]               0\n",
            "          Conv2d-166            [-1, 512, 7, 7]       2,359,296\n",
            "     BatchNorm2d-167            [-1, 512, 7, 7]           1,024\n",
            "            ReLU-168            [-1, 512, 7, 7]               0\n",
            "          Conv2d-169           [-1, 2048, 7, 7]       1,048,576\n",
            "     BatchNorm2d-170           [-1, 2048, 7, 7]           4,096\n",
            "            ReLU-171           [-1, 2048, 7, 7]               0\n",
            "      Bottleneck-172           [-1, 2048, 7, 7]               0\n",
            "AdaptiveAvgPool2d-173           [-1, 2048, 1, 1]               0\n",
            "          Linear-174                    [-1, 5]          10,245\n",
            "================================================================\n",
            "Total params: 23,518,277\n",
            "Trainable params: 10,245\n",
            "Non-trainable params: 23,508,032\n",
            "----------------------------------------------------------------\n",
            "Input size (MB): 0.57\n",
            "Forward/backward pass size (MB): 286.55\n",
            "Params size (MB): 89.72\n",
            "Estimated Total Size (MB): 376.84\n",
            "----------------------------------------------------------------\n"
          ]
        }
      ],
      "source": [
        "summary(tc.model, input_size=(3, 224, 224),device=tc.device.type)"
      ]
    },
    {
      "cell_type": "code",
      "execution_count": null,
      "metadata": {
        "colab": {
          "base_uri": "https://localhost:8080/"
        },
        "collapsed": true,
        "id": "BeA-IPXpiypr",
        "outputId": "3c4efc5f-fdc9-4c7a-a614-0744f8707409"
      },
      "outputs": [
        {
          "name": "stdout",
          "output_type": "stream",
          "text": [
            "Epoch 1, Avg Loss: 1.2038, Train Accuracy: 0.5692\n",
            "Validation Accuracy: 0.5782\n",
            "Epoch 2, Avg Loss: 0.9133, Train Accuracy: 0.7302\n",
            "Validation Accuracy: 0.7018\n",
            "Epoch 3, Avg Loss: 0.7525, Train Accuracy: 0.8017\n",
            "Validation Accuracy: 0.7236\n",
            "Epoch 4, Avg Loss: 0.6485, Train Accuracy: 0.8266\n",
            "Validation Accuracy: 0.7273\n",
            "Epoch 5, Avg Loss: 0.5890, Train Accuracy: 0.8375\n",
            "Validation Accuracy: 0.7345\n",
            "Epoch 6, Avg Loss: 0.5293, Train Accuracy: 0.8414\n",
            "Validation Accuracy: 0.7527\n",
            "Epoch 7, Avg Loss: 0.4852, Train Accuracy: 0.8523\n",
            "Validation Accuracy: 0.7600\n",
            "Epoch 8, Avg Loss: 0.4446, Train Accuracy: 0.8631\n",
            "Validation Accuracy: 0.7745\n",
            "Epoch 9, Avg Loss: 0.4199, Train Accuracy: 0.8709\n",
            "Validation Accuracy: 0.7818\n",
            "Epoch 10, Avg Loss: 0.3951, Train Accuracy: 0.8826\n",
            "Validation Accuracy: 0.7855\n",
            "Epoch 11, Avg Loss: 0.3741, Train Accuracy: 0.8935\n",
            "Validation Accuracy: 0.7818\n",
            "Epoch 12, Avg Loss: 0.3597, Train Accuracy: 0.8927\n",
            "Validation Accuracy: 0.7818\n",
            "Epoch 13, Avg Loss: 0.3401, Train Accuracy: 0.9059\n",
            "Validation Accuracy: 0.7855\n",
            "Epoch 14, Avg Loss: 0.3258, Train Accuracy: 0.9098\n",
            "Validation Accuracy: 0.7818\n",
            "Epoch 15, Avg Loss: 0.3087, Train Accuracy: 0.9191\n",
            "Validation Accuracy: 0.7891\n",
            "Epoch 16, Avg Loss: 0.3092, Train Accuracy: 0.9168\n",
            "Validation Accuracy: 0.7891\n",
            "Epoch 17, Avg Loss: 0.2879, Train Accuracy: 0.9292\n",
            "Validation Accuracy: 0.7964\n",
            "Epoch 18, Avg Loss: 0.2791, Train Accuracy: 0.9292\n",
            "Validation Accuracy: 0.8000\n",
            "Epoch 19, Avg Loss: 0.2720, Train Accuracy: 0.9308\n",
            "Validation Accuracy: 0.8000\n",
            "Epoch 20, Avg Loss: 0.2535, Train Accuracy: 0.9386\n",
            "Validation Accuracy: 0.8036\n",
            "Best model saved with validation accuracy: 0.8036363636363636\n",
            "Training metrics saved.\n"
          ]
        }
      ],
      "source": [
        "tc.train_model(\n",
        "    './drive/MyDrive/Models/resnet50_EBHI_mag_200.pth',\n",
        "    './drive/MyDrive/Models/resnet50_metrics_EBHI_mag_200.csv',\n",
        "    epochs = 20,\n",
        "    lr = 0.001,\n",
        "    criterion = nn.CrossEntropyLoss(),\n",
        "    optimizer = optim.Adam(model.fc.parameters(), lr=0.001)\n",
        "    )"
      ]
    },
    {
      "cell_type": "markdown",
      "metadata": {
        "id": "l1Re1iPgl_BN"
      },
      "source": [
        "#### MobileNet"
      ]
    },
    {
      "cell_type": "code",
      "execution_count": null,
      "metadata": {
        "id": "6akbH0PBmHBI"
      },
      "outputs": [],
      "source": [
        "from torchvision.models import MobileNet_V3_Large_Weights"
      ]
    },
    {
      "cell_type": "code",
      "execution_count": null,
      "metadata": {
        "id": "o8nBOU1imMuD"
      },
      "outputs": [],
      "source": [
        "# For MobileNet_V3_Large_Weights.IMAGENET1K_V2:\n",
        "# https://pytorch.org/vision/stable/models/generated/torchvision.models.mobilenet_v3_large.html#torchvision.models.MobileNet_V3_Large_Weights\n",
        "transform = transforms.Compose([\n",
        "    transforms.Resize(232),\n",
        "    transforms.CenterCrop(224),\n",
        "    transforms.ToTensor(),\n",
        "    transforms.Normalize((0.485, 0.456, 0.406),(0.229, 0.224, 0.225))\n",
        "])"
      ]
    },
    {
      "cell_type": "code",
      "execution_count": null,
      "metadata": {
        "colab": {
          "base_uri": "https://localhost:8080/"
        },
        "id": "BYvn6kBLmWLk",
        "outputId": "9a8cbeac-b9ef-4554-f680-d5206a811ef7"
      },
      "outputs": [
        {
          "name": "stdout",
          "output_type": "stream",
          "text": [
            "Loading dataset...\n",
            "\n",
            "Dataset Loaded.\n",
            "\n",
            "Total images: 1838\n",
            "Number of classes: 5\n",
            "Class names: ['Adenocarcinoma', 'High-grade IN', 'Low-grade IN', 'Normal', 'Polyp']\n",
            "Class-to-index mapping: {'Adenocarcinoma': 0, 'High-grade IN': 1, 'Low-grade IN': 2, 'Normal': 3, 'Polyp': 4}\n",
            "\n",
            "Initialized.\n"
          ]
        }
      ],
      "source": [
        "tc = TumorClassification(data_path,transform)\n",
        "tc.split_dataset()\n",
        "tc.prepare_dataloaders()"
      ]
    },
    {
      "cell_type": "code",
      "execution_count": null,
      "metadata": {
        "id": "PHRLr6zImY2H"
      },
      "outputs": [],
      "source": [
        "# Load pretrained model\n",
        "model = models.mobilenet_v3_large(weights=MobileNet_V3_Large_Weights.IMAGENET1K_V2)\n",
        "# Freeze feature extractor layers\n",
        "for param in model.parameters():\n",
        "    param.requires_grad = False\n",
        "for param in model.classifier.parameters():\n",
        "    param.requires_grad = True\n",
        "model.classifier[3] = nn.Linear(model.classifier[3].in_features, 5) # adjust final layer for ImageNet\n",
        "tc.init_model(model)"
      ]
    },
    {
      "cell_type": "code",
      "execution_count": null,
      "metadata": {
        "colab": {
          "base_uri": "https://localhost:8080/"
        },
        "collapsed": true,
        "id": "bP8gGyzIu7_i",
        "outputId": "6075e6d0-05d6-44de-d252-b79385b00637"
      },
      "outputs": [
        {
          "name": "stdout",
          "output_type": "stream",
          "text": [
            "===========================================================================\n",
            "Layer (type:depth-idx)                             Param #\n",
            "===========================================================================\n",
            "├─Sequential: 1-1                                  --\n",
            "|    └─Conv2dNormActivation: 2-1                   --\n",
            "|    |    └─Conv2d: 3-1                            (432)\n",
            "|    |    └─BatchNorm2d: 3-2                       (32)\n",
            "|    |    └─Hardswish: 3-3                         --\n",
            "|    └─InvertedResidual: 2-2                       --\n",
            "|    |    └─Sequential: 3-4                        (464)\n",
            "|    └─InvertedResidual: 2-3                       --\n",
            "|    |    └─Sequential: 3-5                        (3,440)\n",
            "|    └─InvertedResidual: 2-4                       --\n",
            "|    |    └─Sequential: 3-6                        (4,440)\n",
            "|    └─InvertedResidual: 2-5                       --\n",
            "|    |    └─Sequential: 3-7                        (10,328)\n",
            "|    └─InvertedResidual: 2-6                       --\n",
            "|    |    └─Sequential: 3-8                        (20,992)\n",
            "|    └─InvertedResidual: 2-7                       --\n",
            "|    |    └─Sequential: 3-9                        (20,992)\n",
            "|    └─InvertedResidual: 2-8                       --\n",
            "|    |    └─Sequential: 3-10                       (32,080)\n",
            "|    └─InvertedResidual: 2-9                       --\n",
            "|    |    └─Sequential: 3-11                       (34,760)\n",
            "|    └─InvertedResidual: 2-10                      --\n",
            "|    |    └─Sequential: 3-12                       (31,992)\n",
            "|    └─InvertedResidual: 2-11                      --\n",
            "|    |    └─Sequential: 3-13                       (31,992)\n",
            "|    └─InvertedResidual: 2-12                      --\n",
            "|    |    └─Sequential: 3-14                       (214,424)\n",
            "|    └─InvertedResidual: 2-13                      --\n",
            "|    |    └─Sequential: 3-15                       (386,120)\n",
            "|    └─InvertedResidual: 2-14                      --\n",
            "|    |    └─Sequential: 3-16                       (429,224)\n",
            "|    └─InvertedResidual: 2-15                      --\n",
            "|    |    └─Sequential: 3-17                       (797,360)\n",
            "|    └─InvertedResidual: 2-16                      --\n",
            "|    |    └─Sequential: 3-18                       (797,360)\n",
            "|    └─Conv2dNormActivation: 2-17                  --\n",
            "|    |    └─Conv2d: 3-19                           (153,600)\n",
            "|    |    └─BatchNorm2d: 3-20                      (1,920)\n",
            "|    |    └─Hardswish: 3-21                        --\n",
            "├─AdaptiveAvgPool2d: 1-2                           --\n",
            "├─Sequential: 1-3                                  --\n",
            "|    └─Linear: 2-18                                1,230,080\n",
            "|    └─Hardswish: 2-19                             --\n",
            "|    └─Dropout: 2-20                               --\n",
            "|    └─Linear: 2-21                                6,405\n",
            "===========================================================================\n",
            "Total params: 4,208,437\n",
            "Trainable params: 1,236,485\n",
            "Non-trainable params: 2,971,952\n",
            "===========================================================================\n"
          ]
        },
        {
          "data": {
            "text/plain": [
              "===========================================================================\n",
              "Layer (type:depth-idx)                             Param #\n",
              "===========================================================================\n",
              "├─Sequential: 1-1                                  --\n",
              "|    └─Conv2dNormActivation: 2-1                   --\n",
              "|    |    └─Conv2d: 3-1                            (432)\n",
              "|    |    └─BatchNorm2d: 3-2                       (32)\n",
              "|    |    └─Hardswish: 3-3                         --\n",
              "|    └─InvertedResidual: 2-2                       --\n",
              "|    |    └─Sequential: 3-4                        (464)\n",
              "|    └─InvertedResidual: 2-3                       --\n",
              "|    |    └─Sequential: 3-5                        (3,440)\n",
              "|    └─InvertedResidual: 2-4                       --\n",
              "|    |    └─Sequential: 3-6                        (4,440)\n",
              "|    └─InvertedResidual: 2-5                       --\n",
              "|    |    └─Sequential: 3-7                        (10,328)\n",
              "|    └─InvertedResidual: 2-6                       --\n",
              "|    |    └─Sequential: 3-8                        (20,992)\n",
              "|    └─InvertedResidual: 2-7                       --\n",
              "|    |    └─Sequential: 3-9                        (20,992)\n",
              "|    └─InvertedResidual: 2-8                       --\n",
              "|    |    └─Sequential: 3-10                       (32,080)\n",
              "|    └─InvertedResidual: 2-9                       --\n",
              "|    |    └─Sequential: 3-11                       (34,760)\n",
              "|    └─InvertedResidual: 2-10                      --\n",
              "|    |    └─Sequential: 3-12                       (31,992)\n",
              "|    └─InvertedResidual: 2-11                      --\n",
              "|    |    └─Sequential: 3-13                       (31,992)\n",
              "|    └─InvertedResidual: 2-12                      --\n",
              "|    |    └─Sequential: 3-14                       (214,424)\n",
              "|    └─InvertedResidual: 2-13                      --\n",
              "|    |    └─Sequential: 3-15                       (386,120)\n",
              "|    └─InvertedResidual: 2-14                      --\n",
              "|    |    └─Sequential: 3-16                       (429,224)\n",
              "|    └─InvertedResidual: 2-15                      --\n",
              "|    |    └─Sequential: 3-17                       (797,360)\n",
              "|    └─InvertedResidual: 2-16                      --\n",
              "|    |    └─Sequential: 3-18                       (797,360)\n",
              "|    └─Conv2dNormActivation: 2-17                  --\n",
              "|    |    └─Conv2d: 3-19                           (153,600)\n",
              "|    |    └─BatchNorm2d: 3-20                      (1,920)\n",
              "|    |    └─Hardswish: 3-21                        --\n",
              "├─AdaptiveAvgPool2d: 1-2                           --\n",
              "├─Sequential: 1-3                                  --\n",
              "|    └─Linear: 2-18                                1,230,080\n",
              "|    └─Hardswish: 2-19                             --\n",
              "|    └─Dropout: 2-20                               --\n",
              "|    └─Linear: 2-21                                6,405\n",
              "===========================================================================\n",
              "Total params: 4,208,437\n",
              "Trainable params: 1,236,485\n",
              "Non-trainable params: 2,971,952\n",
              "==========================================================================="
            ]
          },
          "execution_count": 36,
          "metadata": {},
          "output_type": "execute_result"
        }
      ],
      "source": [
        "summary(tc.model, input_size=(3, 224, 224),device=tc.device.type)"
      ]
    },
    {
      "cell_type": "code",
      "execution_count": null,
      "metadata": {
        "colab": {
          "base_uri": "https://localhost:8080/"
        },
        "collapsed": true,
        "id": "Yn3fvuhwvBnq",
        "outputId": "39a0ba3a-3d1e-4ef3-bdc9-9d7b4460b321"
      },
      "outputs": [
        {
          "name": "stdout",
          "output_type": "stream",
          "text": [
            "Epoch 1, Avg Loss: 1.6030, Train Accuracy: 0.1804\n",
            "Validation Accuracy: 0.6400\n",
            "Epoch 2, Avg Loss: 2.5843, Train Accuracy: 0.5630\n",
            "Validation Accuracy: 0.2109\n",
            "Epoch 3, Avg Loss: 3.2866, Train Accuracy: 0.3344\n",
            "Validation Accuracy: 0.2291\n",
            "Epoch 4, Avg Loss: 3.1716, Train Accuracy: 0.4370\n",
            "Validation Accuracy: 0.4400\n",
            "Epoch 5, Avg Loss: 3.0317, Train Accuracy: 0.4215\n",
            "Validation Accuracy: 0.4109\n",
            "Epoch 6, Avg Loss: 1.2351, Train Accuracy: 0.5140\n",
            "Validation Accuracy: 0.3636\n",
            "Epoch 7, Avg Loss: 0.7407, Train Accuracy: 0.6120\n",
            "Validation Accuracy: 0.2945\n",
            "Epoch 8, Avg Loss: 1.4999, Train Accuracy: 0.4914\n",
            "Validation Accuracy: 0.2873\n",
            "Epoch 9, Avg Loss: 0.8512, Train Accuracy: 0.6143\n",
            "Validation Accuracy: 0.3018\n",
            "Epoch 10, Avg Loss: 0.4965, Train Accuracy: 0.6672\n",
            "Validation Accuracy: 0.3600\n",
            "Epoch 11, Avg Loss: 0.5960, Train Accuracy: 0.6260\n",
            "Validation Accuracy: 0.3782\n",
            "Epoch 12, Avg Loss: 0.6955, Train Accuracy: 0.6198\n",
            "Validation Accuracy: 0.3527\n",
            "Epoch 13, Avg Loss: 0.6019, Train Accuracy: 0.6213\n",
            "Validation Accuracy: 0.3891\n",
            "Epoch 14, Avg Loss: 0.4060, Train Accuracy: 0.6804\n",
            "Validation Accuracy: 0.4145\n",
            "Epoch 15, Avg Loss: 0.3469, Train Accuracy: 0.7014\n",
            "Validation Accuracy: 0.4145\n",
            "Epoch 16, Avg Loss: 0.3990, Train Accuracy: 0.6781\n",
            "Validation Accuracy: 0.3927\n",
            "Epoch 17, Avg Loss: 0.4051, Train Accuracy: 0.6788\n",
            "Validation Accuracy: 0.4036\n",
            "Epoch 18, Avg Loss: 0.3407, Train Accuracy: 0.6975\n",
            "Validation Accuracy: 0.4218\n",
            "Epoch 19, Avg Loss: 0.2847, Train Accuracy: 0.7193\n",
            "Validation Accuracy: 0.4255\n",
            "Epoch 20, Avg Loss: 0.2771, Train Accuracy: 0.7170\n",
            "Validation Accuracy: 0.4582\n",
            "Best model saved with validation accuracy: 0.64\n",
            "Training metrics saved.\n"
          ]
        }
      ],
      "source": [
        "tc.train_model(\n",
        "    './drive/MyDrive/Models/mobilenet_EBHI_mag_200.pth',\n",
        "    './drive/MyDrive/Models/mobilenet_metrics_EBHI_mag_200.csv',\n",
        "    epochs = 20,\n",
        "    lr = 0.008\n",
        "    )"
      ]
    },
    {
      "cell_type": "markdown",
      "metadata": {
        "id": "e-UlmxP64sfd"
      },
      "source": [
        "### Model Performance Comparison (on Validation)"
      ]
    },
    {
      "cell_type": "code",
      "execution_count": null,
      "metadata": {
        "id": "ZTNIZCQa69pY"
      },
      "outputs": [],
      "source": [
        "import os\n",
        "import matplotlib.pyplot as plt"
      ]
    },
    {
      "cell_type": "code",
      "execution_count": null,
      "metadata": {
        "id": "Qqfy28Ws8g82"
      },
      "outputs": [],
      "source": [
        "def read_csv_from_directory(directory_path):\n",
        "  csv_files = [f for f in os.listdir(directory_path) if f.endswith('.csv')]\n",
        "  dataframes = {}\n",
        "\n",
        "  for _file in csv_files:\n",
        "      file_path = os.path.join(directory_path, _file)\n",
        "      df = pd.read_csv(file_path)\n",
        "      model_name = _file.split('_')[0]  # Use the filename as the model name\n",
        "      dataframes[model_name] = df\n",
        "\n",
        "  return dataframes"
      ]
    },
    {
      "cell_type": "code",
      "execution_count": null,
      "metadata": {
        "id": "OvM_Y1Z98lT9"
      },
      "outputs": [],
      "source": [
        "metrics = read_csv_from_directory('./drive/MyDrive/Models/')"
      ]
    },
    {
      "cell_type": "code",
      "execution_count": null,
      "metadata": {
        "id": "j0OzifH3AXEr"
      },
      "outputs": [],
      "source": [
        "def plot_training_loss(dataframes,save_path = None):\n",
        "  plt.figure(figsize=(10, 6))\n",
        "\n",
        "  for model_name, df in dataframes.items():\n",
        "      epochs = df['Epoch']\n",
        "      train_loss = df['Train Loss']\n",
        "      plt.plot(epochs, train_loss, label=model_name)\n",
        "\n",
        "  plt.xlabel('Epochs')\n",
        "  plt.ylabel('Training Loss')\n",
        "  plt.title('Training Loss Over Epochs')\n",
        "  plt.legend()\n",
        "  plt.grid(True)\n",
        "  if save_path is not None:\n",
        "    plt.savefig(save_path)\n",
        "  plt.show()"
      ]
    },
    {
      "cell_type": "code",
      "execution_count": null,
      "metadata": {
        "colab": {
          "base_uri": "https://localhost:8080/",
          "height": 564
        },
        "id": "HqRgMbzTFRvu",
        "outputId": "b06a982d-766a-4179-e183-cee7f81e4248"
      },
      "outputs": [
        {
          "data": {
            "image/png": "[encoded data removed]",
            "text/plain": [
              "<Figure size 1000x600 with 1 Axes>"
            ]
          },
          "metadata": {},
          "output_type": "display_data"
        }
      ],
      "source": [
        "plot_training_loss(metrics,'./drive/MyDrive/Models/Metrics/Training-Loss-Over-Epochs.png')"
      ]
    },
    {
      "cell_type": "code",
      "execution_count": null,
      "metadata": {
        "id": "gHURstwM-ng6"
      },
      "outputs": [],
      "source": [
        "def plot_accuracy(dataframes,save_path = None):\n",
        "  plt.figure(figsize=(12, 6))\n",
        "\n",
        "  for model_name, df in dataframes.items():\n",
        "      epochs = df['Epoch']\n",
        "      train_accuracy = df['Train Accuracy']\n",
        "      val_accuracy = df['Validation Accuracy']\n",
        "\n",
        "      plt.plot(epochs, val_accuracy, label=f'{model_name} Validation Accuracy')\n",
        "\n",
        "  plt.xlabel('Epochs')\n",
        "  plt.ylabel('Accuracy')\n",
        "  plt.title('Validation Accuracy Over Epochs')\n",
        "  plt.legend()\n",
        "  plt.grid(True)\n",
        "  if save_path is not None:\n",
        "    plt.savefig(save_path)\n",
        "  plt.show()\n"
      ]
    },
    {
      "cell_type": "code",
      "execution_count": null,
      "metadata": {
        "colab": {
          "base_uri": "https://localhost:8080/",
          "height": 564
        },
        "id": "_Fp58UOnFmym",
        "outputId": "e2d16d0f-928a-405a-8c08-3f6222c6c02d"
      },
      "outputs": [
        {
          "data": {
            "image/png": "[encoded data removed]",
            "text/plain": [
              "<Figure size 1200x600 with 1 Axes>"
            ]
          },
          "metadata": {},
          "output_type": "display_data"
        }
      ],
      "source": [
        "plot_accuracy(metrics,'./drive/MyDrive/Models/Metrics/Validation-Accuracy-Over-Epochs.png')"
      ]
    },
    {
      "cell_type": "code",
      "execution_count": null,
      "metadata": {
        "id": "yicXWylbBvqM"
      },
      "outputs": [],
      "source": [
        "def plot_best_validation_accuracy(dataframes,save_path = None):\n",
        "  best_accuracies = []  # Store the best accuracy for each model\n",
        "  model_names = []  # Store the model names\n",
        "\n",
        "  # Find the best validation accuracy for each model\n",
        "  for model_name, df in dataframes.items():\n",
        "      best_val_acc = df['Validation Accuracy'].max()  # Find max validation accuracy\n",
        "      best_accuracies.append(best_val_acc)\n",
        "      model_names.append(model_name)\n",
        "\n",
        "  # Plot the best validation accuracy for each model\n",
        "  plt.figure(figsize=(10, 6))\n",
        "  plt.bar(model_names, best_accuracies, color='skyblue')\n",
        "  plt.xlabel('Model')\n",
        "  plt.ylabel('Best Validation Accuracy')\n",
        "  plt.title('Best Validation Accuracy for Each Model')\n",
        "  plt.xticks(rotation=45, ha=\"right\")  # Rotate model names for better readability\n",
        "  plt.grid(axis='y', linestyle='--', alpha=0.7)\n",
        "  plt.tight_layout()  # Adjust layout to prevent overlapping labels\n",
        "\n",
        "  # Add legends (in this case, just the bar labels as the models)\n",
        "  plt.legend([\"Best Validation Accuracy\"], loc=\"upper left\")\n",
        "  if save_path is not None:\n",
        "    plt.savefig(save_path)\n",
        "  plt.show()"
      ]
    },
    {
      "cell_type": "code",
      "execution_count": null,
      "metadata": {
        "colab": {
          "base_uri": "https://localhost:8080/",
          "height": 607
        },
        "id": "gL26hKOJBxuU",
        "outputId": "daa04f8a-3335-4f83-c7cf-1384e92fe9a2"
      },
      "outputs": [
        {
          "data": {
            "image/png": "[encoded data removed]",
            "text/plain": [
              "<Figure size 1000x600 with 1 Axes>"
            ]
          },
          "metadata": {},
          "output_type": "display_data"
        }
      ],
      "source": [
        "plot_best_validation_accuracy(metrics,'./drive/MyDrive/Models/Metrics/Best-Validation-Accuracy.png')"
      ]
    },
    {
      "cell_type": "markdown",
      "metadata": {
        "id": "LdlatlYs9Zf0"
      },
      "source": [
        "## Improvement"
      ]
    },
    {
      "cell_type": "markdown",
      "metadata": {
        "id": "HdBjiYH1_rsr"
      },
      "source": [
        "Through experimentation with pretrained models, we have four models that achieve an accuracy of 0.8 or higher. We selected three of these models to modify their classifier architectures, apply data augmentation, introduce class weights, and implement learning rate scheduling. After improving these three models, we ensembled them using soft voting, resulting in a significant performance boost."
      ]
    },
    {
      "cell_type": "code",
      "execution_count": null,
      "metadata": {
        "id": "h1iTYAGPkcOc"
      },
      "outputs": [],
      "source": [
        "from torch.utils.data import Dataset\n",
        "from collections import Counter"
      ]
    },
    {
      "cell_type": "code",
      "execution_count": null,
      "metadata": {
        "id": "AV3Z4_u7qNhq"
      },
      "outputs": [],
      "source": [
        "data_path = '/content/200'"
      ]
    },
    {
      "cell_type": "code",
      "execution_count": null,
      "metadata": {
        "id": "Tv7DNfnQZw8w"
      },
      "outputs": [],
      "source": [
        "class CustomDataset(Dataset):\n",
        "  def __init__(self, subset, transform):\n",
        "    self.subset = subset\n",
        "    self.transform = transform\n",
        "\n",
        "  def __getitem__(self, index):\n",
        "    x, y = self.subset[index]\n",
        "    x = self.transform(x)\n",
        "    return x, y\n",
        "\n",
        "  def __len__(self):\n",
        "    return len(self.subset)"
      ]
    },
    {
      "cell_type": "code",
      "execution_count": null,
      "metadata": {
        "id": "tnSy1hq2COOa"
      },
      "outputs": [],
      "source": [
        "class TumorClassificationImproved:\n",
        "  full_dataset = None\n",
        "  train_transform = None # w/ data augmentation\n",
        "  val_test_transform = None # w/o augmentation\n",
        "\n",
        "  train_dataset = None\n",
        "  val_dataset = None\n",
        "  test_dataset = None\n",
        "\n",
        "  train_dataloader = None\n",
        "  val_dataloader = None\n",
        "  test_dataloader = None\n",
        "\n",
        "  device = None\n",
        "  model = None\n",
        "\n",
        "  def __init__(self, data_path, train_transform, val_test_transform):\n",
        "    print('Loading dataset...\\n')\n",
        "    self.full_dataset = datasets.ImageFolder(root=data_path)\n",
        "    self.dataset_summary()\n",
        "    self.device = torch.device(\"cuda\" if torch.cuda.is_available() else \"cpu\")\n",
        "    self.train_transform = train_transform\n",
        "    self.val_test_transform = val_test_transform\n",
        "    print('Initialized.')\n",
        "\n",
        "  def dataset_summary(self):\n",
        "    print(f\"Total images: {len(self.full_dataset)}\")\n",
        "    print(f\"Number of classes: {len(self.full_dataset.classes)}\")\n",
        "    print(f\"Class names: {self.full_dataset.classes}\")\n",
        "    print(f\"Class-to-index mapping: {self.full_dataset.class_to_idx}\\n\")\n",
        "\n",
        "  def split_dataset(self, train_portion = 0.7, val_portion = 0.15, _seed=42):\n",
        "    total_size = len(self.full_dataset)\n",
        "    train_size = int(train_portion * total_size)\n",
        "    val_size = int(val_portion * total_size)\n",
        "    test_size = total_size - train_size - val_size\n",
        "\n",
        "    raw_train_dataset, raw_val_dataset, raw_test_dataset = random_split(\n",
        "        self.full_dataset,\n",
        "        [train_size, val_size, test_size],\n",
        "        generator=torch.Generator().manual_seed(_seed)\n",
        "    )\n",
        "\n",
        "    self.train_dataset = CustomDataset(raw_train_dataset, self.train_transform)\n",
        "    self.val_dataset = CustomDataset(raw_val_dataset, self.val_test_transform)\n",
        "    self.test_dataset = CustomDataset(raw_test_dataset, self.val_test_transform)\n",
        "\n",
        "  def prepare_dataloaders(self):\n",
        "    self.train_dataloader = DataLoader(self.train_dataset, batch_size=128, shuffle=True, pin_memory=True, drop_last=True)\n",
        "    self.val_dataloader = DataLoader(self.val_dataset, batch_size=128, shuffle=False, pin_memory=True, drop_last=True)\n",
        "    self.test_dataloader = DataLoader(self.test_dataset, batch_size=64, shuffle=False, pin_memory=True, drop_last=True)\n",
        "\n",
        "  def get_class_weights(self):\n",
        "    labels = [self.train_dataset[i][1] for i in range(len(self.train_dataset))]\n",
        "    class_counts = Counter(labels)\n",
        "    total = sum(class_counts.values())\n",
        "    weights = [total / class_counts[i] for i in range(len(class_counts))]\n",
        "    return torch.FloatTensor(weights).to(self.device)\n",
        "\n",
        "  def init_model(self, model):\n",
        "    self.model = model.to(self.device)\n",
        "\n",
        "  def train_model(\n",
        "      self,\n",
        "      weights_save_path,\n",
        "      matrics_save_path,\n",
        "      epochs = 10,\n",
        "      lr = 0.0001,\n",
        "      criterion = None,\n",
        "      optimizer = None,\n",
        "      scheduler = None,\n",
        "      ):\n",
        "\n",
        "    if criterion is None:\n",
        "      weights = self.get_class_weights()\n",
        "      criterion = nn.CrossEntropyLoss(weight=weights)\n",
        "    if optimizer is None:\n",
        "      optimizer = optim.Adam(self.model.classifier.parameters(), lr=lr)\n",
        "    if scheduler is None:\n",
        "      scheduler = torch.optim.lr_scheduler.ReduceLROnPlateau(\n",
        "          optimizer,\n",
        "          mode='max',\n",
        "          factor=0.5,\n",
        "          patience=2,\n",
        "          verbose=True)\n",
        "\n",
        "    train_losses = []\n",
        "    train_accuracies = []\n",
        "    val_accuracies = []\n",
        "\n",
        "    # keep track of weights of highest val acc\n",
        "    best_val_acc = 0.0\n",
        "    best_model_wts = None\n",
        "\n",
        "    for epoch in range(epochs):\n",
        "      # Training\n",
        "      self.model.train()\n",
        "      running_loss = 0.0\n",
        "      correct = 0\n",
        "      for images, labels in self.train_dataloader:\n",
        "        images, labels = images.to(self.device), labels.to(self.device)\n",
        "\n",
        "        optimizer.zero_grad()\n",
        "        outputs = self.model(images)\n",
        "        loss = criterion(outputs, labels)\n",
        "        loss.backward()\n",
        "        optimizer.step()\n",
        "\n",
        "        running_loss += loss.item()\n",
        "        _, preds = torch.max(outputs, 1)\n",
        "        correct += (preds == labels).sum().item()\n",
        "\n",
        "      avg_loss = running_loss / len(self.train_dataloader)\n",
        "      accuracy = correct / len(self.train_dataset)\n",
        "\n",
        "      train_losses.append(avg_loss)\n",
        "      train_accuracies.append(accuracy)\n",
        "\n",
        "      print(f\"Epoch {epoch+1}, Avg Loss: {avg_loss:.4f}, Train Accuracy: {accuracy:.4f}\")\n",
        "\n",
        "      # Validation\n",
        "      self.model.eval()\n",
        "      correct = 0\n",
        "      with torch.no_grad():\n",
        "          for images, labels in self.val_dataloader:\n",
        "              images, labels = images.to(self.device), labels.to(self.device)\n",
        "              outputs = self.model(images)\n",
        "              _, preds = torch.max(outputs, 1)\n",
        "              correct += (preds == labels).sum().item()\n",
        "\n",
        "      val_acc = correct / len(self.val_dataset)\n",
        "      val_accuracies.append(val_acc)\n",
        "\n",
        "      print(f\"Validation Accuracy: {val_acc:.4f}\")\n",
        "\n",
        "      if val_acc > best_val_acc:\n",
        "        best_val_acc = val_acc\n",
        "        best_model_wts = model.state_dict()\n",
        "\n",
        "    self.train_losses = train_losses\n",
        "    self.train_accuracies = train_accuracies\n",
        "    self.val_accuracies = val_accuracies\n",
        "\n",
        "    torch.save(best_model_wts, weights_save_path)\n",
        "    print(\"Best model saved with validation accuracy:\", best_val_acc)\n",
        "\n",
        "    self.save_metrics(epochs,matrics_save_path)\n",
        "\n",
        "  def save_metrics(self, epochs, matrics_save_path):\n",
        "    # Save the metrics as a CSV file\n",
        "    metrics_df = pd.DataFrame({\n",
        "        'Epoch': range(1, epochs + 1),\n",
        "        'Train Loss': self.train_losses,\n",
        "        'Train Accuracy': self.train_accuracies,\n",
        "        'Validation Accuracy': self.val_accuracies\n",
        "    })\n",
        "\n",
        "    # Save the DataFrame to a CSV file\n",
        "    metrics_df.to_csv(matrics_save_path, index=False)\n",
        "\n",
        "    print(\"Training metrics saved.\")"
      ]
    },
    {
      "cell_type": "markdown",
      "metadata": {
        "id": "kOjvmEMao2Ck"
      },
      "source": [
        "### Improved Resnet50"
      ]
    },
    {
      "cell_type": "code",
      "execution_count": null,
      "metadata": {
        "id": "uRHZnRCxo5Bd"
      },
      "outputs": [],
      "source": [
        "from torchvision.models import ResNet50_Weights"
      ]
    },
    {
      "cell_type": "code",
      "execution_count": null,
      "metadata": {
        "id": "0hAORm7KYZcK"
      },
      "outputs": [],
      "source": [
        "train_transform = transforms.Compose([\n",
        "    transforms.Resize(256),\n",
        "    transforms.RandomResizedCrop(224),\n",
        "    transforms.RandomHorizontalFlip(),\n",
        "    transforms.RandomRotation(15),\n",
        "    transforms.ColorJitter(brightness=0.2, contrast=0.2, saturation=0.2),\n",
        "    transforms.ToTensor(),\n",
        "    transforms.Normalize((0.485, 0.456, 0.406),(0.229, 0.224, 0.225)),\n",
        "])"
      ]
    },
    {
      "cell_type": "code",
      "execution_count": null,
      "metadata": {
        "id": "6YFH4ww-Ya5p"
      },
      "outputs": [],
      "source": [
        "val_test_transform = transforms.Compose([\n",
        "    transforms.Resize(232),\n",
        "    transforms.CenterCrop(224),\n",
        "    transforms.ToTensor(),\n",
        "    transforms.Normalize((0.485, 0.456, 0.406),(0.229, 0.224, 0.225)),\n",
        "])"
      ]
    },
    {
      "cell_type": "code",
      "execution_count": null,
      "metadata": {
        "colab": {
          "base_uri": "https://localhost:8080/"
        },
        "id": "2INn6fN5cnON",
        "outputId": "4552c478-5488-4f1e-972d-d0cd080990d4"
      },
      "outputs": [
        {
          "name": "stdout",
          "output_type": "stream",
          "text": [
            "Loading dataset...\n",
            "\n",
            "Total images: 1838\n",
            "Number of classes: 5\n",
            "Class names: ['Adenocarcinoma', 'High-grade IN', 'Low-grade IN', 'Normal', 'Polyp']\n",
            "Class-to-index mapping: {'Adenocarcinoma': 0, 'High-grade IN': 1, 'Low-grade IN': 2, 'Normal': 3, 'Polyp': 4}\n",
            "\n",
            "Initialized.\n"
          ]
        }
      ],
      "source": [
        "tci = TumorClassificationImproved(data_path, train_transform, val_test_transform)\n",
        "tci.split_dataset()\n",
        "tci.prepare_dataloaders()"
      ]
    },
    {
      "cell_type": "code",
      "execution_count": null,
      "metadata": {
        "id": "3Lk5Vio1cr5n"
      },
      "outputs": [],
      "source": [
        "model = models.resnet50(weights=models.ResNet50_Weights.IMAGENET1K_V2)"
      ]
    },
    {
      "cell_type": "code",
      "execution_count": null,
      "metadata": {
        "id": "mQiCtB64otcr"
      },
      "outputs": [],
      "source": [
        "class CustomClassifier(nn.Module):\n",
        "  def __init__(self, input_features=2048, num_classes=5):\n",
        "    super(CustomClassifier, self).__init__()\n",
        "    self.classifier = nn.Sequential(\n",
        "      nn.Linear(input_features, 512),\n",
        "      nn.ReLU(),\n",
        "      nn.Dropout(0.5),\n",
        "      nn.Linear(512, 128),\n",
        "      nn.ReLU(),\n",
        "      nn.Dropout(0.5),\n",
        "      nn.Linear(128, num_classes)\n",
        "    )\n",
        "\n",
        "  def forward(self, x):\n",
        "    return self.classifier(x)"
      ]
    },
    {
      "cell_type": "code",
      "execution_count": null,
      "metadata": {
        "id": "wjThf3vYdQ90"
      },
      "outputs": [],
      "source": [
        "for param in model.parameters():\n",
        "    param.requires_grad = False\n",
        "for param in model.fc.parameters():\n",
        "    param.requires_grad = True\n",
        "model.fc = CustomClassifier(2048, 5)\n",
        "tci.init_model(model)"
      ]
    },
    {
      "cell_type": "code",
      "execution_count": null,
      "metadata": {
        "colab": {
          "base_uri": "https://localhost:8080/"
        },
        "collapsed": true,
        "id": "2FY3coDjhANC",
        "outputId": "e6d205ad-2b3b-490a-b3e6-472ff3fe346a"
      },
      "outputs": [
        {
          "name": "stdout",
          "output_type": "stream",
          "text": [
            "=================================================================\n",
            "Layer (type:depth-idx)                   Param #\n",
            "=================================================================\n",
            "├─Conv2d: 1-1                            (9,408)\n",
            "├─BatchNorm2d: 1-2                       (128)\n",
            "├─ReLU: 1-3                              --\n",
            "├─MaxPool2d: 1-4                         --\n",
            "├─Sequential: 1-5                        --\n",
            "|    └─Bottleneck: 2-1                   --\n",
            "|    |    └─Conv2d: 3-1                  (4,096)\n",
            "|    |    └─BatchNorm2d: 3-2             (128)\n",
            "|    |    └─Conv2d: 3-3                  (36,864)\n",
            "|    |    └─BatchNorm2d: 3-4             (128)\n",
            "|    |    └─Conv2d: 3-5                  (16,384)\n",
            "|    |    └─BatchNorm2d: 3-6             (512)\n",
            "|    |    └─ReLU: 3-7                    --\n",
            "|    |    └─Sequential: 3-8              (16,896)\n",
            "|    └─Bottleneck: 2-2                   --\n",
            "|    |    └─Conv2d: 3-9                  (16,384)\n",
            "|    |    └─BatchNorm2d: 3-10            (128)\n",
            "|    |    └─Conv2d: 3-11                 (36,864)\n",
            "|    |    └─BatchNorm2d: 3-12            (128)\n",
            "|    |    └─Conv2d: 3-13                 (16,384)\n",
            "|    |    └─BatchNorm2d: 3-14            (512)\n",
            "|    |    └─ReLU: 3-15                   --\n",
            "|    └─Bottleneck: 2-3                   --\n",
            "|    |    └─Conv2d: 3-16                 (16,384)\n",
            "|    |    └─BatchNorm2d: 3-17            (128)\n",
            "|    |    └─Conv2d: 3-18                 (36,864)\n",
            "|    |    └─BatchNorm2d: 3-19            (128)\n",
            "|    |    └─Conv2d: 3-20                 (16,384)\n",
            "|    |    └─BatchNorm2d: 3-21            (512)\n",
            "|    |    └─ReLU: 3-22                   --\n",
            "├─Sequential: 1-6                        --\n",
            "|    └─Bottleneck: 2-4                   --\n",
            "|    |    └─Conv2d: 3-23                 (32,768)\n",
            "|    |    └─BatchNorm2d: 3-24            (256)\n",
            "|    |    └─Conv2d: 3-25                 (147,456)\n",
            "|    |    └─BatchNorm2d: 3-26            (256)\n",
            "|    |    └─Conv2d: 3-27                 (65,536)\n",
            "|    |    └─BatchNorm2d: 3-28            (1,024)\n",
            "|    |    └─ReLU: 3-29                   --\n",
            "|    |    └─Sequential: 3-30             (132,096)\n",
            "|    └─Bottleneck: 2-5                   --\n",
            "|    |    └─Conv2d: 3-31                 (65,536)\n",
            "|    |    └─BatchNorm2d: 3-32            (256)\n",
            "|    |    └─Conv2d: 3-33                 (147,456)\n",
            "|    |    └─BatchNorm2d: 3-34            (256)\n",
            "|    |    └─Conv2d: 3-35                 (65,536)\n",
            "|    |    └─BatchNorm2d: 3-36            (1,024)\n",
            "|    |    └─ReLU: 3-37                   --\n",
            "|    └─Bottleneck: 2-6                   --\n",
            "|    |    └─Conv2d: 3-38                 (65,536)\n",
            "|    |    └─BatchNorm2d: 3-39            (256)\n",
            "|    |    └─Conv2d: 3-40                 (147,456)\n",
            "|    |    └─BatchNorm2d: 3-41            (256)\n",
            "|    |    └─Conv2d: 3-42                 (65,536)\n",
            "|    |    └─BatchNorm2d: 3-43            (1,024)\n",
            "|    |    └─ReLU: 3-44                   --\n",
            "|    └─Bottleneck: 2-7                   --\n",
            "|    |    └─Conv2d: 3-45                 (65,536)\n",
            "|    |    └─BatchNorm2d: 3-46            (256)\n",
            "|    |    └─Conv2d: 3-47                 (147,456)\n",
            "|    |    └─BatchNorm2d: 3-48            (256)\n",
            "|    |    └─Conv2d: 3-49                 (65,536)\n",
            "|    |    └─BatchNorm2d: 3-50            (1,024)\n",
            "|    |    └─ReLU: 3-51                   --\n",
            "├─Sequential: 1-7                        --\n",
            "|    └─Bottleneck: 2-8                   --\n",
            "|    |    └─Conv2d: 3-52                 (131,072)\n",
            "|    |    └─BatchNorm2d: 3-53            (512)\n",
            "|    |    └─Conv2d: 3-54                 (589,824)\n",
            "|    |    └─BatchNorm2d: 3-55            (512)\n",
            "|    |    └─Conv2d: 3-56                 (262,144)\n",
            "|    |    └─BatchNorm2d: 3-57            (2,048)\n",
            "|    |    └─ReLU: 3-58                   --\n",
            "|    |    └─Sequential: 3-59             (526,336)\n",
            "|    └─Bottleneck: 2-9                   --\n",
            "|    |    └─Conv2d: 3-60                 (262,144)\n",
            "|    |    └─BatchNorm2d: 3-61            (512)\n",
            "|    |    └─Conv2d: 3-62                 (589,824)\n",
            "|    |    └─BatchNorm2d: 3-63            (512)\n",
            "|    |    └─Conv2d: 3-64                 (262,144)\n",
            "|    |    └─BatchNorm2d: 3-65            (2,048)\n",
            "|    |    └─ReLU: 3-66                   --\n",
            "|    └─Bottleneck: 2-10                  --\n",
            "|    |    └─Conv2d: 3-67                 (262,144)\n",
            "|    |    └─BatchNorm2d: 3-68            (512)\n",
            "|    |    └─Conv2d: 3-69                 (589,824)\n",
            "|    |    └─BatchNorm2d: 3-70            (512)\n",
            "|    |    └─Conv2d: 3-71                 (262,144)\n",
            "|    |    └─BatchNorm2d: 3-72            (2,048)\n",
            "|    |    └─ReLU: 3-73                   --\n",
            "|    └─Bottleneck: 2-11                  --\n",
            "|    |    └─Conv2d: 3-74                 (262,144)\n",
            "|    |    └─BatchNorm2d: 3-75            (512)\n",
            "|    |    └─Conv2d: 3-76                 (589,824)\n",
            "|    |    └─BatchNorm2d: 3-77            (512)\n",
            "|    |    └─Conv2d: 3-78                 (262,144)\n",
            "|    |    └─BatchNorm2d: 3-79            (2,048)\n",
            "|    |    └─ReLU: 3-80                   --\n",
            "|    └─Bottleneck: 2-12                  --\n",
            "|    |    └─Conv2d: 3-81                 (262,144)\n",
            "|    |    └─BatchNorm2d: 3-82            (512)\n",
            "|    |    └─Conv2d: 3-83                 (589,824)\n",
            "|    |    └─BatchNorm2d: 3-84            (512)\n",
            "|    |    └─Conv2d: 3-85                 (262,144)\n",
            "|    |    └─BatchNorm2d: 3-86            (2,048)\n",
            "|    |    └─ReLU: 3-87                   --\n",
            "|    └─Bottleneck: 2-13                  --\n",
            "|    |    └─Conv2d: 3-88                 (262,144)\n",
            "|    |    └─BatchNorm2d: 3-89            (512)\n",
            "|    |    └─Conv2d: 3-90                 (589,824)\n",
            "|    |    └─BatchNorm2d: 3-91            (512)\n",
            "|    |    └─Conv2d: 3-92                 (262,144)\n",
            "|    |    └─BatchNorm2d: 3-93            (2,048)\n",
            "|    |    └─ReLU: 3-94                   --\n",
            "├─Sequential: 1-8                        --\n",
            "|    └─Bottleneck: 2-14                  --\n",
            "|    |    └─Conv2d: 3-95                 (524,288)\n",
            "|    |    └─BatchNorm2d: 3-96            (1,024)\n",
            "|    |    └─Conv2d: 3-97                 (2,359,296)\n",
            "|    |    └─BatchNorm2d: 3-98            (1,024)\n",
            "|    |    └─Conv2d: 3-99                 (1,048,576)\n",
            "|    |    └─BatchNorm2d: 3-100           (4,096)\n",
            "|    |    └─ReLU: 3-101                  --\n",
            "|    |    └─Sequential: 3-102            (2,101,248)\n",
            "|    └─Bottleneck: 2-15                  --\n",
            "|    |    └─Conv2d: 3-103                (1,048,576)\n",
            "|    |    └─BatchNorm2d: 3-104           (1,024)\n",
            "|    |    └─Conv2d: 3-105                (2,359,296)\n",
            "|    |    └─BatchNorm2d: 3-106           (1,024)\n",
            "|    |    └─Conv2d: 3-107                (1,048,576)\n",
            "|    |    └─BatchNorm2d: 3-108           (4,096)\n",
            "|    |    └─ReLU: 3-109                  --\n",
            "|    └─Bottleneck: 2-16                  --\n",
            "|    |    └─Conv2d: 3-110                (1,048,576)\n",
            "|    |    └─BatchNorm2d: 3-111           (1,024)\n",
            "|    |    └─Conv2d: 3-112                (2,359,296)\n",
            "|    |    └─BatchNorm2d: 3-113           (1,024)\n",
            "|    |    └─Conv2d: 3-114                (1,048,576)\n",
            "|    |    └─BatchNorm2d: 3-115           (4,096)\n",
            "|    |    └─ReLU: 3-116                  --\n",
            "├─AdaptiveAvgPool2d: 1-9                 --\n",
            "├─CustomClassifier: 1-10                 --\n",
            "|    └─Sequential: 2-17                  --\n",
            "|    |    └─Linear: 3-117                1,049,088\n",
            "|    |    └─ReLU: 3-118                  --\n",
            "|    |    └─Dropout: 3-119               --\n",
            "|    |    └─Linear: 3-120                65,664\n",
            "|    |    └─ReLU: 3-121                  --\n",
            "|    |    └─Dropout: 3-122               --\n",
            "|    |    └─Linear: 3-123                645\n",
            "=================================================================\n",
            "Total params: 24,623,429\n",
            "Trainable params: 1,115,397\n",
            "Non-trainable params: 23,508,032\n",
            "=================================================================\n"
          ]
        },
        {
          "data": {
            "text/plain": [
              "=================================================================\n",
              "Layer (type:depth-idx)                   Param #\n",
              "=================================================================\n",
              "├─Conv2d: 1-1                            (9,408)\n",
              "├─BatchNorm2d: 1-2                       (128)\n",
              "├─ReLU: 1-3                              --\n",
              "├─MaxPool2d: 1-4                         --\n",
              "├─Sequential: 1-5                        --\n",
              "|    └─Bottleneck: 2-1                   --\n",
              "|    |    └─Conv2d: 3-1                  (4,096)\n",
              "|    |    └─BatchNorm2d: 3-2             (128)\n",
              "|    |    └─Conv2d: 3-3                  (36,864)\n",
              "|    |    └─BatchNorm2d: 3-4             (128)\n",
              "|    |    └─Conv2d: 3-5                  (16,384)\n",
              "|    |    └─BatchNorm2d: 3-6             (512)\n",
              "|    |    └─ReLU: 3-7                    --\n",
              "|    |    └─Sequential: 3-8              (16,896)\n",
              "|    └─Bottleneck: 2-2                   --\n",
              "|    |    └─Conv2d: 3-9                  (16,384)\n",
              "|    |    └─BatchNorm2d: 3-10            (128)\n",
              "|    |    └─Conv2d: 3-11                 (36,864)\n",
              "|    |    └─BatchNorm2d: 3-12            (128)\n",
              "|    |    └─Conv2d: 3-13                 (16,384)\n",
              "|    |    └─BatchNorm2d: 3-14            (512)\n",
              "|    |    └─ReLU: 3-15                   --\n",
              "|    └─Bottleneck: 2-3                   --\n",
              "|    |    └─Conv2d: 3-16                 (16,384)\n",
              "|    |    └─BatchNorm2d: 3-17            (128)\n",
              "|    |    └─Conv2d: 3-18                 (36,864)\n",
              "|    |    └─BatchNorm2d: 3-19            (128)\n",
              "|    |    └─Conv2d: 3-20                 (16,384)\n",
              "|    |    └─BatchNorm2d: 3-21            (512)\n",
              "|    |    └─ReLU: 3-22                   --\n",
              "├─Sequential: 1-6                        --\n",
              "|    └─Bottleneck: 2-4                   --\n",
              "|    |    └─Conv2d: 3-23                 (32,768)\n",
              "|    |    └─BatchNorm2d: 3-24            (256)\n",
              "|    |    └─Conv2d: 3-25                 (147,456)\n",
              "|    |    └─BatchNorm2d: 3-26            (256)\n",
              "|    |    └─Conv2d: 3-27                 (65,536)\n",
              "|    |    └─BatchNorm2d: 3-28            (1,024)\n",
              "|    |    └─ReLU: 3-29                   --\n",
              "|    |    └─Sequential: 3-30             (132,096)\n",
              "|    └─Bottleneck: 2-5                   --\n",
              "|    |    └─Conv2d: 3-31                 (65,536)\n",
              "|    |    └─BatchNorm2d: 3-32            (256)\n",
              "|    |    └─Conv2d: 3-33                 (147,456)\n",
              "|    |    └─BatchNorm2d: 3-34            (256)\n",
              "|    |    └─Conv2d: 3-35                 (65,536)\n",
              "|    |    └─BatchNorm2d: 3-36            (1,024)\n",
              "|    |    └─ReLU: 3-37                   --\n",
              "|    └─Bottleneck: 2-6                   --\n",
              "|    |    └─Conv2d: 3-38                 (65,536)\n",
              "|    |    └─BatchNorm2d: 3-39            (256)\n",
              "|    |    └─Conv2d: 3-40                 (147,456)\n",
              "|    |    └─BatchNorm2d: 3-41            (256)\n",
              "|    |    └─Conv2d: 3-42                 (65,536)\n",
              "|    |    └─BatchNorm2d: 3-43            (1,024)\n",
              "|    |    └─ReLU: 3-44                   --\n",
              "|    └─Bottleneck: 2-7                   --\n",
              "|    |    └─Conv2d: 3-45                 (65,536)\n",
              "|    |    └─BatchNorm2d: 3-46            (256)\n",
              "|    |    └─Conv2d: 3-47                 (147,456)\n",
              "|    |    └─BatchNorm2d: 3-48            (256)\n",
              "|    |    └─Conv2d: 3-49                 (65,536)\n",
              "|    |    └─BatchNorm2d: 3-50            (1,024)\n",
              "|    |    └─ReLU: 3-51                   --\n",
              "├─Sequential: 1-7                        --\n",
              "|    └─Bottleneck: 2-8                   --\n",
              "|    |    └─Conv2d: 3-52                 (131,072)\n",
              "|    |    └─BatchNorm2d: 3-53            (512)\n",
              "|    |    └─Conv2d: 3-54                 (589,824)\n",
              "|    |    └─BatchNorm2d: 3-55            (512)\n",
              "|    |    └─Conv2d: 3-56                 (262,144)\n",
              "|    |    └─BatchNorm2d: 3-57            (2,048)\n",
              "|    |    └─ReLU: 3-58                   --\n",
              "|    |    └─Sequential: 3-59             (526,336)\n",
              "|    └─Bottleneck: 2-9                   --\n",
              "|    |    └─Conv2d: 3-60                 (262,144)\n",
              "|    |    └─BatchNorm2d: 3-61            (512)\n",
              "|    |    └─Conv2d: 3-62                 (589,824)\n",
              "|    |    └─BatchNorm2d: 3-63            (512)\n",
              "|    |    └─Conv2d: 3-64                 (262,144)\n",
              "|    |    └─BatchNorm2d: 3-65            (2,048)\n",
              "|    |    └─ReLU: 3-66                   --\n",
              "|    └─Bottleneck: 2-10                  --\n",
              "|    |    └─Conv2d: 3-67                 (262,144)\n",
              "|    |    └─BatchNorm2d: 3-68            (512)\n",
              "|    |    └─Conv2d: 3-69                 (589,824)\n",
              "|    |    └─BatchNorm2d: 3-70            (512)\n",
              "|    |    └─Conv2d: 3-71                 (262,144)\n",
              "|    |    └─BatchNorm2d: 3-72            (2,048)\n",
              "|    |    └─ReLU: 3-73                   --\n",
              "|    └─Bottleneck: 2-11                  --\n",
              "|    |    └─Conv2d: 3-74                 (262,144)\n",
              "|    |    └─BatchNorm2d: 3-75            (512)\n",
              "|    |    └─Conv2d: 3-76                 (589,824)\n",
              "|    |    └─BatchNorm2d: 3-77            (512)\n",
              "|    |    └─Conv2d: 3-78                 (262,144)\n",
              "|    |    └─BatchNorm2d: 3-79            (2,048)\n",
              "|    |    └─ReLU: 3-80                   --\n",
              "|    └─Bottleneck: 2-12                  --\n",
              "|    |    └─Conv2d: 3-81                 (262,144)\n",
              "|    |    └─BatchNorm2d: 3-82            (512)\n",
              "|    |    └─Conv2d: 3-83                 (589,824)\n",
              "|    |    └─BatchNorm2d: 3-84            (512)\n",
              "|    |    └─Conv2d: 3-85                 (262,144)\n",
              "|    |    └─BatchNorm2d: 3-86            (2,048)\n",
              "|    |    └─ReLU: 3-87                   --\n",
              "|    └─Bottleneck: 2-13                  --\n",
              "|    |    └─Conv2d: 3-88                 (262,144)\n",
              "|    |    └─BatchNorm2d: 3-89            (512)\n",
              "|    |    └─Conv2d: 3-90                 (589,824)\n",
              "|    |    └─BatchNorm2d: 3-91            (512)\n",
              "|    |    └─Conv2d: 3-92                 (262,144)\n",
              "|    |    └─BatchNorm2d: 3-93            (2,048)\n",
              "|    |    └─ReLU: 3-94                   --\n",
              "├─Sequential: 1-8                        --\n",
              "|    └─Bottleneck: 2-14                  --\n",
              "|    |    └─Conv2d: 3-95                 (524,288)\n",
              "|    |    └─BatchNorm2d: 3-96            (1,024)\n",
              "|    |    └─Conv2d: 3-97                 (2,359,296)\n",
              "|    |    └─BatchNorm2d: 3-98            (1,024)\n",
              "|    |    └─Conv2d: 3-99                 (1,048,576)\n",
              "|    |    └─BatchNorm2d: 3-100           (4,096)\n",
              "|    |    └─ReLU: 3-101                  --\n",
              "|    |    └─Sequential: 3-102            (2,101,248)\n",
              "|    └─Bottleneck: 2-15                  --\n",
              "|    |    └─Conv2d: 3-103                (1,048,576)\n",
              "|    |    └─BatchNorm2d: 3-104           (1,024)\n",
              "|    |    └─Conv2d: 3-105                (2,359,296)\n",
              "|    |    └─BatchNorm2d: 3-106           (1,024)\n",
              "|    |    └─Conv2d: 3-107                (1,048,576)\n",
              "|    |    └─BatchNorm2d: 3-108           (4,096)\n",
              "|    |    └─ReLU: 3-109                  --\n",
              "|    └─Bottleneck: 2-16                  --\n",
              "|    |    └─Conv2d: 3-110                (1,048,576)\n",
              "|    |    └─BatchNorm2d: 3-111           (1,024)\n",
              "|    |    └─Conv2d: 3-112                (2,359,296)\n",
              "|    |    └─BatchNorm2d: 3-113           (1,024)\n",
              "|    |    └─Conv2d: 3-114                (1,048,576)\n",
              "|    |    └─BatchNorm2d: 3-115           (4,096)\n",
              "|    |    └─ReLU: 3-116                  --\n",
              "├─AdaptiveAvgPool2d: 1-9                 --\n",
              "├─CustomClassifier: 1-10                 --\n",
              "|    └─Sequential: 2-17                  --\n",
              "|    |    └─Linear: 3-117                1,049,088\n",
              "|    |    └─ReLU: 3-118                  --\n",
              "|    |    └─Dropout: 3-119               --\n",
              "|    |    └─Linear: 3-120                65,664\n",
              "|    |    └─ReLU: 3-121                  --\n",
              "|    |    └─Dropout: 3-122               --\n",
              "|    |    └─Linear: 3-123                645\n",
              "=================================================================\n",
              "Total params: 24,623,429\n",
              "Trainable params: 1,115,397\n",
              "Non-trainable params: 23,508,032\n",
              "================================================================="
            ]
          },
          "execution_count": 26,
          "metadata": {},
          "output_type": "execute_result"
        }
      ],
      "source": [
        "summary(tci.model, input_size=(3, 224, 224),device=tci.device.type)"
      ]
    },
    {
      "cell_type": "code",
      "execution_count": null,
      "metadata": {
        "id": "i1MLMFGFkJAL"
      },
      "outputs": [],
      "source": [
        "optimizer = optim.Adam(model.fc.parameters(), lr=0.001)\n",
        "scheduler = torch.optim.lr_scheduler.ReduceLROnPlateau(\n",
        "    optimizer,\n",
        "    mode='max',\n",
        "    factor=0.5,\n",
        "    patience=2,\n",
        "    verbose=True\n",
        ")"
      ]
    },
    {
      "cell_type": "code",
      "execution_count": null,
      "metadata": {
        "colab": {
          "base_uri": "https://localhost:8080/"
        },
        "collapsed": true,
        "id": "MFR_qp4YdaH0",
        "outputId": "189bb789-0277-459e-d164-becedc768bba"
      },
      "outputs": [
        {
          "name": "stdout",
          "output_type": "stream",
          "text": [
            "Epoch 1, Avg Loss: 0.2962, Train Accuracy: 0.8756\n",
            "Validation Accuracy: 0.8400\n",
            "Epoch 2, Avg Loss: 0.2561, Train Accuracy: 0.8904\n",
            "Validation Accuracy: 0.8545\n",
            "Epoch 3, Avg Loss: 0.2954, Train Accuracy: 0.8802\n",
            "Validation Accuracy: 0.8327\n",
            "Epoch 4, Avg Loss: 0.2898, Train Accuracy: 0.8904\n",
            "Validation Accuracy: 0.8400\n",
            "Epoch 5, Avg Loss: 0.3076, Train Accuracy: 0.8779\n",
            "Validation Accuracy: 0.8291\n",
            "Epoch 6, Avg Loss: 0.2730, Train Accuracy: 0.8872\n",
            "Validation Accuracy: 0.8400\n",
            "Epoch 7, Avg Loss: 0.3077, Train Accuracy: 0.8865\n",
            "Validation Accuracy: 0.8436\n",
            "Epoch 8, Avg Loss: 0.2935, Train Accuracy: 0.8694\n",
            "Validation Accuracy: 0.8364\n",
            "Epoch 9, Avg Loss: 0.3039, Train Accuracy: 0.8764\n",
            "Validation Accuracy: 0.8364\n",
            "Epoch 10, Avg Loss: 0.3457, Train Accuracy: 0.8569\n",
            "Validation Accuracy: 0.8364\n",
            "Epoch 11, Avg Loss: 0.3043, Train Accuracy: 0.8748\n",
            "Validation Accuracy: 0.8364\n",
            "Epoch 12, Avg Loss: 0.2890, Train Accuracy: 0.8795\n",
            "Validation Accuracy: 0.8400\n",
            "Epoch 13, Avg Loss: 0.3240, Train Accuracy: 0.8733\n",
            "Validation Accuracy: 0.8364\n",
            "Epoch 14, Avg Loss: 0.2781, Train Accuracy: 0.8740\n",
            "Validation Accuracy: 0.8364\n",
            "Epoch 15, Avg Loss: 0.2689, Train Accuracy: 0.8880\n",
            "Validation Accuracy: 0.8400\n",
            "Epoch 16, Avg Loss: 0.3173, Train Accuracy: 0.8787\n",
            "Validation Accuracy: 0.8327\n",
            "Epoch 17, Avg Loss: 0.3299, Train Accuracy: 0.8733\n",
            "Validation Accuracy: 0.8436\n",
            "Epoch 18, Avg Loss: 0.2704, Train Accuracy: 0.8849\n",
            "Validation Accuracy: 0.8400\n",
            "Epoch 19, Avg Loss: 0.2782, Train Accuracy: 0.8880\n",
            "Validation Accuracy: 0.8400\n",
            "Epoch 20, Avg Loss: 0.3134, Train Accuracy: 0.8725\n",
            "Validation Accuracy: 0.8400\n",
            "Epoch 21, Avg Loss: 0.3078, Train Accuracy: 0.8717\n",
            "Validation Accuracy: 0.8364\n",
            "Epoch 22, Avg Loss: 0.3100, Train Accuracy: 0.8725\n",
            "Validation Accuracy: 0.8364\n",
            "Epoch 23, Avg Loss: 0.2640, Train Accuracy: 0.8802\n",
            "Validation Accuracy: 0.8436\n",
            "Epoch 24, Avg Loss: 0.3083, Train Accuracy: 0.8841\n",
            "Validation Accuracy: 0.8473\n",
            "Epoch 25, Avg Loss: 0.3164, Train Accuracy: 0.8561\n",
            "Validation Accuracy: 0.8436\n",
            "Epoch 26, Avg Loss: 0.2642, Train Accuracy: 0.8896\n",
            "Validation Accuracy: 0.8436\n",
            "Epoch 27, Avg Loss: 0.3554, Train Accuracy: 0.8569\n",
            "Validation Accuracy: 0.8400\n",
            "Epoch 28, Avg Loss: 0.3232, Train Accuracy: 0.8818\n",
            "Validation Accuracy: 0.8036\n",
            "Epoch 29, Avg Loss: 0.3034, Train Accuracy: 0.8834\n",
            "Validation Accuracy: 0.8436\n",
            "Epoch 30, Avg Loss: 0.2598, Train Accuracy: 0.8795\n",
            "Validation Accuracy: 0.8436\n",
            "Epoch 31, Avg Loss: 0.2827, Train Accuracy: 0.8888\n",
            "Validation Accuracy: 0.8364\n",
            "Epoch 32, Avg Loss: 0.3025, Train Accuracy: 0.8841\n",
            "Validation Accuracy: 0.8400\n",
            "Epoch 33, Avg Loss: 0.2876, Train Accuracy: 0.8647\n",
            "Validation Accuracy: 0.8182\n",
            "Epoch 34, Avg Loss: 0.3234, Train Accuracy: 0.8857\n",
            "Validation Accuracy: 0.8255\n",
            "Epoch 35, Avg Loss: 0.2600, Train Accuracy: 0.8608\n",
            "Validation Accuracy: 0.8327\n",
            "Epoch 36, Avg Loss: 0.2803, Train Accuracy: 0.8904\n",
            "Validation Accuracy: 0.8400\n",
            "Epoch 37, Avg Loss: 0.3335, Train Accuracy: 0.8748\n",
            "Validation Accuracy: 0.8255\n",
            "Epoch 38, Avg Loss: 0.3764, Train Accuracy: 0.8593\n",
            "Validation Accuracy: 0.8327\n",
            "Epoch 39, Avg Loss: 0.3092, Train Accuracy: 0.8670\n",
            "Validation Accuracy: 0.8473\n",
            "Epoch 40, Avg Loss: 0.2512, Train Accuracy: 0.8942\n",
            "Validation Accuracy: 0.8582\n",
            "Epoch 41, Avg Loss: 0.2798, Train Accuracy: 0.8927\n",
            "Validation Accuracy: 0.8509\n",
            "Epoch 42, Avg Loss: 0.2666, Train Accuracy: 0.8779\n",
            "Validation Accuracy: 0.8582\n",
            "Epoch 43, Avg Loss: 0.2762, Train Accuracy: 0.8911\n",
            "Validation Accuracy: 0.8436\n",
            "Epoch 44, Avg Loss: 0.2955, Train Accuracy: 0.8787\n",
            "Validation Accuracy: 0.8509\n",
            "Epoch 45, Avg Loss: 0.3123, Train Accuracy: 0.8748\n",
            "Validation Accuracy: 0.8400\n",
            "Epoch 46, Avg Loss: 0.3397, Train Accuracy: 0.8631\n",
            "Validation Accuracy: 0.8436\n",
            "Epoch 47, Avg Loss: 0.2720, Train Accuracy: 0.8834\n",
            "Validation Accuracy: 0.8509\n",
            "Epoch 48, Avg Loss: 0.2895, Train Accuracy: 0.8841\n",
            "Validation Accuracy: 0.8400\n",
            "Epoch 49, Avg Loss: 0.2757, Train Accuracy: 0.8911\n",
            "Validation Accuracy: 0.8509\n",
            "Epoch 50, Avg Loss: 0.2662, Train Accuracy: 0.8880\n",
            "Validation Accuracy: 0.8545\n",
            "Best model saved with validation accuracy: 0.8581818181818182\n",
            "Training metrics saved.\n"
          ]
        }
      ],
      "source": [
        "tci.train_model(\n",
        "  './drive/MyDrive/Models/improved_EBHI_mag_200.pth',\n",
        "  './drive/MyDrive/Models/improved_metrics_EBHI_mag_200.csv',\n",
        "  epochs = 50,\n",
        "  lr = 0.001,\n",
        "  criterion = nn.CrossEntropyLoss(weight=tci.get_class_weights()),\n",
        "  optimizer = optimizer,\n",
        "  scheduler = scheduler\n",
        "  )"
      ]
    },
    {
      "cell_type": "markdown",
      "metadata": {
        "id": "9uusN4fNmmNu"
      },
      "source": [
        "### Improved Alexnet"
      ]
    },
    {
      "cell_type": "code",
      "execution_count": null,
      "metadata": {
        "id": "ctyRdqhTodTx"
      },
      "outputs": [],
      "source": [
        "from torchvision.models import AlexNet_Weights"
      ]
    },
    {
      "cell_type": "code",
      "execution_count": null,
      "metadata": {
        "id": "b2wok72GpEY0"
      },
      "outputs": [],
      "source": [
        "train_transform = transforms.Compose([\n",
        "    transforms.Resize(256),\n",
        "    transforms.RandomResizedCrop(224),\n",
        "    transforms.RandomHorizontalFlip(),\n",
        "    transforms.RandomRotation(15),\n",
        "    transforms.ColorJitter(brightness=0.2, contrast=0.2, saturation=0.2),\n",
        "    transforms.ToTensor(),\n",
        "    transforms.Normalize((0.485, 0.456, 0.406),(0.229, 0.224, 0.225)),\n",
        "])"
      ]
    },
    {
      "cell_type": "code",
      "execution_count": null,
      "metadata": {
        "id": "s_H2dgjCpHvw"
      },
      "outputs": [],
      "source": [
        "val_test_transform = transforms.Compose([\n",
        "    transforms.Resize(232),\n",
        "    transforms.CenterCrop(224),\n",
        "    transforms.ToTensor(),\n",
        "    transforms.Normalize((0.485, 0.456, 0.406),(0.229, 0.224, 0.225)),\n",
        "])"
      ]
    },
    {
      "cell_type": "code",
      "execution_count": null,
      "metadata": {
        "colab": {
          "base_uri": "https://localhost:8080/"
        },
        "id": "QQNdIDurpJ78",
        "outputId": "f2b5ddb3-4c7b-4511-a4b7-706eea925b42"
      },
      "outputs": [
        {
          "name": "stdout",
          "output_type": "stream",
          "text": [
            "Loading dataset...\n",
            "\n",
            "Total images: 1838\n",
            "Number of classes: 5\n",
            "Class names: ['Adenocarcinoma', 'High-grade IN', 'Low-grade IN', 'Normal', 'Polyp']\n",
            "Class-to-index mapping: {'Adenocarcinoma': 0, 'High-grade IN': 1, 'Low-grade IN': 2, 'Normal': 3, 'Polyp': 4}\n",
            "\n",
            "Initialized.\n"
          ]
        }
      ],
      "source": [
        "tci = TumorClassificationImproved(data_path, train_transform, val_test_transform)\n",
        "tci.split_dataset()\n",
        "tci.prepare_dataloaders()"
      ]
    },
    {
      "cell_type": "code",
      "execution_count": null,
      "metadata": {
        "colab": {
          "base_uri": "https://localhost:8080/"
        },
        "id": "tuetB4KTmzeF",
        "outputId": "b6f89829-640f-4899-8831-f5677af904e1"
      },
      "outputs": [
        {
          "name": "stderr",
          "output_type": "stream",
          "text": [
            "Downloading: \"https://download.pytorch.org/models/alexnet-owt-7be5be79.pth\" to /root/.cache/torch/hub/checkpoints/alexnet-owt-7be5be79.pth\n",
            "100%|██████████| 233M/233M [00:01<00:00, 221MB/s]\n"
          ]
        }
      ],
      "source": [
        "model = models.alexnet(weights=AlexNet_Weights.IMAGENET1K_V1)"
      ]
    },
    {
      "cell_type": "code",
      "execution_count": null,
      "metadata": {
        "id": "pAFUqD-em1wx"
      },
      "outputs": [],
      "source": [
        "for param in model.features.parameters():\n",
        "  param.requires_grad = False\n",
        "model.classifier[6] = nn.Linear(4096, 5) # adjust final layer for ImageNet\n",
        "tci.init_model(model)"
      ]
    },
    {
      "cell_type": "code",
      "execution_count": null,
      "metadata": {
        "colab": {
          "base_uri": "https://localhost:8080/"
        },
        "collapsed": true,
        "id": "IT2fl_QSpora",
        "outputId": "bcc47738-0d78-4c53-acbb-8737e0da4461"
      },
      "outputs": [
        {
          "name": "stdout",
          "output_type": "stream",
          "text": [
            "=================================================================\n",
            "Layer (type:depth-idx)                   Param #\n",
            "=================================================================\n",
            "├─Sequential: 1-1                        --\n",
            "|    └─Conv2d: 2-1                       (23,296)\n",
            "|    └─ReLU: 2-2                         --\n",
            "|    └─MaxPool2d: 2-3                    --\n",
            "|    └─Conv2d: 2-4                       (307,392)\n",
            "|    └─ReLU: 2-5                         --\n",
            "|    └─MaxPool2d: 2-6                    --\n",
            "|    └─Conv2d: 2-7                       (663,936)\n",
            "|    └─ReLU: 2-8                         --\n",
            "|    └─Conv2d: 2-9                       (884,992)\n",
            "|    └─ReLU: 2-10                        --\n",
            "|    └─Conv2d: 2-11                      (590,080)\n",
            "|    └─ReLU: 2-12                        --\n",
            "|    └─MaxPool2d: 2-13                   --\n",
            "├─AdaptiveAvgPool2d: 1-2                 --\n",
            "├─Sequential: 1-3                        --\n",
            "|    └─Dropout: 2-14                     --\n",
            "|    └─Linear: 2-15                      37,752,832\n",
            "|    └─ReLU: 2-16                        --\n",
            "|    └─Dropout: 2-17                     --\n",
            "|    └─Linear: 2-18                      16,781,312\n",
            "|    └─ReLU: 2-19                        --\n",
            "|    └─Linear: 2-20                      20,485\n",
            "=================================================================\n",
            "Total params: 57,024,325\n",
            "Trainable params: 54,554,629\n",
            "Non-trainable params: 2,469,696\n",
            "=================================================================\n"
          ]
        },
        {
          "data": {
            "text/plain": [
              "=================================================================\n",
              "Layer (type:depth-idx)                   Param #\n",
              "=================================================================\n",
              "├─Sequential: 1-1                        --\n",
              "|    └─Conv2d: 2-1                       (23,296)\n",
              "|    └─ReLU: 2-2                         --\n",
              "|    └─MaxPool2d: 2-3                    --\n",
              "|    └─Conv2d: 2-4                       (307,392)\n",
              "|    └─ReLU: 2-5                         --\n",
              "|    └─MaxPool2d: 2-6                    --\n",
              "|    └─Conv2d: 2-7                       (663,936)\n",
              "|    └─ReLU: 2-8                         --\n",
              "|    └─Conv2d: 2-9                       (884,992)\n",
              "|    └─ReLU: 2-10                        --\n",
              "|    └─Conv2d: 2-11                      (590,080)\n",
              "|    └─ReLU: 2-12                        --\n",
              "|    └─MaxPool2d: 2-13                   --\n",
              "├─AdaptiveAvgPool2d: 1-2                 --\n",
              "├─Sequential: 1-3                        --\n",
              "|    └─Dropout: 2-14                     --\n",
              "|    └─Linear: 2-15                      37,752,832\n",
              "|    └─ReLU: 2-16                        --\n",
              "|    └─Dropout: 2-17                     --\n",
              "|    └─Linear: 2-18                      16,781,312\n",
              "|    └─ReLU: 2-19                        --\n",
              "|    └─Linear: 2-20                      20,485\n",
              "=================================================================\n",
              "Total params: 57,024,325\n",
              "Trainable params: 54,554,629\n",
              "Non-trainable params: 2,469,696\n",
              "================================================================="
            ]
          },
          "execution_count": 28,
          "metadata": {},
          "output_type": "execute_result"
        }
      ],
      "source": [
        "summary(tci.model, input_size=(3, 224, 224),device=tci.device.type)"
      ]
    },
    {
      "cell_type": "code",
      "execution_count": null,
      "metadata": {
        "id": "NRdF-HuSqIi1"
      },
      "outputs": [],
      "source": [
        "optimizer = optim.Adam(model.fc.parameters(), lr=0.0001)\n",
        "scheduler = torch.optim.lr_scheduler.ReduceLROnPlateau(\n",
        "    optimizer,\n",
        "    mode='max',\n",
        "    factor=0.5,\n",
        "    patience=2,\n",
        "    verbose=True\n",
        ")"
      ]
    },
    {
      "cell_type": "markdown",
      "metadata": {
        "id": "F_4rtzS8HlKK"
      },
      "source": [
        "### Improved VGG16"
      ]
    },
    {
      "cell_type": "code",
      "execution_count": null,
      "metadata": {
        "id": "qr2tDz7QHvcw"
      },
      "outputs": [],
      "source": [
        "from torchvision.models import VGG16_Weights"
      ]
    },
    {
      "cell_type": "code",
      "execution_count": null,
      "metadata": {
        "id": "3B8wCgZqHwIb"
      },
      "outputs": [],
      "source": [
        "train_transform = transforms.Compose([\n",
        "    transforms.Resize(256),\n",
        "    transforms.RandomResizedCrop(224),\n",
        "    transforms.RandomHorizontalFlip(),\n",
        "    transforms.RandomRotation(15),\n",
        "    transforms.ColorJitter(brightness=0.2, contrast=0.2, saturation=0.2),\n",
        "    transforms.ToTensor(),\n",
        "    transforms.Normalize((0.485, 0.456, 0.406),(0.229, 0.224, 0.225)),\n",
        "])"
      ]
    },
    {
      "cell_type": "code",
      "execution_count": null,
      "metadata": {
        "id": "UCZj9QJwIOqR"
      },
      "outputs": [],
      "source": [
        "val_test_transform = transforms.Compose([\n",
        "    transforms.Resize(256),\n",
        "    transforms.CenterCrop(224),\n",
        "    transforms.ToTensor(),\n",
        "    transforms.Normalize((0.485, 0.456, 0.406),(0.229, 0.224, 0.225)),\n",
        "])"
      ]
    },
    {
      "cell_type": "code",
      "execution_count": null,
      "metadata": {
        "colab": {
          "base_uri": "https://localhost:8080/"
        },
        "id": "ufYTDD-oIuYj",
        "outputId": "404da928-44b1-4173-ff6b-f0daf9ea9a75"
      },
      "outputs": [
        {
          "name": "stdout",
          "output_type": "stream",
          "text": [
            "Loading dataset...\n",
            "\n",
            "Total images: 1838\n",
            "Number of classes: 5\n",
            "Class names: ['Adenocarcinoma', 'High-grade IN', 'Low-grade IN', 'Normal', 'Polyp']\n",
            "Class-to-index mapping: {'Adenocarcinoma': 0, 'High-grade IN': 1, 'Low-grade IN': 2, 'Normal': 3, 'Polyp': 4}\n",
            "\n",
            "Initialized.\n"
          ]
        }
      ],
      "source": [
        "tci = TumorClassificationImproved(data_path, train_transform, val_test_transform)\n",
        "tci.split_dataset()\n",
        "tci.prepare_dataloaders()"
      ]
    },
    {
      "cell_type": "code",
      "execution_count": null,
      "metadata": {
        "id": "djd6hI8UI3dI"
      },
      "outputs": [],
      "source": [
        "# Load pretrained model\n",
        "model = models.vgg16(weights=VGG16_Weights.IMAGENET1K_V1)\n",
        "# Freeze feature extractor layers\n",
        "for param in model.features.parameters():\n",
        "  param.requires_grad = False\n",
        "model.classifier[6] = nn.Linear(4096, 5) # adjust final layer for ImageNet\n",
        "tci.init_model(model)"
      ]
    },
    {
      "cell_type": "code",
      "execution_count": null,
      "metadata": {
        "colab": {
          "base_uri": "https://localhost:8080/"
        },
        "id": "uly76au4JNFx",
        "outputId": "a63327a0-ca79-4547-9422-ffd3900a03e0"
      },
      "outputs": [
        {
          "name": "stderr",
          "output_type": "stream",
          "text": [
            "/usr/local/lib/python3.11/dist-packages/torch/optim/lr_scheduler.py:62: UserWarning: The verbose parameter is deprecated. Please use get_last_lr() to access the learning rate.\n",
            "  warnings.warn(\n"
          ]
        }
      ],
      "source": [
        "optimizer = optim.Adam(model.classifier.parameters(), lr=0.00005)\n",
        "scheduler = torch.optim.lr_scheduler.ReduceLROnPlateau(\n",
        "    optimizer,\n",
        "    mode='max',\n",
        "    factor=0.5,\n",
        "    patience=2,\n",
        "    verbose=True\n",
        ")"
      ]
    },
    {
      "cell_type": "code",
      "execution_count": null,
      "metadata": {
        "colab": {
          "base_uri": "https://localhost:8080/",
          "height": 796
        },
        "collapsed": true,
        "id": "6CxUWCOuJOEZ",
        "outputId": "f4e1ba0a-d8fd-4c94-e9ab-6fdbf453e83a"
      },
      "outputs": [
        {
          "name": "stdout",
          "output_type": "stream",
          "text": [
            "Epoch 1, Avg Loss: 0.5677, Train Accuracy: 0.8313\n",
            "Validation Accuracy: 0.7855\n",
            "Epoch 2, Avg Loss: 0.5008, Train Accuracy: 0.7908\n",
            "Validation Accuracy: 0.8036\n",
            "Epoch 3, Avg Loss: 0.5138, Train Accuracy: 0.8196\n",
            "Validation Accuracy: 0.8073\n",
            "Epoch 4, Avg Loss: 0.4856, Train Accuracy: 0.8087\n",
            "Validation Accuracy: 0.8073\n",
            "Epoch 5, Avg Loss: 0.4860, Train Accuracy: 0.8266\n",
            "Validation Accuracy: 0.8073\n",
            "Epoch 6, Avg Loss: 0.4875, Train Accuracy: 0.7978\n",
            "Validation Accuracy: 0.8073\n",
            "Epoch 7, Avg Loss: 0.4584, Train Accuracy: 0.8305\n",
            "Validation Accuracy: 0.8109\n",
            "Epoch 8, Avg Loss: 0.4933, Train Accuracy: 0.8087\n",
            "Validation Accuracy: 0.8145\n",
            "Epoch 9, Avg Loss: 0.4605, Train Accuracy: 0.8173\n",
            "Validation Accuracy: 0.8109\n",
            "Epoch 10, Avg Loss: 0.4793, Train Accuracy: 0.8328\n",
            "Validation Accuracy: 0.7927\n",
            "Epoch 11, Avg Loss: 0.5436, Train Accuracy: 0.7862\n",
            "Validation Accuracy: 0.8109\n"
          ]
        },
        {
          "ename": "KeyboardInterrupt",
          "evalue": "",
          "output_type": "error",
          "traceback": [
            "\u001b[0;31m---------------------------------------------------------------------------\u001b[0m",
            "\u001b[0;31mKeyboardInterrupt\u001b[0m                         Traceback (most recent call last)",
            "\u001b[0;32m<ipython-input-27-da1d05431819>\u001b[0m in \u001b[0;36m<cell line: 0>\u001b[0;34m()\u001b[0m\n\u001b[0;32m----> 1\u001b[0;31m tci.train_model(\n\u001b[0m\u001b[1;32m      2\u001b[0m   \u001b[0;34m'./drive/MyDrive/Models/vgg16_improved_EBHI_mag_200.pth'\u001b[0m\u001b[0;34m,\u001b[0m\u001b[0;34m\u001b[0m\u001b[0;34m\u001b[0m\u001b[0m\n\u001b[1;32m      3\u001b[0m   \u001b[0;34m'./drive/MyDrive/Models/vgg16_improved_metrics_EBHI_mag_200.csv'\u001b[0m\u001b[0;34m,\u001b[0m\u001b[0;34m\u001b[0m\u001b[0;34m\u001b[0m\u001b[0m\n\u001b[1;32m      4\u001b[0m   \u001b[0mepochs\u001b[0m \u001b[0;34m=\u001b[0m \u001b[0;36m20\u001b[0m\u001b[0;34m,\u001b[0m\u001b[0;34m\u001b[0m\u001b[0;34m\u001b[0m\u001b[0m\n\u001b[1;32m      5\u001b[0m   \u001b[0mlr\u001b[0m \u001b[0;34m=\u001b[0m \u001b[0;36m0.00005\u001b[0m\u001b[0;34m,\u001b[0m\u001b[0;34m\u001b[0m\u001b[0;34m\u001b[0m\u001b[0m\n",
            "\u001b[0;32m<ipython-input-9-2d6f08b7fdb6>\u001b[0m in \u001b[0;36mtrain_model\u001b[0;34m(self, weights_save_path, matrics_save_path, epochs, lr, criterion, optimizer, scheduler)\u001b[0m\n\u001b[1;32m     98\u001b[0m       \u001b[0mrunning_loss\u001b[0m \u001b[0;34m=\u001b[0m \u001b[0;36m0.0\u001b[0m\u001b[0;34m\u001b[0m\u001b[0;34m\u001b[0m\u001b[0m\n\u001b[1;32m     99\u001b[0m       \u001b[0mcorrect\u001b[0m \u001b[0;34m=\u001b[0m \u001b[0;36m0\u001b[0m\u001b[0;34m\u001b[0m\u001b[0;34m\u001b[0m\u001b[0m\n\u001b[0;32m--> 100\u001b[0;31m       \u001b[0;32mfor\u001b[0m \u001b[0mimages\u001b[0m\u001b[0;34m,\u001b[0m \u001b[0mlabels\u001b[0m \u001b[0;32min\u001b[0m \u001b[0mself\u001b[0m\u001b[0;34m.\u001b[0m\u001b[0mtrain_dataloader\u001b[0m\u001b[0;34m:\u001b[0m\u001b[0;34m\u001b[0m\u001b[0;34m\u001b[0m\u001b[0m\n\u001b[0m\u001b[1;32m    101\u001b[0m         \u001b[0mimages\u001b[0m\u001b[0;34m,\u001b[0m \u001b[0mlabels\u001b[0m \u001b[0;34m=\u001b[0m \u001b[0mimages\u001b[0m\u001b[0;34m.\u001b[0m\u001b[0mto\u001b[0m\u001b[0;34m(\u001b[0m\u001b[0mself\u001b[0m\u001b[0;34m.\u001b[0m\u001b[0mdevice\u001b[0m\u001b[0;34m)\u001b[0m\u001b[0;34m,\u001b[0m \u001b[0mlabels\u001b[0m\u001b[0;34m.\u001b[0m\u001b[0mto\u001b[0m\u001b[0;34m(\u001b[0m\u001b[0mself\u001b[0m\u001b[0;34m.\u001b[0m\u001b[0mdevice\u001b[0m\u001b[0;34m)\u001b[0m\u001b[0;34m\u001b[0m\u001b[0;34m\u001b[0m\u001b[0m\n\u001b[1;32m    102\u001b[0m \u001b[0;34m\u001b[0m\u001b[0m\n",
            "\u001b[0;32m/usr/local/lib/python3.11/dist-packages/torch/utils/data/dataloader.py\u001b[0m in \u001b[0;36m__next__\u001b[0;34m(self)\u001b[0m\n\u001b[1;32m    699\u001b[0m                 \u001b[0;31m# TODO(https://github.com/pytorch/pytorch/issues/76750)\u001b[0m\u001b[0;34m\u001b[0m\u001b[0;34m\u001b[0m\u001b[0m\n\u001b[1;32m    700\u001b[0m                 \u001b[0mself\u001b[0m\u001b[0;34m.\u001b[0m\u001b[0m_reset\u001b[0m\u001b[0;34m(\u001b[0m\u001b[0;34m)\u001b[0m  \u001b[0;31m# type: ignore[call-arg]\u001b[0m\u001b[0;34m\u001b[0m\u001b[0;34m\u001b[0m\u001b[0m\n\u001b[0;32m--> 701\u001b[0;31m             \u001b[0mdata\u001b[0m \u001b[0;34m=\u001b[0m \u001b[0mself\u001b[0m\u001b[0;34m.\u001b[0m\u001b[0m_next_data\u001b[0m\u001b[0;34m(\u001b[0m\u001b[0;34m)\u001b[0m\u001b[0;34m\u001b[0m\u001b[0;34m\u001b[0m\u001b[0m\n\u001b[0m\u001b[1;32m    702\u001b[0m             \u001b[0mself\u001b[0m\u001b[0;34m.\u001b[0m\u001b[0m_num_yielded\u001b[0m \u001b[0;34m+=\u001b[0m \u001b[0;36m1\u001b[0m\u001b[0;34m\u001b[0m\u001b[0;34m\u001b[0m\u001b[0m\n\u001b[1;32m    703\u001b[0m             if (\n",
            "\u001b[0;32m/usr/local/lib/python3.11/dist-packages/torch/utils/data/dataloader.py\u001b[0m in \u001b[0;36m_next_data\u001b[0;34m(self)\u001b[0m\n\u001b[1;32m    755\u001b[0m     \u001b[0;32mdef\u001b[0m \u001b[0m_next_data\u001b[0m\u001b[0;34m(\u001b[0m\u001b[0mself\u001b[0m\u001b[0;34m)\u001b[0m\u001b[0;34m:\u001b[0m\u001b[0;34m\u001b[0m\u001b[0;34m\u001b[0m\u001b[0m\n\u001b[1;32m    756\u001b[0m         \u001b[0mindex\u001b[0m \u001b[0;34m=\u001b[0m \u001b[0mself\u001b[0m\u001b[0;34m.\u001b[0m\u001b[0m_next_index\u001b[0m\u001b[0;34m(\u001b[0m\u001b[0;34m)\u001b[0m  \u001b[0;31m# may raise StopIteration\u001b[0m\u001b[0;34m\u001b[0m\u001b[0;34m\u001b[0m\u001b[0m\n\u001b[0;32m--> 757\u001b[0;31m         \u001b[0mdata\u001b[0m \u001b[0;34m=\u001b[0m \u001b[0mself\u001b[0m\u001b[0;34m.\u001b[0m\u001b[0m_dataset_fetcher\u001b[0m\u001b[0;34m.\u001b[0m\u001b[0mfetch\u001b[0m\u001b[0;34m(\u001b[0m\u001b[0mindex\u001b[0m\u001b[0;34m)\u001b[0m  \u001b[0;31m# may raise StopIteration\u001b[0m\u001b[0;34m\u001b[0m\u001b[0;34m\u001b[0m\u001b[0m\n\u001b[0m\u001b[1;32m    758\u001b[0m         \u001b[0;32mif\u001b[0m \u001b[0mself\u001b[0m\u001b[0;34m.\u001b[0m\u001b[0m_pin_memory\u001b[0m\u001b[0;34m:\u001b[0m\u001b[0;34m\u001b[0m\u001b[0;34m\u001b[0m\u001b[0m\n\u001b[1;32m    759\u001b[0m             \u001b[0mdata\u001b[0m \u001b[0;34m=\u001b[0m \u001b[0m_utils\u001b[0m\u001b[0;34m.\u001b[0m\u001b[0mpin_memory\u001b[0m\u001b[0;34m.\u001b[0m\u001b[0mpin_memory\u001b[0m\u001b[0;34m(\u001b[0m\u001b[0mdata\u001b[0m\u001b[0;34m,\u001b[0m \u001b[0mself\u001b[0m\u001b[0;34m.\u001b[0m\u001b[0m_pin_memory_device\u001b[0m\u001b[0;34m)\u001b[0m\u001b[0;34m\u001b[0m\u001b[0;34m\u001b[0m\u001b[0m\n",
            "\u001b[0;32m/usr/local/lib/python3.11/dist-packages/torch/utils/data/_utils/fetch.py\u001b[0m in \u001b[0;36mfetch\u001b[0;34m(self, possibly_batched_index)\u001b[0m\n\u001b[1;32m     50\u001b[0m                 \u001b[0mdata\u001b[0m \u001b[0;34m=\u001b[0m \u001b[0mself\u001b[0m\u001b[0;34m.\u001b[0m\u001b[0mdataset\u001b[0m\u001b[0;34m.\u001b[0m\u001b[0m__getitems__\u001b[0m\u001b[0;34m(\u001b[0m\u001b[0mpossibly_batched_index\u001b[0m\u001b[0;34m)\u001b[0m\u001b[0;34m\u001b[0m\u001b[0;34m\u001b[0m\u001b[0m\n\u001b[1;32m     51\u001b[0m             \u001b[0;32melse\u001b[0m\u001b[0;34m:\u001b[0m\u001b[0;34m\u001b[0m\u001b[0;34m\u001b[0m\u001b[0m\n\u001b[0;32m---> 52\u001b[0;31m                 \u001b[0mdata\u001b[0m \u001b[0;34m=\u001b[0m \u001b[0;34m[\u001b[0m\u001b[0mself\u001b[0m\u001b[0;34m.\u001b[0m\u001b[0mdataset\u001b[0m\u001b[0;34m[\u001b[0m\u001b[0midx\u001b[0m\u001b[0;34m]\u001b[0m \u001b[0;32mfor\u001b[0m \u001b[0midx\u001b[0m \u001b[0;32min\u001b[0m \u001b[0mpossibly_batched_index\u001b[0m\u001b[0;34m]\u001b[0m\u001b[0;34m\u001b[0m\u001b[0;34m\u001b[0m\u001b[0m\n\u001b[0m\u001b[1;32m     53\u001b[0m         \u001b[0;32melse\u001b[0m\u001b[0;34m:\u001b[0m\u001b[0;34m\u001b[0m\u001b[0;34m\u001b[0m\u001b[0m\n\u001b[1;32m     54\u001b[0m             \u001b[0mdata\u001b[0m \u001b[0;34m=\u001b[0m \u001b[0mself\u001b[0m\u001b[0;34m.\u001b[0m\u001b[0mdataset\u001b[0m\u001b[0;34m[\u001b[0m\u001b[0mpossibly_batched_index\u001b[0m\u001b[0;34m]\u001b[0m\u001b[0;34m\u001b[0m\u001b[0;34m\u001b[0m\u001b[0m\n",
            "\u001b[0;32m/usr/local/lib/python3.11/dist-packages/torch/utils/data/_utils/fetch.py\u001b[0m in \u001b[0;36m<listcomp>\u001b[0;34m(.0)\u001b[0m\n\u001b[1;32m     50\u001b[0m                 \u001b[0mdata\u001b[0m \u001b[0;34m=\u001b[0m \u001b[0mself\u001b[0m\u001b[0;34m.\u001b[0m\u001b[0mdataset\u001b[0m\u001b[0;34m.\u001b[0m\u001b[0m__getitems__\u001b[0m\u001b[0;34m(\u001b[0m\u001b[0mpossibly_batched_index\u001b[0m\u001b[0;34m)\u001b[0m\u001b[0;34m\u001b[0m\u001b[0;34m\u001b[0m\u001b[0m\n\u001b[1;32m     51\u001b[0m             \u001b[0;32melse\u001b[0m\u001b[0;34m:\u001b[0m\u001b[0;34m\u001b[0m\u001b[0;34m\u001b[0m\u001b[0m\n\u001b[0;32m---> 52\u001b[0;31m                 \u001b[0mdata\u001b[0m \u001b[0;34m=\u001b[0m \u001b[0;34m[\u001b[0m\u001b[0mself\u001b[0m\u001b[0;34m.\u001b[0m\u001b[0mdataset\u001b[0m\u001b[0;34m[\u001b[0m\u001b[0midx\u001b[0m\u001b[0;34m]\u001b[0m \u001b[0;32mfor\u001b[0m \u001b[0midx\u001b[0m \u001b[0;32min\u001b[0m \u001b[0mpossibly_batched_index\u001b[0m\u001b[0;34m]\u001b[0m\u001b[0;34m\u001b[0m\u001b[0;34m\u001b[0m\u001b[0m\n\u001b[0m\u001b[1;32m     53\u001b[0m         \u001b[0;32melse\u001b[0m\u001b[0;34m:\u001b[0m\u001b[0;34m\u001b[0m\u001b[0;34m\u001b[0m\u001b[0m\n\u001b[1;32m     54\u001b[0m             \u001b[0mdata\u001b[0m \u001b[0;34m=\u001b[0m \u001b[0mself\u001b[0m\u001b[0;34m.\u001b[0m\u001b[0mdataset\u001b[0m\u001b[0;34m[\u001b[0m\u001b[0mpossibly_batched_index\u001b[0m\u001b[0;34m]\u001b[0m\u001b[0;34m\u001b[0m\u001b[0;34m\u001b[0m\u001b[0m\n",
            "\u001b[0;32m<ipython-input-8-a16eaf8e87b9>\u001b[0m in \u001b[0;36m__getitem__\u001b[0;34m(self, index)\u001b[0m\n\u001b[1;32m      6\u001b[0m   \u001b[0;32mdef\u001b[0m \u001b[0m__getitem__\u001b[0m\u001b[0;34m(\u001b[0m\u001b[0mself\u001b[0m\u001b[0;34m,\u001b[0m \u001b[0mindex\u001b[0m\u001b[0;34m)\u001b[0m\u001b[0;34m:\u001b[0m\u001b[0;34m\u001b[0m\u001b[0;34m\u001b[0m\u001b[0m\n\u001b[1;32m      7\u001b[0m     \u001b[0mx\u001b[0m\u001b[0;34m,\u001b[0m \u001b[0my\u001b[0m \u001b[0;34m=\u001b[0m \u001b[0mself\u001b[0m\u001b[0;34m.\u001b[0m\u001b[0msubset\u001b[0m\u001b[0;34m[\u001b[0m\u001b[0mindex\u001b[0m\u001b[0;34m]\u001b[0m\u001b[0;34m\u001b[0m\u001b[0;34m\u001b[0m\u001b[0m\n\u001b[0;32m----> 8\u001b[0;31m     \u001b[0mx\u001b[0m \u001b[0;34m=\u001b[0m \u001b[0mself\u001b[0m\u001b[0;34m.\u001b[0m\u001b[0mtransform\u001b[0m\u001b[0;34m(\u001b[0m\u001b[0mx\u001b[0m\u001b[0;34m)\u001b[0m\u001b[0;34m\u001b[0m\u001b[0;34m\u001b[0m\u001b[0m\n\u001b[0m\u001b[1;32m      9\u001b[0m     \u001b[0;32mreturn\u001b[0m \u001b[0mx\u001b[0m\u001b[0;34m,\u001b[0m \u001b[0my\u001b[0m\u001b[0;34m\u001b[0m\u001b[0;34m\u001b[0m\u001b[0m\n\u001b[1;32m     10\u001b[0m \u001b[0;34m\u001b[0m\u001b[0m\n",
            "\u001b[0;32m/usr/local/lib/python3.11/dist-packages/torchvision/transforms/transforms.py\u001b[0m in \u001b[0;36m__call__\u001b[0;34m(self, img)\u001b[0m\n\u001b[1;32m     93\u001b[0m     \u001b[0;32mdef\u001b[0m \u001b[0m__call__\u001b[0m\u001b[0;34m(\u001b[0m\u001b[0mself\u001b[0m\u001b[0;34m,\u001b[0m \u001b[0mimg\u001b[0m\u001b[0;34m)\u001b[0m\u001b[0;34m:\u001b[0m\u001b[0;34m\u001b[0m\u001b[0;34m\u001b[0m\u001b[0m\n\u001b[1;32m     94\u001b[0m         \u001b[0;32mfor\u001b[0m \u001b[0mt\u001b[0m \u001b[0;32min\u001b[0m \u001b[0mself\u001b[0m\u001b[0;34m.\u001b[0m\u001b[0mtransforms\u001b[0m\u001b[0;34m:\u001b[0m\u001b[0;34m\u001b[0m\u001b[0;34m\u001b[0m\u001b[0m\n\u001b[0;32m---> 95\u001b[0;31m             \u001b[0mimg\u001b[0m \u001b[0;34m=\u001b[0m \u001b[0mt\u001b[0m\u001b[0;34m(\u001b[0m\u001b[0mimg\u001b[0m\u001b[0;34m)\u001b[0m\u001b[0;34m\u001b[0m\u001b[0;34m\u001b[0m\u001b[0m\n\u001b[0m\u001b[1;32m     96\u001b[0m         \u001b[0;32mreturn\u001b[0m \u001b[0mimg\u001b[0m\u001b[0;34m\u001b[0m\u001b[0;34m\u001b[0m\u001b[0m\n\u001b[1;32m     97\u001b[0m \u001b[0;34m\u001b[0m\u001b[0m\n",
            "\u001b[0;32m/usr/local/lib/python3.11/dist-packages/torch/nn/modules/module.py\u001b[0m in \u001b[0;36m_wrapped_call_impl\u001b[0;34m(self, *args, **kwargs)\u001b[0m\n\u001b[1;32m   1734\u001b[0m             \u001b[0;32mreturn\u001b[0m \u001b[0mself\u001b[0m\u001b[0;34m.\u001b[0m\u001b[0m_compiled_call_impl\u001b[0m\u001b[0;34m(\u001b[0m\u001b[0;34m*\u001b[0m\u001b[0margs\u001b[0m\u001b[0;34m,\u001b[0m \u001b[0;34m**\u001b[0m\u001b[0mkwargs\u001b[0m\u001b[0;34m)\u001b[0m  \u001b[0;31m# type: ignore[misc]\u001b[0m\u001b[0;34m\u001b[0m\u001b[0;34m\u001b[0m\u001b[0m\n\u001b[1;32m   1735\u001b[0m         \u001b[0;32melse\u001b[0m\u001b[0;34m:\u001b[0m\u001b[0;34m\u001b[0m\u001b[0;34m\u001b[0m\u001b[0m\n\u001b[0;32m-> 1736\u001b[0;31m             \u001b[0;32mreturn\u001b[0m \u001b[0mself\u001b[0m\u001b[0;34m.\u001b[0m\u001b[0m_call_impl\u001b[0m\u001b[0;34m(\u001b[0m\u001b[0;34m*\u001b[0m\u001b[0margs\u001b[0m\u001b[0;34m,\u001b[0m \u001b[0;34m**\u001b[0m\u001b[0mkwargs\u001b[0m\u001b[0;34m)\u001b[0m\u001b[0;34m\u001b[0m\u001b[0;34m\u001b[0m\u001b[0m\n\u001b[0m\u001b[1;32m   1737\u001b[0m \u001b[0;34m\u001b[0m\u001b[0m\n\u001b[1;32m   1738\u001b[0m     \u001b[0;31m# torchrec tests the code consistency with the following code\u001b[0m\u001b[0;34m\u001b[0m\u001b[0;34m\u001b[0m\u001b[0m\n",
            "\u001b[0;32m/usr/local/lib/python3.11/dist-packages/torch/nn/modules/module.py\u001b[0m in \u001b[0;36m_call_impl\u001b[0;34m(self, *args, **kwargs)\u001b[0m\n\u001b[1;32m   1745\u001b[0m                 \u001b[0;32mor\u001b[0m \u001b[0m_global_backward_pre_hooks\u001b[0m \u001b[0;32mor\u001b[0m \u001b[0m_global_backward_hooks\u001b[0m\u001b[0;34m\u001b[0m\u001b[0;34m\u001b[0m\u001b[0m\n\u001b[1;32m   1746\u001b[0m                 or _global_forward_hooks or _global_forward_pre_hooks):\n\u001b[0;32m-> 1747\u001b[0;31m             \u001b[0;32mreturn\u001b[0m \u001b[0mforward_call\u001b[0m\u001b[0;34m(\u001b[0m\u001b[0;34m*\u001b[0m\u001b[0margs\u001b[0m\u001b[0;34m,\u001b[0m \u001b[0;34m**\u001b[0m\u001b[0mkwargs\u001b[0m\u001b[0;34m)\u001b[0m\u001b[0;34m\u001b[0m\u001b[0;34m\u001b[0m\u001b[0m\n\u001b[0m\u001b[1;32m   1748\u001b[0m \u001b[0;34m\u001b[0m\u001b[0m\n\u001b[1;32m   1749\u001b[0m         \u001b[0mresult\u001b[0m \u001b[0;34m=\u001b[0m \u001b[0;32mNone\u001b[0m\u001b[0;34m\u001b[0m\u001b[0;34m\u001b[0m\u001b[0m\n",
            "\u001b[0;32m/usr/local/lib/python3.11/dist-packages/torchvision/transforms/transforms.py\u001b[0m in \u001b[0;36mforward\u001b[0;34m(self, img)\u001b[0m\n\u001b[1;32m    352\u001b[0m             \u001b[0mPIL\u001b[0m \u001b[0mImage\u001b[0m \u001b[0;32mor\u001b[0m \u001b[0mTensor\u001b[0m\u001b[0;34m:\u001b[0m \u001b[0mRescaled\u001b[0m \u001b[0mimage\u001b[0m\u001b[0;34m.\u001b[0m\u001b[0;34m\u001b[0m\u001b[0;34m\u001b[0m\u001b[0m\n\u001b[1;32m    353\u001b[0m         \"\"\"\n\u001b[0;32m--> 354\u001b[0;31m         \u001b[0;32mreturn\u001b[0m \u001b[0mF\u001b[0m\u001b[0;34m.\u001b[0m\u001b[0mresize\u001b[0m\u001b[0;34m(\u001b[0m\u001b[0mimg\u001b[0m\u001b[0;34m,\u001b[0m \u001b[0mself\u001b[0m\u001b[0;34m.\u001b[0m\u001b[0msize\u001b[0m\u001b[0;34m,\u001b[0m \u001b[0mself\u001b[0m\u001b[0;34m.\u001b[0m\u001b[0minterpolation\u001b[0m\u001b[0;34m,\u001b[0m \u001b[0mself\u001b[0m\u001b[0;34m.\u001b[0m\u001b[0mmax_size\u001b[0m\u001b[0;34m,\u001b[0m \u001b[0mself\u001b[0m\u001b[0;34m.\u001b[0m\u001b[0mantialias\u001b[0m\u001b[0;34m)\u001b[0m\u001b[0;34m\u001b[0m\u001b[0;34m\u001b[0m\u001b[0m\n\u001b[0m\u001b[1;32m    355\u001b[0m \u001b[0;34m\u001b[0m\u001b[0m\n\u001b[1;32m    356\u001b[0m     \u001b[0;32mdef\u001b[0m \u001b[0m__repr__\u001b[0m\u001b[0;34m(\u001b[0m\u001b[0mself\u001b[0m\u001b[0;34m)\u001b[0m \u001b[0;34m->\u001b[0m \u001b[0mstr\u001b[0m\u001b[0;34m:\u001b[0m\u001b[0;34m\u001b[0m\u001b[0;34m\u001b[0m\u001b[0m\n",
            "\u001b[0;32m/usr/local/lib/python3.11/dist-packages/torchvision/transforms/functional.py\u001b[0m in \u001b[0;36mresize\u001b[0;34m(img, size, interpolation, max_size, antialias)\u001b[0m\n\u001b[1;32m    475\u001b[0m             \u001b[0mwarnings\u001b[0m\u001b[0;34m.\u001b[0m\u001b[0mwarn\u001b[0m\u001b[0;34m(\u001b[0m\u001b[0;34m\"Anti-alias option is always applied for PIL Image input. Argument antialias is ignored.\"\u001b[0m\u001b[0;34m)\u001b[0m\u001b[0;34m\u001b[0m\u001b[0;34m\u001b[0m\u001b[0m\n\u001b[1;32m    476\u001b[0m         \u001b[0mpil_interpolation\u001b[0m \u001b[0;34m=\u001b[0m \u001b[0mpil_modes_mapping\u001b[0m\u001b[0;34m[\u001b[0m\u001b[0minterpolation\u001b[0m\u001b[0;34m]\u001b[0m\u001b[0;34m\u001b[0m\u001b[0;34m\u001b[0m\u001b[0m\n\u001b[0;32m--> 477\u001b[0;31m         \u001b[0;32mreturn\u001b[0m \u001b[0mF_pil\u001b[0m\u001b[0;34m.\u001b[0m\u001b[0mresize\u001b[0m\u001b[0;34m(\u001b[0m\u001b[0mimg\u001b[0m\u001b[0;34m,\u001b[0m \u001b[0msize\u001b[0m\u001b[0;34m=\u001b[0m\u001b[0moutput_size\u001b[0m\u001b[0;34m,\u001b[0m \u001b[0minterpolation\u001b[0m\u001b[0;34m=\u001b[0m\u001b[0mpil_interpolation\u001b[0m\u001b[0;34m)\u001b[0m\u001b[0;34m\u001b[0m\u001b[0;34m\u001b[0m\u001b[0m\n\u001b[0m\u001b[1;32m    478\u001b[0m \u001b[0;34m\u001b[0m\u001b[0m\n\u001b[1;32m    479\u001b[0m     \u001b[0;32mreturn\u001b[0m \u001b[0mF_t\u001b[0m\u001b[0;34m.\u001b[0m\u001b[0mresize\u001b[0m\u001b[0;34m(\u001b[0m\u001b[0mimg\u001b[0m\u001b[0;34m,\u001b[0m \u001b[0msize\u001b[0m\u001b[0;34m=\u001b[0m\u001b[0moutput_size\u001b[0m\u001b[0;34m,\u001b[0m \u001b[0minterpolation\u001b[0m\u001b[0;34m=\u001b[0m\u001b[0minterpolation\u001b[0m\u001b[0;34m.\u001b[0m\u001b[0mvalue\u001b[0m\u001b[0;34m,\u001b[0m \u001b[0mantialias\u001b[0m\u001b[0;34m=\u001b[0m\u001b[0mantialias\u001b[0m\u001b[0;34m)\u001b[0m\u001b[0;34m\u001b[0m\u001b[0;34m\u001b[0m\u001b[0m\n",
            "\u001b[0;32m/usr/local/lib/python3.11/dist-packages/torchvision/transforms/_functional_pil.py\u001b[0m in \u001b[0;36mresize\u001b[0;34m(img, size, interpolation)\u001b[0m\n\u001b[1;32m    248\u001b[0m         \u001b[0;32mraise\u001b[0m \u001b[0mTypeError\u001b[0m\u001b[0;34m(\u001b[0m\u001b[0;34mf\"Got inappropriate size arg: {size}\"\u001b[0m\u001b[0;34m)\u001b[0m\u001b[0;34m\u001b[0m\u001b[0;34m\u001b[0m\u001b[0m\n\u001b[1;32m    249\u001b[0m \u001b[0;34m\u001b[0m\u001b[0m\n\u001b[0;32m--> 250\u001b[0;31m     \u001b[0;32mreturn\u001b[0m \u001b[0mimg\u001b[0m\u001b[0;34m.\u001b[0m\u001b[0mresize\u001b[0m\u001b[0;34m(\u001b[0m\u001b[0mtuple\u001b[0m\u001b[0;34m(\u001b[0m\u001b[0msize\u001b[0m\u001b[0;34m[\u001b[0m\u001b[0;34m:\u001b[0m\u001b[0;34m:\u001b[0m\u001b[0;34m-\u001b[0m\u001b[0;36m1\u001b[0m\u001b[0;34m]\u001b[0m\u001b[0;34m)\u001b[0m\u001b[0;34m,\u001b[0m \u001b[0minterpolation\u001b[0m\u001b[0;34m)\u001b[0m\u001b[0;34m\u001b[0m\u001b[0;34m\u001b[0m\u001b[0m\n\u001b[0m\u001b[1;32m    251\u001b[0m \u001b[0;34m\u001b[0m\u001b[0m\n\u001b[1;32m    252\u001b[0m \u001b[0;34m\u001b[0m\u001b[0m\n",
            "\u001b[0;32m/usr/local/lib/python3.11/dist-packages/PIL/Image.py\u001b[0m in \u001b[0;36mresize\u001b[0;34m(self, size, resample, box, reducing_gap)\u001b[0m\n\u001b[1;32m   2354\u001b[0m                 )\n\u001b[1;32m   2355\u001b[0m \u001b[0;34m\u001b[0m\u001b[0m\n\u001b[0;32m-> 2356\u001b[0;31m         \u001b[0;32mreturn\u001b[0m \u001b[0mself\u001b[0m\u001b[0;34m.\u001b[0m\u001b[0m_new\u001b[0m\u001b[0;34m(\u001b[0m\u001b[0mself\u001b[0m\u001b[0;34m.\u001b[0m\u001b[0mim\u001b[0m\u001b[0;34m.\u001b[0m\u001b[0mresize\u001b[0m\u001b[0;34m(\u001b[0m\u001b[0msize\u001b[0m\u001b[0;34m,\u001b[0m \u001b[0mresample\u001b[0m\u001b[0;34m,\u001b[0m \u001b[0mbox\u001b[0m\u001b[0;34m)\u001b[0m\u001b[0;34m)\u001b[0m\u001b[0;34m\u001b[0m\u001b[0;34m\u001b[0m\u001b[0m\n\u001b[0m\u001b[1;32m   2357\u001b[0m \u001b[0;34m\u001b[0m\u001b[0m\n\u001b[1;32m   2358\u001b[0m     def reduce(\n",
            "\u001b[0;31mKeyboardInterrupt\u001b[0m: "
          ]
        }
      ],
      "source": [
        "tci.train_model(\n",
        "  './drive/MyDrive/Models/vgg16_improved_EBHI_mag_200.pth',\n",
        "  './drive/MyDrive/Models/vgg16_improved_metrics_EBHI_mag_200.csv',\n",
        "  epochs = 20,\n",
        "  lr = 0.00005,\n",
        "  criterion = nn.CrossEntropyLoss(weight=tci.get_class_weights()),\n",
        "  optimizer = optimizer,\n",
        "  scheduler = scheduler\n",
        "  )"
      ]
    },
    {
      "cell_type": "markdown",
      "metadata": {
        "id": "KPc6IEslJvxz"
      },
      "source": [
        "### Voting Ensemble"
      ]
    },
    {
      "cell_type": "code",
      "execution_count": 9,
      "metadata": {
        "id": "Ni8jz2nMFmug"
      },
      "outputs": [],
      "source": [
        "import torch.nn.functional as F\n",
        "import torchvision.models"
      ]
    },
    {
      "cell_type": "code",
      "execution_count": 10,
      "metadata": {
        "id": "Y3gHlY4ldvU0"
      },
      "outputs": [],
      "source": [
        "import torch\n",
        "import torch.nn.functional as F\n",
        "from sklearn.metrics import accuracy_score, precision_score, recall_score, f1_score, confusion_matrix\n",
        "import seaborn as sns\n",
        "import matplotlib.pyplot as plt\n",
        "import numpy as np"
      ]
    },
    {
      "cell_type": "code",
      "execution_count": 53,
      "metadata": {
        "id": "gtUhhZJ1KAFM"
      },
      "outputs": [],
      "source": [
        "import torch\n",
        "class ModelEnsemble:\n",
        "  def __init__(self, models, device):\n",
        "    self.models = models\n",
        "    self.device = device\n",
        "    for model in self.models:\n",
        "        model.to(self.device)\n",
        "        model.eval()\n",
        "\n",
        "  def predict(self, images):\n",
        "    # Initialize a list to hold the softmax probabilities for each model\n",
        "    all_probs = []\n",
        "    # Get predictions from all models\n",
        "    for model in self.models:\n",
        "        outputs = model(images)\n",
        "        probs = F.softmax(outputs, dim=1)\n",
        "        all_probs.append(probs)\n",
        "    # Average the probabilities across all models\n",
        "    ensemble_probs = torch.mean(torch.stack(all_probs), dim=0)\n",
        "    # Get the predicted labels by taking the class with the highest probability\n",
        "    _, preds = torch.max(ensemble_probs, 1)\n",
        "    return preds, ensemble_probs\n",
        "\n",
        "  def plot_confM(self):\n",
        "    plt.figure(figsize=(8, 6))\n",
        "    sns.heatmap(self.conf_matrix, annot=True, fmt='d', cmap='Blues',\n",
        "                xticklabels=['Adenocarcinoma', 'High-grade IN', 'Low-grade IN', 'Normal', 'Polyp'],\n",
        "                yticklabels=['Adenocarcinoma', 'High-grade IN', 'Low-grade IN', 'Normal', 'Polyp'])\n",
        "    plt.xlabel('Predicted Labels')\n",
        "    plt.ylabel('True Labels')\n",
        "    plt.title('Confusion Matrix of Proposed Method')\n",
        "    plt.tight_layout()\n",
        "    plt.show()\n",
        "\n",
        "  def evaluate(self, dataloader):\n",
        "    correct = 0\n",
        "    total = 0\n",
        "\n",
        "    all_preds = []\n",
        "    all_labels = []\n",
        "    all_probs = []\n",
        "\n",
        "    # Track the accuracy of each individual base model\n",
        "    base_model_accuracies = []\n",
        "\n",
        "    with torch.no_grad():\n",
        "      # Iterate through the dataloader\n",
        "      for images, labels in dataloader:\n",
        "        images, labels = images.to(self.device), labels.to(self.device)\n",
        "\n",
        "        # Get predictions from the ensemble\n",
        "        preds, probs = self.predict(images)\n",
        "        all_probs.extend(probs.cpu().numpy())\n",
        "\n",
        "        # Collect predictions and ground truth labels\n",
        "        all_preds.extend(preds.cpu().numpy())\n",
        "        all_labels.extend(labels.cpu().numpy())\n",
        "\n",
        "        # Count correct predictions for the ensemble\n",
        "        correct += (preds == labels).sum().item()\n",
        "        total += labels.size(0)\n",
        "\n",
        "        # Now calculate the accuracy for each base model\n",
        "        for model in self.models:\n",
        "          outputs = model(images)\n",
        "          _, base_preds = torch.max(outputs, 1)\n",
        "          model_accuracy = (base_preds == labels).sum().item() / labels.size(0)\n",
        "          base_model_accuracies.append(model_accuracy)\n",
        "\n",
        "    # Calculate the ensemble accuracy\n",
        "    accuracy = correct / total\n",
        "    print(f\"Ensemble Test Accuracy: {accuracy:.4f}\")\n",
        "\n",
        "    # Calculate and print base model accuracies\n",
        "    num_models = len(self.models)\n",
        "    base_model_accuracies = torch.tensor(base_model_accuracies).reshape(-1, num_models)\n",
        "    base_model_accuracies = base_model_accuracies.mean(dim=0)  # Average accuracy for each model\n",
        "\n",
        "    print(\"\\nBase Model Test Accuracies:\")\n",
        "    for idx, model_accuracy in enumerate(base_model_accuracies):\n",
        "      print(f\"Model {idx + 1} Accuracy: {model_accuracy:.4f}\")\n",
        "\n",
        "    self.precision = precision_score(all_labels, all_preds, average='macro')\n",
        "    self.recall = recall_score(all_labels, all_preds, average='macro')\n",
        "    self.f1 = f1_score(all_labels, all_preds, average='macro')\n",
        "    self.conf_matrix = confusion_matrix(all_labels, all_preds)\n",
        "\n",
        "    print(f\"\\nPrecision: {self.precision:.4f}\")\n",
        "    print(f\"Recall: {self.recall:.4f}\")\n",
        "    print(f\"F1-Score: {self.f1:.4f}\")\n",
        "    print(f\"\\nConfusion Matrix:\\n{self.conf_matrix}\")\n",
        "\n",
        "    return accuracy, all_probs, base_model_accuracies"
      ]
    },
    {
      "cell_type": "code",
      "execution_count": 54,
      "metadata": {
        "colab": {
          "base_uri": "https://localhost:8080/"
        },
        "id": "BZPVlyk08Jrq",
        "outputId": "7603c482-183f-4682-a137-acb65abbe1dc"
      },
      "outputs": [
        {
          "data": {
            "text/plain": [
              "<All keys matched successfully>"
            ]
          },
          "execution_count": 54,
          "metadata": {},
          "output_type": "execute_result"
        }
      ],
      "source": [
        "# load model 1\n",
        "class CustomClassifier(nn.Module):\n",
        "  def __init__(self, input_features=2048, num_classes=5):\n",
        "    super(CustomClassifier, self).__init__()\n",
        "    self.classifier = nn.Sequential(\n",
        "      nn.Linear(input_features, 512),\n",
        "      nn.ReLU(),\n",
        "      nn.Dropout(0.5),\n",
        "      nn.Linear(512, 128),\n",
        "      nn.ReLU(),\n",
        "      nn.Dropout(0.5),\n",
        "      nn.Linear(128, num_classes)\n",
        "    )\n",
        "\n",
        "  def forward(self, x):\n",
        "    return self.classifier(x)\n",
        "model1 = torchvision.models.resnet50()\n",
        "model1.fc = CustomClassifier(2048, 5)\n",
        "model1.load_state_dict(torch.load('./drive/MyDrive/Models/resnet_improved_EBHI_mag_200.pth'))"
      ]
    },
    {
      "cell_type": "code",
      "execution_count": 55,
      "metadata": {
        "colab": {
          "base_uri": "https://localhost:8080/"
        },
        "id": "U1twxxTl9VLK",
        "outputId": "17c06a39-96f5-4384-ee69-753577ced07f"
      },
      "outputs": [
        {
          "data": {
            "text/plain": [
              "<All keys matched successfully>"
            ]
          },
          "execution_count": 55,
          "metadata": {},
          "output_type": "execute_result"
        }
      ],
      "source": [
        "# load model 2\n",
        "model2 = torchvision.models.alexnet()\n",
        "model2.classifier[6] = nn.Linear(4096, 5)\n",
        "model2.load_state_dict(torch.load('./drive/MyDrive/Models/alexnet_improved_EBHI_mag_200.pth'))"
      ]
    },
    {
      "cell_type": "code",
      "execution_count": 56,
      "metadata": {
        "colab": {
          "base_uri": "https://localhost:8080/"
        },
        "id": "G4PssbzO-FV3",
        "outputId": "448e7108-f39f-44c1-d64f-0e4060d796ee"
      },
      "outputs": [
        {
          "data": {
            "text/plain": [
              "<All keys matched successfully>"
            ]
          },
          "execution_count": 56,
          "metadata": {},
          "output_type": "execute_result"
        }
      ],
      "source": [
        "# load model 3 - trained by IgleEgrous\n",
        "model3 = torchvision.models.vgg16()\n",
        "model3.classifier = nn.Sequential(\n",
        "  nn.Linear(512*7*7, 4096),\n",
        "  nn.ReLU(True),\n",
        "  nn.Dropout(0.5),\n",
        "  nn.Linear(4096, 4096),\n",
        "  nn.ReLU(True),\n",
        "  nn.Dropout(0.5),\n",
        "  nn.Linear(4096, 5)\n",
        ")\n",
        "model3.load_state_dict(torch.load('./drive/MyDrive/Models/best_model_vgg16.pth'))"
      ]
    },
    {
      "cell_type": "code",
      "execution_count": 57,
      "metadata": {
        "colab": {
          "base_uri": "https://localhost:8080/"
        },
        "id": "T-FfACIEC7Z1",
        "outputId": "121b8dab-e7b8-45e5-f9aa-5d4e450bc233"
      },
      "outputs": [
        {
          "name": "stdout",
          "output_type": "stream",
          "text": [
            "Loading dataset...\n",
            "\n",
            "Dataset Loaded.\n",
            "\n",
            "Total images: 1838\n",
            "Number of classes: 5\n",
            "Class names: ['Adenocarcinoma', 'High-grade IN', 'Low-grade IN', 'Normal', 'Polyp']\n",
            "Class-to-index mapping: {'Adenocarcinoma': 0, 'High-grade IN': 1, 'Low-grade IN': 2, 'Normal': 3, 'Polyp': 4}\n",
            "\n",
            "Initialized.\n"
          ]
        }
      ],
      "source": [
        "# Prepare test dataloader\n",
        "transform = transforms.Compose([\n",
        "    transforms.Resize(256),\n",
        "    transforms.CenterCrop(224),\n",
        "    transforms.ToTensor(),\n",
        "    transforms.Normalize((0.485, 0.456, 0.406),(0.229, 0.224, 0.225))\n",
        "])\n",
        "tc = TumorClassification(data_path,transform)\n",
        "tc.split_dataset()\n",
        "tc.prepare_dataloaders()\n",
        "test_dataloader = tc.test_dataloader"
      ]
    },
    {
      "cell_type": "code",
      "execution_count": 58,
      "metadata": {
        "id": "mPH6M2Io77oh"
      },
      "outputs": [],
      "source": [
        "# Assuming you have three trained models: model1, model2, model3\n",
        "models = [model1,model2,model3]\n",
        "device = torch.device(\"cuda\" if torch.cuda.is_available() else \"cpu\")\n",
        "# Create the ensemble\n",
        "ensemble = ModelEnsemble(models, device)"
      ]
    },
    {
      "cell_type": "code",
      "execution_count": 59,
      "metadata": {
        "colab": {
          "base_uri": "https://localhost:8080/"
        },
        "collapsed": true,
        "id": "DFJClatEEbQx",
        "outputId": "fc978bf7-726b-406e-a02b-3460f6d53ece"
      },
      "outputs": [
        {
          "name": "stdout",
          "output_type": "stream",
          "text": [
            "Ensemble Test Accuracy: 0.9102\n",
            "\n",
            "Base Model Test Accuracies:\n",
            "Model 1 Accuracy: 0.8594\n",
            "Model 2 Accuracy: 0.8477\n",
            "Model 3 Accuracy: 0.8672\n",
            "\n",
            "Precision: 0.8674\n",
            "Recall: 0.7959\n",
            "F1-Score: 0.8083\n",
            "\n",
            "Confusion Matrix:\n",
            "[[116   3   0   0   0]\n",
            " [  3  12   1   0   0]\n",
            " [  0   4  69   0   4]\n",
            " [  0   1   2   4   2]\n",
            " [  0   0   3   0  32]]\n"
          ]
        }
      ],
      "source": [
        "test_accuracy, prob_distributions_ensemble, base_test_accuracy = ensemble.evaluate(test_dataloader)"
      ]
    },
    {
      "cell_type": "code",
      "execution_count": 60,
      "metadata": {
        "colab": {
          "base_uri": "https://localhost:8080/",
          "height": 607
        },
        "collapsed": true,
        "id": "j_JwrWuvotM5",
        "outputId": "06910292-7f90-485d-c701-f261d0d16053"
      },
      "outputs": [
        {
          "data": {
            "image/png": "[encoded data removed]",
            "text/plain": [
              "<Figure size 800x600 with 2 Axes>"
            ]
          },
          "metadata": {},
          "output_type": "display_data"
        }
      ],
      "source": [
        "ensemble.plot_confM()"
      ]
    },
    {
      "cell_type": "markdown",
      "metadata": {
        "id": "lJk9jtgmr_kk"
      },
      "source": [
        "## Result"
      ]
    },
    {
      "cell_type": "markdown",
      "metadata": {
        "id": "78MZfx6IzRvO"
      },
      "source": [
        "Please see the [repository](https://github.com/wny-unsw/TumorDifferentiationStageClassification) and this notebook for details of our result."
      ]
    },
    {
      "cell_type": "code",
      "execution_count": 66,
      "metadata": {
        "colab": {
          "base_uri": "https://localhost:8080/",
          "height": 564
        },
        "id": "wZkSkYhkovfU",
        "outputId": "b636eba6-1f6d-48e7-d002-1b42045070e3"
      },
      "outputs": [
        {
          "data": {
            "image/png": "[encoded data removed]",
            "text/plain": [
              "<Figure size 1000x600 with 1 Axes>"
            ]
          },
          "metadata": {},
          "output_type": "display_data"
        }
      ],
      "source": [
        "def plot_overall_accuracy():\n",
        "  models = [\n",
        "      'MLP', 'KNN', 'SVM',\n",
        "      'VGG16', 'AlexNet', 'GoogLeNet', 'DenseNet161', 'ResNet50', 'MobileNet',\n",
        "      'Improved Resnet50', 'Improved Alexnet', 'Improved VGG16',\n",
        "      'Proposed Method'\n",
        "      ]\n",
        "  acc = [\n",
        "      .3102,.4064,.4439,\n",
        "      .7963,.8145,.7782,.8034,.8036,.64,\n",
        "      .8594,.8477,.8672,\n",
        "      .9102\n",
        "      ]\n",
        "\n",
        "  # Define colors\n",
        "  normal_color = '#d8a6a6'\n",
        "  emphasis_color = '#c46666'\n",
        "  strong_emphasis_color = '#a00000'\n",
        "\n",
        "  # Create a list of colors based on the position in the list\n",
        "  colors = []\n",
        "  for i in range(len(models)):\n",
        "    if i < 9:\n",
        "      colors.append(normal_color)\n",
        "    elif 9 <= i <= 11:\n",
        "      colors.append(emphasis_color)\n",
        "    else:\n",
        "      colors.append(strong_emphasis_color)\n",
        "\n",
        "  # Plotting\n",
        "  plt.figure(figsize=(10, 6))\n",
        "  plt.barh(models, acc, color=colors)\n",
        "\n",
        "  # Add labels and title\n",
        "  plt.xlabel('Accuracy')\n",
        "  plt.title('Model Accuracy Comparison')\n",
        "\n",
        "  # Show plot\n",
        "  plt.show()\n",
        "plot_overall_accuracy()"
      ]
    }
  ],
  "metadata": {
    "accelerator": "GPU",
    "colab": {
      "authorship_tag": "ABX9TyMe7zXQLM8lmADQMJjsGu/3",
      "collapsed_sections": [
        "aESoqbmBIZDm",
        "EuhYF_-hN-bW",
        "4VgZapieTLlz",
        "YkhCLaf2XKax",
        "0SvRqwCgh94D",
        "l1Re1iPgl_BN",
        "e-UlmxP64sfd",
        "kOjvmEMao2Ck",
        "9uusN4fNmmNu",
        "F_4rtzS8HlKK"
      ],
      "gpuType": "T4",
      "include_colab_link": true,
      "machine_shape": "hm",
      "mount_file_id": "1lnsuDKl5GkhzkYi234Ag8acARdG28a0z",
      "provenance": [],
      "toc_visible": true
    },
    "kernelspec": {
      "display_name": "Python 3",
      "name": "python3"
    },
    "language_info": {
      "name": "python"
    }
  },
  "nbformat": 4,
  "nbformat_minor": 0
}
